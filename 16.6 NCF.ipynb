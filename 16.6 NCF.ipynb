{
 "cells": [
  {
   "cell_type": "code",
   "execution_count": 1,
   "metadata": {},
   "outputs": [],
   "source": [
    "import os\n",
    "import pandas as pd\n",
    "import numpy as np\n",
    "import random\n",
    "\n",
    "import zipfile\n",
    "from urllib import request\n",
    "\n",
    "from torch.utils.data import Dataset, DataLoader\n",
    "import torch\n",
    "from torch import nn\n",
    "from torchvision import transforms"
   ]
  },
  {
   "cell_type": "code",
   "execution_count": 2,
   "metadata": {},
   "outputs": [],
   "source": [
    "class NeuMF(nn.Module):\n",
    "    def __init__(self, num_factors, num_users, num_items, nums_hiddens,\n",
    "                **kwargs):\n",
    "        super(NeuMF, self).__init__(**kwargs)\n",
    "        self.P = nn.Embedding(num_users, num_factors) # GMF의 user\n",
    "        self.Q = nn.Embedding(num_items, num_factors) # GMF의 item\n",
    "        self.U = nn.Embedding(num_users, num_factors) # MLP의 user\n",
    "        self.V = nn.Embedding(num_items, num_factors) # MLP의 item\n",
    "        layers = []\n",
    "        before_layer = num_factors*2\n",
    "        for num_hiddens in nums_hiddens: \n",
    "            layers.append(nn.Linear(before_layer, num_hiddens, bias=True))\n",
    "            layers.append(nn.ReLU())\n",
    "            before_layer = num_hiddens\n",
    "        self.mlp = nn.Sequential(*layers)\n",
    "        self.prediction_layer = nn.Linear(before_layer*2, 1, bias=False)\n",
    "\n",
    "    def forward(self, user_id, item_id):\n",
    "        p_mf = self.P(user_id)\n",
    "        q_mf = self.Q(item_id)\n",
    "        gmf = p_mf * q_mf\n",
    "        p_mlp = self.U(user_id)\n",
    "        q_mlp = self.V(item_id) # [2, 1, 10] (batch, 1, 10) 사이즈\n",
    "        mlp = self.mlp(torch.cat((torch.squeeze(p_mlp, 1) , torch.squeeze(p_mlp, 1)), dim=1)) # (batch size, 20) -> (batch_size, 10)\n",
    "        con_res = torch.cat((torch.squeeze(gmf), mlp), dim=1)\n",
    "        pred = self.prediction_layer(con_res)\n",
    "        return nn.Sigmoid()(pred) # sigmoid node는 1, 0~1사이의 값"
   ]
  },
  {
   "cell_type": "code",
   "execution_count": 3,
   "metadata": {},
   "outputs": [],
   "source": [
    "class PRDataset(Dataset):\n",
    "    \"\"\"\n",
    "    user id, 구매한 item id, 구매하지않은 item id\n",
    "    \"\"\"\n",
    "    def __init__(self, users, items, candidates, num_items):\n",
    "        self.users = users\n",
    "        self.items = items\n",
    "        self.cand = candidates\n",
    "        self.all = set([i for i in range(num_items)]) \n",
    "\n",
    "    def __len__(self):\n",
    "        return len(self.users)\n",
    "\n",
    "    def __getitem__(self, idx):\n",
    "        # 해당 인덱스의 고객이 구매한 아이템을 제외한 전체 아이템\n",
    "        neg_items = list(self.all - set(self.cand[int(self.users[idx])]))\n",
    "        indices = random.randint(0, len(neg_items) - 1)\n",
    "        return self.users[idx], self.items[idx], neg_items[indices]"
   ]
  },
  {
   "cell_type": "code",
   "execution_count": 4,
   "metadata": {},
   "outputs": [],
   "source": [
    "def download_ml100k():\n",
    "    # download\n",
    "    url = \"http://files.grouplens.org/datasets/movielens/ml-100k.zip\"\n",
    "    savename = \"ml-100k.zip\"\n",
    "    request.urlretrieve(url, savename)\n",
    "    print('Complete!')\n",
    "    # unzip\n",
    "    file_name = os.path.join('./', savename)\n",
    "    file_zip = zipfile.ZipFile(file_name)\n",
    "    file_zip.extractall('./')\n",
    "    file_zip.close()\n",
    "\n",
    "def read_data_ml100k():\n",
    "    \"\"\"\n",
    "    데이터를 다운받고, dataframe형태의 data, user id목록, itme id 목록 반환\n",
    "    \"\"\"\n",
    "    if not os.path.isfile(os.path.join('./ml-100k/', 'u.data')):\n",
    "        print('Download ...')\n",
    "        download_ml100k()\n",
    "    names = ['user_id', 'item_id', 'rating', 'timestamp']\n",
    "    data = pd.read_csv(os.path.join('./ml-100k/', 'u.data'), '\\t', names=names,\n",
    "                       engine='python')\n",
    "    num_users = data.user_id.unique().shape[0]\n",
    "    num_items = data.item_id.unique().shape[0]\n",
    "    return data, num_users, num_items"
   ]
  },
  {
   "cell_type": "code",
   "execution_count": 5,
   "metadata": {},
   "outputs": [],
   "source": [
    "def load_data_ml100k(data, num_users, num_items, feedback='explicit'):\n",
    "    \"\"\"\n",
    "    과정은 정확히 이해안되는데 user id, item id, score, 유저-아이템 행렬 반환\n",
    "    explicit 일때는 유저 아이템 행렬\n",
    "    implicit 일때는 key : (유저), val : (유저가 구매한 아이템의 리스트)로 하는 dict \n",
    "    \"\"\"\n",
    "    users, items, scores = [], [], []\n",
    "    inter = np.zeros((num_items, num_users)) if feedback == 'explicit' else {}\n",
    "    for line in data.itertuples():\n",
    "        user_index, item_index = int(line[1] - 1), int(line[2] - 1)\n",
    "        score = int(line[3]) if feedback == 'explicit' else 1\n",
    "        users.append(user_index)\n",
    "        items.append(item_index)\n",
    "        scores.append(score)\n",
    "        if feedback == 'implicit':\n",
    "            inter.setdefault(user_index, []).append(item_index)\n",
    "        else:\n",
    "            inter[item_index, user_index] = score\n",
    "    return users, items, scores, inter"
   ]
  },
  {
   "cell_type": "code",
   "execution_count": 6,
   "metadata": {},
   "outputs": [],
   "source": [
    "def split_data_ml100k(data, num_users, num_items,\n",
    "                      split_mode='random', test_ratio=0.1):\n",
    "    \"\"\"Split the dataset in random mode or seq-aware mode.\"\"\"\n",
    "    if split_mode == 'seq-aware':\n",
    "        train_items, test_items, train_list = {}, {}, []\n",
    "        for line in data.itertuples():\n",
    "            u, i, rating, time = line[1], line[2], line[3], line[4]\n",
    "            train_items.setdefault(u, []).append((u, i, rating, time))\n",
    "            if u not in test_items or test_items[u][-1] < time:\n",
    "                test_items[u] = (i, rating, time)\n",
    "        for u in range(1, num_users + 1):\n",
    "            train_list.extend(sorted(train_items[u], key=lambda k: k[3]))\n",
    "        test_data = [(key, *value) for key, value in test_items.items()]\n",
    "        train_data = [item for item in train_list if item not in test_data]\n",
    "        train_data = pd.DataFrame(train_data)\n",
    "        test_data = pd.DataFrame(test_data)\n",
    "    else:\n",
    "        mask = [True if x == 1 else False for x in np.random.uniform(\n",
    "            0, 1, (len(data))) < 1 - test_ratio]\n",
    "        neg_mask = [not x for x in mask]\n",
    "        train_data, test_data = data[mask], data[neg_mask]\n",
    "    return train_data, test_data"
   ]
  },
  {
   "cell_type": "code",
   "execution_count": 7,
   "metadata": {},
   "outputs": [
    {
     "name": "stderr",
     "output_type": "stream",
     "text": [
      "C:\\Users\\jiwoo\\AppData\\Local\\Temp\\ipykernel_28460\\2959204376.py:2: FutureWarning: In a future version of pandas all arguments of read_csv except for the argument 'filepath_or_buffer' will be keyword-only.\n",
      "  df, num_users, num_items = read_data_ml100k()\n"
     ]
    }
   ],
   "source": [
    "batch_size = 50\n",
    "df, num_users, num_items = read_data_ml100k()\n",
    "train_data, test_data = split_data_ml100k(df, num_users, num_items,\n",
    "                                              'seq-aware')\n",
    "users_train, items_train, ratings_train, candidates = load_data_ml100k(\n",
    "    train_data, num_users, num_items, feedback=\"implicit\")\n",
    "users_test, items_test, ratings_test, test_candidates = load_data_ml100k(\n",
    "    test_data, num_users, num_items, feedback=\"implicit\")\n",
    "\n",
    "\n",
    "train_iter = DataLoader(\n",
    "    PRDataset(users_train, items_train, candidates, num_items), batch_size=batch_size)\n",
    "\n",
    "test_iter = DataLoader(\n",
    "    PRDataset(users_test, items_test, test_candidates, num_items), batch_size=batch_size)"
   ]
  },
  {
   "cell_type": "code",
   "execution_count": 8,
   "metadata": {},
   "outputs": [
    {
     "name": "stdout",
     "output_type": "stream",
     "text": [
      "3\n"
     ]
    }
   ],
   "source": [
    "batch = next(iter(train_iter)) # user, pos, neg\n",
    "print(len(batch))"
   ]
  },
  {
   "cell_type": "code",
   "execution_count": 9,
   "metadata": {},
   "outputs": [],
   "source": [
    "device = torch.device('cuda' if torch.cuda.is_available() else 'cpu')\n",
    "model = NeuMF(num_factors=10, num_users=num_users, num_items=num_items, nums_hiddens=[10, 10, 10])\n",
    "model = model.to(device)"
   ]
  },
  {
   "cell_type": "code",
   "execution_count": 10,
   "metadata": {},
   "outputs": [],
   "source": [
    "class BPRLoss(nn.Module):\n",
    "    def __init__(self, **kwargs):\n",
    "        super(BPRLoss, self).__init__(**kwargs)\n",
    "        self.sigmoid = nn.Sigmoid()\n",
    "\n",
    "    def forward(self, positive, negative):\n",
    "        distances = positive - negative\n",
    "        loss = - torch.sum(torch.log(self.sigmoid(distances)))\n",
    "        return loss"
   ]
  },
  {
   "cell_type": "code",
   "execution_count": 12,
   "metadata": {},
   "outputs": [],
   "source": [
    "class ArrayDataset(Dataset):\n",
    "  \"\"\"\n",
    "  for array input dataset\n",
    "  \"\"\"\n",
    "  def __init__(self, user_array, item_array):\n",
    "    self.user_array = user_array\n",
    "    self.item_array = item_array\n",
    "\n",
    "  def __len__(self):\n",
    "    return len(self.user_array)\n",
    "\n",
    "  def __getitem__(self, idx):\n",
    "    return int(self.user_array[idx]), int(self.item_array[idx])"
   ]
  },
  {
   "cell_type": "code",
   "execution_count": 11,
   "metadata": {},
   "outputs": [],
   "source": [
    "def hit_and_auc(rankedlist, test_matrix, k):\n",
    "    \"\"\"\n",
    "    rankedlist : \n",
    "    test_matrix : test candidates(key = 유저, val = 유저가 구매한 아이템의 리스트인 dict)\n",
    "    k : top k\n",
    "    \"\"\"\n",
    "    hits_k = [(idx, val) for idx, val in enumerate(rankedlist[:k])\n",
    "              if val in set(test_matrix)]\n",
    "    hits_all = [(idx, val) for idx, val in enumerate(rankedlist)\n",
    "                if val in set(test_matrix)]\n",
    "    max = len(rankedlist) - 1\n",
    "    auc = 1.0 * (max - hits_all[0][0]) / max if len(hits_all) > 0 else 0\n",
    "    return len(hits_k), auc"
   ]
  },
  {
   "cell_type": "code",
   "execution_count": 13,
   "metadata": {},
   "outputs": [],
   "source": [
    "def evaluate_ranking(model, test_input, seq, candidates, num_users, num_items,\n",
    "                     devices):\n",
    "    \"\"\"\n",
    "    test input : test candidates(key = 유저, val = 유저가 구매한 아이템의 리스트인 dict)\n",
    "    seq : None\n",
    "    candidates : train_candidates 즉 train data의 candidates(key = 유저, val = 유저가 구매한 아이템의 리스트인 dict)\n",
    "    num_users : user수\n",
    "    num_items : item수\n",
    "    \"\"\"\n",
    "    ranked_list, ranked_items, hit_rate, auc = {}, {}, [], []\n",
    "    all_items = set([i for i in range(num_users)])\n",
    "    for u in range(num_users):\n",
    "        neg_items = list(all_items - set(candidates[int(u)])) # train data에서 user u가 구매하지 않은 아이템만 모으기\n",
    "        user_ids, item_ids, x, scores = [], [], [], []\n",
    "        [item_ids.append(i) for i in neg_items]\n",
    "        [user_ids.append(u) for _ in neg_items]\n",
    "        x.extend([np.array(user_ids)])\n",
    "        # if seq is not None:\n",
    "        #     x.append(seq[user_ids, :])\n",
    "        x.extend([np.array(item_ids)]) # x =  [user ids array, item ids array]\n",
    "\n",
    "        test_data_iter = DataLoader(\n",
    "            ArrayDataset(*x), shuffle=False, batch_size=20, drop_last=True) # test data iter는 batch size만큼 user ids, item ids 넘겨줌\n",
    "\n",
    "        for index, values in enumerate(test_data_iter): # values : (user batch, item batch)\n",
    "            x = [v.to(device) for v in values] # x = [cuda에 올린 item ids]\n",
    "            scores.extend(model(*x).squeeze().tolist())\n",
    "        item_scores = list(zip(item_ids, scores))\n",
    "        ranked_list[u] = sorted(item_scores, key=lambda t: t[1], reverse=True)\n",
    "        ranked_items[u] = [r[0] for r in ranked_list[u]]\n",
    "        temp = hit_and_auc(ranked_items[u], test_input[u], 50)\n",
    "        hit_rate.append(temp[0])\n",
    "        auc.append(temp[1])\n",
    "    return np.mean(np.array(hit_rate)), np.mean(np.array(auc))\n",
    "\n",
    "# evaluate_ranking(model, test_candidates, None, candidates, num_users, num_items, device)"
   ]
  },
  {
   "cell_type": "code",
   "execution_count": 14,
   "metadata": {},
   "outputs": [],
   "source": [
    "lr, num_epochs, wd, optimizer = 0.01, 10, 1e-5, 'adam'\n",
    "\n",
    "loss_func = BPRLoss()\n",
    "optimizer = torch.optim.Adam(model.parameters(), lr = lr, weight_decay=wd)"
   ]
  },
  {
   "cell_type": "code",
   "execution_count": 15,
   "metadata": {},
   "outputs": [
    {
     "name": "stderr",
     "output_type": "stream",
     "text": [
      "  0%|          | 0/10 [00:00<?, ?it/s]"
     ]
    },
    {
     "name": "stdout",
     "output_type": "stream",
     "text": [
      "0 epoch 0th train iter loss: 33.91693115234375\n",
      "0 epoch 500th train iter loss: 34.65715408325195\n",
      "0 epoch 1000th train iter loss: 34.48773956298828\n",
      "0 epoch 1500th train iter loss: 29.469369888305664\n",
      "0 epoch ALL LOSS :  33.02827084918556\n"
     ]
    },
    {
     "name": "stderr",
     "output_type": "stream",
     "text": [
      " 10%|█         | 1/10 [01:14<11:11, 74.64s/it]"
     ]
    },
    {
     "name": "stdout",
     "output_type": "stream",
     "text": [
      "New best model AUC : 0.5421340880645977\n",
      "1 epoch 0th train iter loss: 26.31546401977539\n",
      "1 epoch 500th train iter loss: 25.113170623779297\n",
      "1 epoch 1000th train iter loss: 25.698665618896484\n",
      "1 epoch 1500th train iter loss: 24.620702743530273\n",
      "1 epoch ALL LOSS :  26.278117235565762\n"
     ]
    },
    {
     "name": "stderr",
     "output_type": "stream",
     "text": [
      " 20%|██        | 2/10 [02:24<09:35, 71.89s/it]"
     ]
    },
    {
     "name": "stdout",
     "output_type": "stream",
     "text": [
      "New best model AUC : 0.6004511784592712\n",
      "2 epoch 0th train iter loss: 25.77259635925293\n",
      "2 epoch 500th train iter loss: 26.52109718322754\n",
      "2 epoch 1000th train iter loss: 22.930421829223633\n",
      "2 epoch 1500th train iter loss: 24.372390747070312\n",
      "2 epoch ALL LOSS :  24.45318482838774\n"
     ]
    },
    {
     "name": "stderr",
     "output_type": "stream",
     "text": [
      " 30%|███       | 3/10 [03:36<08:22, 71.78s/it]"
     ]
    },
    {
     "name": "stdout",
     "output_type": "stream",
     "text": [
      "New best model AUC : 0.6374743377191534\n",
      "3 epoch 0th train iter loss: 23.953472137451172\n",
      "3 epoch 500th train iter loss: 25.29408836364746\n",
      "3 epoch 1000th train iter loss: 24.678863525390625\n",
      "3 epoch 1500th train iter loss: 24.39584732055664\n",
      "3 epoch ALL LOSS :  23.673089505565155\n"
     ]
    },
    {
     "name": "stderr",
     "output_type": "stream",
     "text": [
      " 40%|████      | 4/10 [04:46<07:06, 71.07s/it]"
     ]
    },
    {
     "name": "stdout",
     "output_type": "stream",
     "text": [
      "New best model AUC : 0.6551231934964316\n",
      "4 epoch 0th train iter loss: 24.000459671020508\n",
      "4 epoch 500th train iter loss: 23.724458694458008\n",
      "4 epoch 1000th train iter loss: 24.86843490600586\n",
      "4 epoch 1500th train iter loss: 25.480470657348633\n",
      "4 epoch ALL LOSS :  23.030886936620796\n"
     ]
    },
    {
     "name": "stderr",
     "output_type": "stream",
     "text": [
      " 50%|█████     | 5/10 [05:56<05:54, 70.90s/it]"
     ]
    },
    {
     "name": "stdout",
     "output_type": "stream",
     "text": [
      "New best model AUC : 0.6682949536452768\n",
      "5 epoch 0th train iter loss: 21.908424377441406\n",
      "5 epoch 500th train iter loss: 22.87909507751465\n",
      "5 epoch 1000th train iter loss: 24.182701110839844\n",
      "5 epoch 1500th train iter loss: 24.608200073242188\n",
      "5 epoch ALL LOSS :  22.73684820818492\n"
     ]
    },
    {
     "name": "stderr",
     "output_type": "stream",
     "text": [
      " 60%|██████    | 6/10 [07:06<04:42, 70.50s/it]"
     ]
    },
    {
     "name": "stdout",
     "output_type": "stream",
     "text": [
      "New best model AUC : 0.6817405883344497\n",
      "6 epoch 0th train iter loss: 20.8261661529541\n",
      "6 epoch 500th train iter loss: 22.16923713684082\n",
      "6 epoch 1000th train iter loss: 22.958641052246094\n",
      "6 epoch 1500th train iter loss: 22.12628173828125\n",
      "6 epoch ALL LOSS :  22.487463559199774\n"
     ]
    },
    {
     "name": "stderr",
     "output_type": "stream",
     "text": [
      " 70%|███████   | 7/10 [08:15<03:30, 70.14s/it]"
     ]
    },
    {
     "name": "stdout",
     "output_type": "stream",
     "text": [
      "7 epoch 0th train iter loss: 20.925212860107422\n",
      "7 epoch 500th train iter loss: 23.09656524658203\n",
      "7 epoch 1000th train iter loss: 24.402027130126953\n",
      "7 epoch 1500th train iter loss: 23.973861694335938\n",
      "7 epoch ALL LOSS :  22.324868025861523\n"
     ]
    },
    {
     "name": "stderr",
     "output_type": "stream",
     "text": [
      " 80%|████████  | 8/10 [09:25<02:19, 69.82s/it]"
     ]
    },
    {
     "name": "stdout",
     "output_type": "stream",
     "text": [
      "New best model AUC : 0.6833002742540302\n",
      "8 epoch 0th train iter loss: 21.694698333740234\n",
      "8 epoch 500th train iter loss: 22.052579879760742\n",
      "8 epoch 1000th train iter loss: 24.79398536682129\n",
      "8 epoch 1500th train iter loss: 23.468334197998047\n",
      "8 epoch ALL LOSS :  22.11294964440054\n"
     ]
    },
    {
     "name": "stderr",
     "output_type": "stream",
     "text": [
      " 90%|█████████ | 9/10 [10:36<01:10, 70.31s/it]"
     ]
    },
    {
     "name": "stdout",
     "output_type": "stream",
     "text": [
      "9 epoch 0th train iter loss: 21.618043899536133\n",
      "9 epoch 500th train iter loss: 23.52237319946289\n",
      "9 epoch 1000th train iter loss: 22.40962028503418\n",
      "9 epoch 1500th train iter loss: 22.45237922668457\n",
      "9 epoch ALL LOSS :  22.036433266943806\n"
     ]
    },
    {
     "name": "stderr",
     "output_type": "stream",
     "text": [
      "100%|██████████| 10/10 [11:47<00:00, 70.77s/it]"
     ]
    },
    {
     "name": "stdout",
     "output_type": "stream",
     "text": [
      "New best model AUC : 0.6891893976027892\n"
     ]
    },
    {
     "name": "stderr",
     "output_type": "stream",
     "text": [
      "\n"
     ]
    }
   ],
   "source": [
    "from tqdm import tqdm\n",
    "import glob\n",
    "import os\n",
    "\n",
    "train_epoch_loss = []\n",
    "val_epoch_loss_lst = []\n",
    "val_epoch_hit_lst = []\n",
    "val_epoch_auc_lst = []\n",
    "best_auc = 0\n",
    "for epoch in tqdm(range(num_epochs)):\n",
    "    train_iter_loss = []\n",
    "    for i, values in enumerate(train_iter):\n",
    "        p_pos = model(values[0].to(device), values[1].to(device)) \n",
    "        p_neg = model(values[0].to(device), values[2].to(device)) \n",
    "        loss = loss_func(p_pos, p_neg)\n",
    "        optimizer.zero_grad()\n",
    "        loss.backward()\n",
    "        optimizer.step()\n",
    "        train_iter_loss.append(loss.detach().item())\n",
    "        if i%500 == 0:\n",
    "            print(f'{epoch} epoch {i}th train iter loss: {loss.detach().item()}')  \n",
    "    train_epoch_loss.append(np.mean(train_iter_loss))\n",
    "    print(f'{epoch} epoch ALL LOSS : ', np.mean(train_iter_loss))\n",
    "\n",
    "    with torch.no_grad():\n",
    "        model.eval()\n",
    "        val_epoch_loss = 0\n",
    "        for i, values in enumerate(test_iter):\n",
    "            p_pos = model(values[0].to(device), values[1].to(device)) \n",
    "            p_neg = model(values[0].to(device), values[2].to(device)) \n",
    "            loss = loss_func(p_pos, p_neg)\n",
    "            val_epoch_loss += loss.detach().item()\n",
    "            \n",
    "        # 모든 val data 돌리고 나서 해당 에폭 loss, hit, auc append\n",
    "        hit, auc = evaluate_ranking(model, test_candidates, None, candidates, num_users, num_items, device)\n",
    "        val_epoch_hit_lst.append(hit)\n",
    "        val_epoch_auc_lst.append(auc)\n",
    "        val_epoch_loss /= len(test_iter)\n",
    "        val_epoch_loss_lst.append(val_epoch_loss)\n",
    "\n",
    "    if auc > best_auc:\n",
    "        best_auc = auc\n",
    "        print(f'New best model AUC : {best_auc}')\n",
    "        if not os.path.exists('ncf_model'):\n",
    "            os.mkdir('ncf_model')\n",
    "\n",
    "        if os.path.exists('ncf_model/best.pth'):\n",
    "            os.remove('ncf_model/best.pth')\n",
    "            torch.save(model.state_dict(), 'ncf_model/best.pth')\n",
    "            print('best model is saved!')\n",
    "\n",
    "    "
   ]
  },
  {
   "cell_type": "code",
   "execution_count": 19,
   "metadata": {},
   "outputs": [
    {
     "data": {
      "text/plain": [
       "<matplotlib.legend.Legend at 0x1ea0ebe1880>"
      ]
     },
     "execution_count": 19,
     "metadata": {},
     "output_type": "execute_result"
    },
    {
     "data": {
      "image/png": "[encoded data removed]",
      "text/plain": [
       "<Figure size 432x288 with 1 Axes>"
      ]
     },
     "metadata": {
      "needs_background": "light"
     },
     "output_type": "display_data"
    }
   ],
   "source": [
    "import matplotlib.pyplot as plt\n",
    "\n",
    "plt.plot(train_epoch_loss, label='train loss')\n",
    "plt.plot(val_epoch_loss_lst, label='val loss')\n",
    "plt.legend()"
   ]
  },
  {
   "cell_type": "code",
   "execution_count": 18,
   "metadata": {},
   "outputs": [
    {
     "data": {
      "text/plain": [
       "<matplotlib.legend.Legend at 0x1ea079d6340>"
      ]
     },
     "execution_count": 18,
     "metadata": {},
     "output_type": "execute_result"
    },
    {
     "data": {
      "image/png": "[encoded data removed]",
      "text/plain": [
       "<Figure size 432x288 with 1 Axes>"
      ]
     },
     "metadata": {
      "needs_background": "light"
     },
     "output_type": "display_data"
    }
   ],
   "source": [
    "plt.plot(val_epoch_hit_lst, label='val hit')\n",
    "plt.plot(val_epoch_auc_lst, label='val auc')\n",
    "plt.legend()"
   ]
  }
 ],
 "metadata": {
  "interpreter": {
   "hash": "93865c8914045f82f1cc4174d5a9f6658a56058b431eb3568707e1e9b23cbcf9"
  },
  "kernelspec": {
   "display_name": "Python 3.9.7 ('bc')",
   "language": "python",
   "name": "python3"
  },
  "language_info": {
   "codemirror_mode": {
    "name": "ipython",
    "version": 3
   },
   "file_extension": ".py",
   "mimetype": "text/x-python",
   "name": "python",
   "nbconvert_exporter": "python",
   "pygments_lexer": "ipython3",
   "version": "3.9.7"
  },
  "orig_nbformat": 4
 },
 "nbformat": 4,
 "nbformat_minor": 2
}
