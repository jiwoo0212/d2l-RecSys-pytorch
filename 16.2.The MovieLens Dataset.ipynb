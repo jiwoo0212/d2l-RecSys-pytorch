{
 "cells": [
  {
   "cell_type": "code",
   "execution_count": 1,
   "metadata": {},
   "outputs": [],
   "source": [
    "import os\n",
    "import pandas as pd\n",
    "import numpy as np\n",
    "\n",
    "import zipfile\n",
    "from urllib import request\n",
    "\n",
    "def download_ml100k():\n",
    "    # download\n",
    "    url = \"http://files.grouplens.org/datasets/movielens/ml-100k.zip\"\n",
    "    savename = \"ml-100k.zip\"\n",
    "    request.urlretrieve(url, savename)\n",
    "    print('저장되었습니다')\n",
    "    # unzip\n",
    "    file_name = os.path.join('./', savename)\n",
    "    file_zip = zipfile.ZipFile(file_name)\n",
    "    file_zip.extractall('./')\n",
    "    file_zip.close()\n",
    "\n",
    "def read_data_ml100k():\n",
    "    names = ['user_id', 'item_id', 'rating', 'timestamp']\n",
    "    data = pd.read_csv(os.path.join('./ml-100k/', 'u.data'), '\\t', names=names,\n",
    "                       engine='python')\n",
    "    num_users = data.user_id.unique().shape[0]\n",
    "    num_items = data.item_id.unique().shape[0]\n",
    "    return data, num_users, num_items"
   ]
  },
  {
   "cell_type": "code",
   "execution_count": 2,
   "metadata": {},
   "outputs": [],
   "source": [
    "# 파일 다운받을 때 한번만 실행\n",
    "download_ml100k()"
   ]
  },
  {
   "cell_type": "code",
   "execution_count": 3,
   "metadata": {},
   "outputs": [
    {
     "name": "stderr",
     "output_type": "stream",
     "text": [
      "/var/folders/3c/k281jc6s6yq4s3qndkn6tw880000gn/T/ipykernel_12291/114522661.py:1: FutureWarning: In a future version of pandas all arguments of read_csv except for the argument 'filepath_or_buffer' will be keyword-only\n",
      "  data, num_users, num_items = read_data_ml100k()\n"
     ]
    },
    {
     "name": "stdout",
     "output_type": "stream",
     "text": [
      "number of users: 943, number of items: 1682\n",
      "matrix sparsity: 0.936953\n",
      "   user_id  item_id  rating  timestamp\n",
      "0      196      242       3  881250949\n",
      "1      186      302       3  891717742\n",
      "2       22      377       1  878887116\n",
      "3      244       51       2  880606923\n",
      "4      166      346       1  886397596\n"
     ]
    }
   ],
   "source": [
    "data, num_users, num_items = read_data_ml100k()\n",
    "sparsity = 1 - len(data) / (num_users * num_items)\n",
    "print(f'number of users: {num_users}, number of items: {num_items}')\n",
    "print(f'matrix sparsity: {sparsity:f}')\n",
    "print(data.head(5))"
   ]
  },
  {
   "cell_type": "code",
   "execution_count": 4,
   "metadata": {},
   "outputs": [
    {
     "data": {
      "image/png": "[encoded data removed]",
      "text/plain": [
       "<Figure size 432x288 with 1 Axes>"
      ]
     },
     "metadata": {
      "needs_background": "light"
     },
     "output_type": "display_data"
    }
   ],
   "source": [
    "import matplotlib.pyplot as plt\n",
    "\n",
    "plt.hist(data['rating'], bins=5, ec='black')\n",
    "plt.xlabel('Rating')\n",
    "plt.ylabel('Count')\n",
    "plt.title('Distribution of Ratings in MovieLens 100K')\n",
    "plt.show()\n",
    "\n"
   ]
  },
  {
   "cell_type": "code",
   "execution_count": 5,
   "metadata": {},
   "outputs": [],
   "source": [
    "def load_data_ml100k(data, num_users, num_items, feedback='explicit'):\n",
    "    users, items, scores = [], [], []\n",
    "    inter = np.zeros((num_items, num_users)) if feedback == 'explicit' else {}\n",
    "    for line in data.itertuples():\n",
    "        user_index, item_index = int(line[1] - 1), int(line[2] - 1)\n",
    "        score = int(line[3]) if feedback == 'explicit' else 1\n",
    "        users.append(user_index)\n",
    "        items.append(item_index)\n",
    "        scores.append(score)\n",
    "        if feedback == 'implicit':\n",
    "            inter.setdefault(user_index, []).append(item_index)\n",
    "        else:\n",
    "            inter[item_index, user_index] = score\n",
    "    return users, items, scores, inter"
   ]
  },
  {
   "cell_type": "code",
   "execution_count": 6,
   "metadata": {},
   "outputs": [],
   "source": [
    "def split_data_ml100k(data, num_users, num_items,\n",
    "                      split_mode='random', test_ratio=0.1):\n",
    "    \"\"\"Split the dataset in random mode or seq-aware mode.\"\"\"\n",
    "    if split_mode == 'seq-aware':\n",
    "        train_items, test_items, train_list = {}, {}, []\n",
    "        for line in data.itertuples():\n",
    "            u, i, rating, time = line[1], line[2], line[3], line[4]\n",
    "            train_items.setdefault(u, []).append((u, i, rating, time))\n",
    "            if u not in test_items or test_items[u][-1] < time:\n",
    "                test_items[u] = (i, rating, time)\n",
    "        for u in range(1, num_users + 1):\n",
    "            train_list.extend(sorted(train_items[u], key=lambda k: k[3]))\n",
    "        test_data = [(key, *value) for key, value in test_items.items()]\n",
    "        train_data = [item for item in train_list if item not in test_data]\n",
    "        train_data = pd.DataFrame(train_data)\n",
    "        test_data = pd.DataFrame(test_data)\n",
    "    else:\n",
    "        mask = [True if x == 1 else False for x in np.random.uniform(\n",
    "            0, 1, (len(data))) < 1 - test_ratio]\n",
    "        neg_mask = [not x for x in mask]\n",
    "        train_data, test_data = data[mask], data[neg_mask]\n",
    "    return train_data, test_data"
   ]
  },
  {
   "cell_type": "code",
   "execution_count": 63,
   "metadata": {},
   "outputs": [],
   "source": [
    "from torch.utils.data import Dataset, DataLoader\n",
    "from torchvision import transforms\n",
    "\n",
    "class ArrayDataset(Dataset):\n",
    "\n",
    "    def __init__(self, user, item, rating, transform=None):\n",
    "        self.user = user\n",
    "        self.item = item\n",
    "        self.rating = rating\n",
    "        self.transform = transform\n",
    "\n",
    "    def __getitem__(self, idx):\n",
    "        arr = np.column_stack((self.user, self.item, self.rating))\n",
    "        if self.transform:\n",
    "            arr = self.transform(arr)\n",
    "        return arr[idx]\n",
    "    \n",
    "    def __len__(self):\n",
    "        return len(self.user)"
   ]
  },
  {
   "cell_type": "code",
   "execution_count": 65,
   "metadata": {},
   "outputs": [],
   "source": [
    "def collate_batch(batch):\n",
    "    batch = np.array(batch)\n",
    "    return batch[:,0], batch[:,1], batch[:,2]"
   ]
  },
  {
   "cell_type": "code",
   "execution_count": 73,
   "metadata": {},
   "outputs": [],
   "source": [
    "#@save\n",
    "def split_and_load_ml100k(split_mode='seq-aware', feedback='explicit',\n",
    "                          test_ratio=0.1, batch_size=256):\n",
    "    data, num_users, num_items = read_data_ml100k()\n",
    "    train_data, test_data = split_data_ml100k(\n",
    "        data, num_users, num_items, split_mode, test_ratio)\n",
    "    train_u, train_i, train_r, _ = load_data_ml100k(\n",
    "        train_data, num_users, num_items, feedback)\n",
    "    test_u, test_i, test_r, _ = load_data_ml100k(\n",
    "        test_data, num_users, num_items, feedback)\n",
    "    train_set = ArrayDataset(\n",
    "        np.array(train_u), np.array(train_i), np.array(train_r))\n",
    "    test_set = ArrayDataset(\n",
    "        np.array(test_u), np.array(test_i), np.array(test_r))\n",
    "    train_iter = DataLoader(\n",
    "        train_set, shuffle=True,\n",
    "        batch_size=batch_size, collate_fn = collate_batch)\n",
    "    test_iter = DataLoader(\n",
    "        test_set, batch_size=batch_size, collate_fn = collate_batch)\n",
    "    return num_users, num_items, train_iter, test_iter"
   ]
  },
  {
   "cell_type": "code",
   "execution_count": 74,
   "metadata": {},
   "outputs": [
    {
     "name": "stderr",
     "output_type": "stream",
     "text": [
      "/var/folders/3c/k281jc6s6yq4s3qndkn6tw880000gn/T/ipykernel_12291/98905734.py:4: FutureWarning: In a future version of pandas all arguments of read_csv except for the argument 'filepath_or_buffer' will be keyword-only\n",
      "  data, num_users, num_items = read_data_ml100k()\n"
     ]
    }
   ],
   "source": [
    "num_users, num_items, train_iter, test_iter = split_and_load_ml100k()"
   ]
  },
  {
   "cell_type": "code",
   "execution_count": 75,
   "metadata": {},
   "outputs": [
    {
     "data": {
      "text/plain": [
       "(array([ 55, 345, 338, 621, 591, 388, 791, 159, 853, 398, 550, 292, 144,\n",
       "        608, 600, 114, 697, 159, 939,   6, 292, 772, 173, 560, 493, 173,\n",
       "        325, 377, 656, 915, 457,  62, 629, 941, 795, 331, 803, 629, 193,\n",
       "        337, 124, 532, 263, 244, 720, 404, 456, 845, 780, 115, 898, 822,\n",
       "        713, 846, 124,  45,  61, 842, 295, 588, 631, 388,  84, 880, 297,\n",
       "        377,  84, 275, 797, 782, 605,  27, 889,   0, 886, 391, 925, 534,\n",
       "        415, 313, 824, 713, 670,   6,  98, 385, 536, 843, 649, 637, 108,\n",
       "        305,  21, 199, 457,  22, 895, 592, 728, 286,  22, 523,  58,  20,\n",
       "        455, 565, 560, 681, 804,  75, 731, 560, 467, 499,  13, 434, 240,\n",
       "        802, 243, 157, 340, 869, 197,  36, 428, 289, 516, 497, 328, 614,\n",
       "        866,  66,  12, 592,   6, 550, 422, 665,  94, 149, 212, 295, 255,\n",
       "         40, 108, 313,  61,  93, 601, 555, 627, 310, 832, 377, 319, 762,\n",
       "        441,  61,  93, 607, 923,  43, 721, 665,  21, 542, 597, 653, 524,\n",
       "        467, 602,   6,  15, 767, 283, 379, 300, 222, 150,  42, 290, 888,\n",
       "        792, 845, 291, 531, 915, 254, 451, 471, 144, 607,  25, 333, 144,\n",
       "        212, 107, 513, 757, 197, 685,  11, 396, 331, 531, 372, 129, 313,\n",
       "        609, 456, 640,  93, 757, 845, 507, 221, 505, 664, 456, 245, 757,\n",
       "        310, 248, 805, 396, 444, 307, 628, 345, 449, 247, 310, 310,  98,\n",
       "        663, 497, 538, 853, 740,  63, 906, 327,  37, 744, 560, 513, 655,\n",
       "        233, 700,  84, 494, 644, 221, 475, 560, 248]),\n",
       " array([  94,  391,  789,  189,  245,  523,  470, 1018,  193,   11,  195,\n",
       "          38,  292,  749,  482,  507,  221,  134,  708,  308,   63,   99,\n",
       "         203,  430,  198,  723,   81,  132,  281,  401,   22,  677,  818,\n",
       "          49,  418,  254,  645,  251,  191,    0,  387,   90,  208, 1032,\n",
       "         680,   67,  247, 1054,   55,  274,  716,    0,  257,   88,  108,\n",
       "         908,  741,  430,  293,  326,  167, 1517,  231,  520,  603,   20,\n",
       "        1064,  217,  708,  287,  587,  152,  229,   85,  253,  345,  244,\n",
       "         777,  430,  671,  684,  476,  450,  541,  545,  120,  769,   82,\n",
       "         430,  409,  264,  274,  683,   55,    7,   13, 1193,  287,  271,\n",
       "         247,  155,  516,  973,   97,   98,   32,   24,  654,  121, 1152,\n",
       "         304,  491,  215,   44,  715,  785,  894,  321,   70,  282,  291,\n",
       "         377,  567,   91, 1015,  497,  310,  120,  173,  628,  197,   24,\n",
       "         342,  163,  650,  692,  303,  194,  472,  324,  508,  149, 1113,\n",
       "         968, 1243,  958,   23,   70,  507,  133,  325, 1221,  435, 1090,\n",
       "         420, 1267,  671,  422,  822,  332,  470,  236,  865,  923,  117,\n",
       "         830,  307,  755,  110,    6,  293,  202,  287,  287,  753,  153,\n",
       "         383, 1283,  392,  236,  945,  596,  256,  786,  251,  548,  234,\n",
       "         405,  473,  688,  976,   82,  275, 1201,  727,  691,   49,   12,\n",
       "         683,  199,  126,  201,  434,   95,  411,   88,   98, 1062,  672,\n",
       "         410,  202,  245,  256,  966,  184,  447,  209,   68,   88,  440,\n",
       "         996,  518,  929,  495,  333, 1527,  179,  136,  258,   62,    0,\n",
       "         414,  509,  814,  226,  473,  235,  430,  402,  196,  709,   54,\n",
       "         246,  274,  616,   48,  343,  282,  285,  392,  506,  652,  805,\n",
       "        1073,  487,    6]),\n",
       " array([4, 3, 2, 4, 5, 5, 4, 5, 3, 3, 5, 3, 4, 4, 4, 5, 4, 4, 5, 3, 5, 4,\n",
       "        4, 2, 4, 5, 3, 5, 3, 3, 4, 2, 3, 5, 5, 4, 4, 2, 5, 3, 2, 2, 5, 5,\n",
       "        3, 1, 4, 3, 3, 2, 1, 4, 4, 2, 3, 5, 2, 3, 1, 3, 4, 2, 3, 4, 5, 3,\n",
       "        3, 4, 5, 3, 5, 3, 3, 5, 4, 4, 3, 2, 4, 5, 4, 2, 4, 4, 4, 3, 3, 5,\n",
       "        3, 4, 5, 4, 3, 4, 4, 4, 3, 4, 4, 5, 3, 4, 3, 5, 3, 2, 2, 5, 5, 2,\n",
       "        2, 4, 5, 4, 5, 4, 2, 2, 4, 5, 5, 3, 3, 4, 4, 4, 3, 2, 4, 4, 5, 4,\n",
       "        1, 4, 5, 5, 4, 3, 4, 1, 4, 1, 4, 4, 3, 3, 4, 4, 3, 5, 5, 3, 2, 2,\n",
       "        4, 5, 3, 3, 3, 4, 4, 3, 4, 2, 4, 2, 4, 4, 4, 3, 4, 5, 3, 4, 3, 3,\n",
       "        5, 1, 2, 4, 4, 3, 4, 4, 3, 5, 3, 1, 3, 4, 3, 5, 4, 4, 2, 4, 4, 3,\n",
       "        4, 4, 5, 4, 4, 5, 2, 5, 5, 5, 4, 3, 4, 4, 5, 3, 5, 3, 5, 5, 5, 3,\n",
       "        4, 3, 2, 5, 3, 2, 5, 5, 2, 4, 3, 3, 4, 2, 3, 4, 3, 3, 5, 3, 4, 4,\n",
       "        5, 1, 4, 2, 4, 3, 4, 4, 4, 5, 4, 4, 4, 5]))"
      ]
     },
     "execution_count": 75,
     "metadata": {},
     "output_type": "execute_result"
    }
   ],
   "source": [
    "next(iter(train_iter))"
   ]
  }
 ],
 "metadata": {
  "interpreter": {
   "hash": "c92d15b9a9b8cb5ba644fec09a984a6c69a4521f32a20ac52a0753ae8a30d984"
  },
  "kernelspec": {
   "display_name": "Python 3.10.0 64-bit ('d2l': conda)",
   "language": "python",
   "name": "python3"
  },
  "language_info": {
   "codemirror_mode": {
    "name": "ipython",
    "version": 3
   },
   "file_extension": ".py",
   "mimetype": "text/x-python",
   "name": "python",
   "nbconvert_exporter": "python",
   "pygments_lexer": "ipython3",
   "version": "3.9.10"
  },
  "orig_nbformat": 4
 },
 "nbformat": 4,
 "nbformat_minor": 2
}
