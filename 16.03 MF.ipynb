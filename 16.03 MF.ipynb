{
 "cells": [
  {
   "cell_type": "code",
   "execution_count": 16,
   "metadata": {},
   "outputs": [],
   "source": [
    "import os\n",
    "import pandas as pd\n",
    "import numpy as np\n",
    "\n",
    "import zipfile\n",
    "from urllib import request\n",
    "\n",
    "from torch.utils.data import Dataset, DataLoader\n",
    "import torch\n",
    "from torch import nn\n",
    "from torchvision import transforms"
   ]
  },
  {
   "cell_type": "code",
   "execution_count": 17,
   "metadata": {},
   "outputs": [],
   "source": [
    "def download_ml100k():\n",
    "    # download\n",
    "    url = \"http://files.grouplens.org/datasets/movielens/ml-100k.zip\"\n",
    "    savename = \"ml-100k.zip\"\n",
    "    request.urlretrieve(url, savename)\n",
    "    print('Complete!')\n",
    "    # unzip\n",
    "    file_name = os.path.join('./', savename)\n",
    "    file_zip = zipfile.ZipFile(file_name)\n",
    "    file_zip.extractall('./')\n",
    "    file_zip.close()\n",
    "\n",
    "def read_data_ml100k():\n",
    "    if not os.path.isfile(os.path.join('./ml-100k/', 'u.data')):\n",
    "        print('Download ...')\n",
    "        download_ml100k()\n",
    "    names = ['user_id', 'item_id', 'rating', 'timestamp']\n",
    "    data = pd.read_csv(os.path.join('./ml-100k/', 'u.data'), '\\t', names=names,\n",
    "                       engine='python')\n",
    "    num_users = data.user_id.unique().shape[0]\n",
    "    num_items = data.item_id.unique().shape[0]\n",
    "    return data, num_users, num_items"
   ]
  },
  {
   "cell_type": "code",
   "execution_count": 18,
   "metadata": {},
   "outputs": [],
   "source": [
    "def load_data_ml100k(data, num_users, num_items, feedback='explicit'):\n",
    "    users, items, scores = [], [], []\n",
    "    inter = np.zeros((num_items, num_users)) if feedback == 'explicit' else {}\n",
    "    for line in data.itertuples():\n",
    "        user_index, item_index = int(line[1] - 1), int(line[2] - 1)\n",
    "        score = int(line[3]) if feedback == 'explicit' else 1\n",
    "        users.append(user_index)\n",
    "        items.append(item_index)\n",
    "        scores.append(score)\n",
    "        if feedback == 'implicit':\n",
    "            inter.setdefault(user_index, []).append(item_index)\n",
    "        else:\n",
    "            inter[item_index, user_index] = score\n",
    "    return users, items, scores, inter"
   ]
  },
  {
   "cell_type": "code",
   "execution_count": 19,
   "metadata": {},
   "outputs": [],
   "source": [
    "def split_data_ml100k(data, num_users, num_items,\n",
    "                      split_mode='random', test_ratio=0.1):\n",
    "    \"\"\"Split the dataset in random mode or seq-aware mode.\"\"\"\n",
    "    if split_mode == 'seq-aware':\n",
    "        train_items, test_items, train_list = {}, {}, []\n",
    "        for line in data.itertuples():\n",
    "            u, i, rating, time = line[1], line[2], line[3], line[4]\n",
    "            train_items.setdefault(u, []).append((u, i, rating, time))\n",
    "            if u not in test_items or test_items[u][-1] < time:\n",
    "                test_items[u] = (i, rating, time)\n",
    "        for u in range(1, num_users + 1):\n",
    "            train_list.extend(sorted(train_items[u], key=lambda k: k[3]))\n",
    "        test_data = [(key, *value) for key, value in test_items.items()]\n",
    "        train_data = [item for item in train_list if item not in test_data]\n",
    "        train_data = pd.DataFrame(train_data)\n",
    "        test_data = pd.DataFrame(test_data)\n",
    "    else:\n",
    "        mask = [True if x == 1 else False for x in np.random.uniform(\n",
    "            0, 1, (len(data))) < 1 - test_ratio]\n",
    "        neg_mask = [not x for x in mask]\n",
    "        train_data, test_data = data[mask], data[neg_mask]\n",
    "    return train_data, test_data"
   ]
  },
  {
   "cell_type": "code",
   "execution_count": 20,
   "metadata": {},
   "outputs": [],
   "source": [
    "class ArrayDataset(Dataset):\n",
    "\n",
    "    def __init__(self, user, item, rating, transform=None):\n",
    "        self.user = user\n",
    "        self.item = item\n",
    "        self.rating = rating\n",
    "        self.transform = transform\n",
    "\n",
    "    def __getitem__(self, idx):\n",
    "        arr = np.column_stack((self.user, self.item, self.rating))\n",
    "        if self.transform:\n",
    "            arr = self.transform(arr)\n",
    "        return torch.Tensor(arr[idx])\n",
    "\n",
    "    def __len__(self):\n",
    "        return len(self.user)"
   ]
  },
  {
   "cell_type": "code",
   "execution_count": 21,
   "metadata": {},
   "outputs": [],
   "source": [
    "def collate_batch(batch):\n",
    "    # print('fn', type(batch), len(batch), batch[0])\n",
    "    # batch는 tensor가 batch size만큼 들어간 리스트\n",
    "    batch = torch.stack(batch)\n",
    "    return batch[:, 0], batch[:, 1], batch[:, 2]"
   ]
  },
  {
   "cell_type": "code",
   "execution_count": 22,
   "metadata": {},
   "outputs": [],
   "source": [
    "def split_and_load_ml100k(split_mode='seq-aware', feedback='explicit',\n",
    "                          test_ratio=0.1, batch_size=256):\n",
    "    data, num_users, num_items = read_data_ml100k()\n",
    "    # df load\n",
    "    train_data, test_data = split_data_ml100k(\n",
    "        data, num_users, num_items, split_mode, test_ratio)\n",
    "    # user, item, rating load\n",
    "    train_u, train_i, train_r, _ = load_data_ml100k(\n",
    "        train_data, num_users, num_items, feedback)\n",
    "    test_u, test_i, test_r, _ = load_data_ml100k(\n",
    "        test_data, num_users, num_items, feedback)\n",
    "    # u,i,r을 묶어서 해당 idx 반환\n",
    "    train_set = ArrayDataset(\n",
    "        np.array(train_u), np.array(train_i), np.array(train_r))\n",
    "    test_set = ArrayDataset(\n",
    "        np.array(test_u), np.array(test_i), np.array(test_r))\n",
    "    # u, i, r를 batch 단위의 tensor로 반환\n",
    "    train_iter = DataLoader(\n",
    "        train_set, shuffle=True,\n",
    "        batch_size=batch_size, \n",
    "        collate_fn=collate_batch\n",
    "        )\n",
    "    test_iter = DataLoader(\n",
    "        test_set, batch_size=batch_size, \n",
    "        collate_fn=collate_batch\n",
    "        )\n",
    "    return num_users, num_items, train_iter, test_iter"
   ]
  },
  {
   "cell_type": "code",
   "execution_count": 23,
   "metadata": {},
   "outputs": [],
   "source": [
    "from torch import nn\n",
    "\n",
    "class MF(nn.Module):\n",
    "    def __init__(self, num_factors, num_users, num_items, **kwargs):\n",
    "        super(MF, self).__init__(**kwargs)\n",
    "        self.P = nn.Embedding(num_users, num_factors)\n",
    "        self.Q = nn.Embedding(num_items, num_factors)\n",
    "        self.user_bias = nn.Embedding(num_users, 1)\n",
    "        self.item_bias = nn.Embedding(num_items, 1)\n",
    "\n",
    "    def forward(self, user_id, item_id):\n",
    "        P_u = self.P(user_id)\n",
    "        Q_i = self.Q(item_id)\n",
    "        b_u = self.user_bias(user_id)\n",
    "        b_i = self.item_bias(item_id)\n",
    "        outputs = (P_u * Q_i).sum(axis=1) + np.squeeze(b_u) + np.squeeze(b_i)\n",
    "        return outputs.flatten()"
   ]
  },
  {
   "cell_type": "code",
   "execution_count": 24,
   "metadata": {},
   "outputs": [],
   "source": [
    "class RMSELoss(torch.nn.Module):\n",
    "    def __init__(self):\n",
    "        super(RMSELoss, self).__init__()\n",
    "\n",
    "    def forward(self, x, y):\n",
    "        criterion = nn.MSELoss()\n",
    "        eps = 1e-6\n",
    "        loss = torch.sqrt(criterion(x, y) + eps)\n",
    "        return loss"
   ]
  },
  {
   "cell_type": "code",
   "execution_count": 25,
   "metadata": {},
   "outputs": [
    {
     "name": "stderr",
     "output_type": "stream",
     "text": [
      "C:\\Users\\jiwoo\\AppData\\Local\\Temp\\ipykernel_23732\\1723117690.py:3: FutureWarning: In a future version of pandas all arguments of read_csv except for the argument 'filepath_or_buffer' will be keyword-only.\n",
      "  data, num_users, num_items = read_data_ml100k()\n"
     ]
    }
   ],
   "source": [
    "num_users, num_items, train_iter, test_iter = split_and_load_ml100k(\n",
    "    test_ratio=0.1, batch_size=512)\n"
   ]
  },
  {
   "cell_type": "code",
   "execution_count": 26,
   "metadata": {},
   "outputs": [
    {
     "data": {
      "text/plain": [
       "MF(\n",
       "  (P): Embedding(943, 30)\n",
       "  (Q): Embedding(1682, 30)\n",
       "  (user_bias): Embedding(943, 1)\n",
       "  (item_bias): Embedding(1682, 1)\n",
       ")"
      ]
     },
     "execution_count": 26,
     "metadata": {},
     "output_type": "execute_result"
    }
   ],
   "source": [
    "model = MF(30, num_users, num_items)\n",
    "device = torch.device('cuda' if torch.cuda.is_available() else 'cpu')\n",
    "model.to(device)"
   ]
  },
  {
   "cell_type": "code",
   "execution_count": 27,
   "metadata": {},
   "outputs": [],
   "source": [
    "lr, num_epochs, wd = 0.002, 50, 1e-5\n",
    "\n",
    "loss_func = RMSELoss()\n",
    "optimizer = torch.optim.Adam(model.parameters(), lr = lr, weight_decay=wd)"
   ]
  },
  {
   "cell_type": "code",
   "execution_count": 29,
   "metadata": {},
   "outputs": [
    {
     "name": "stderr",
     "output_type": "stream",
     "text": [
      "  0%|          | 0/50 [00:00<?, ?it/s]"
     ]
    },
    {
     "name": "stdout",
     "output_type": "stream",
     "text": [
      "0 epoch 0th train iter loss: 4.54402494430542\n",
      "0 epoch 50th train iter loss: 4.5856099128723145\n",
      "0 epoch 100th train iter loss: 4.434781074523926\n",
      "0 epoch 150th train iter loss: 4.177191734313965\n"
     ]
    },
    {
     "name": "stderr",
     "output_type": "stream",
     "text": [
      "  2%|▏         | 1/50 [01:02<50:58, 62.41s/it]"
     ]
    },
    {
     "name": "stdout",
     "output_type": "stream",
     "text": [
      "0 epoch ALL LOSS :  4.490264882746431\n",
      "New best model loss: 5.038214206695557\n",
      "best model is saved!\n",
      "1 epoch 0th train iter loss: 4.173488140106201\n",
      "1 epoch 50th train iter loss: 4.247422218322754\n",
      "1 epoch 100th train iter loss: 3.8626585006713867\n",
      "1 epoch 150th train iter loss: 3.90220046043396\n"
     ]
    },
    {
     "name": "stderr",
     "output_type": "stream",
     "text": [
      "  4%|▍         | 2/50 [02:01<48:11, 60.23s/it]"
     ]
    },
    {
     "name": "stdout",
     "output_type": "stream",
     "text": [
      "1 epoch ALL LOSS :  3.981402477038275\n",
      "New best model loss: 4.698655366897583\n",
      "best model is saved!\n",
      "2 epoch 0th train iter loss: 3.555708646774292\n",
      "2 epoch 50th train iter loss: 3.5759847164154053\n",
      "2 epoch 100th train iter loss: 3.728524684906006\n",
      "2 epoch 150th train iter loss: 3.4545109272003174\n"
     ]
    },
    {
     "name": "stderr",
     "output_type": "stream",
     "text": [
      "  6%|▌         | 3/50 [02:59<46:32, 59.41s/it]"
     ]
    },
    {
     "name": "stdout",
     "output_type": "stream",
     "text": [
      "2 epoch ALL LOSS :  3.5191502325313606\n",
      "New best model loss: 4.384494781494141\n",
      "best model is saved!\n",
      "3 epoch 0th train iter loss: 3.434480667114258\n",
      "3 epoch 50th train iter loss: 3.1367859840393066\n",
      "3 epoch 100th train iter loss: 2.986981153488159\n",
      "3 epoch 150th train iter loss: 2.9485366344451904\n"
     ]
    },
    {
     "name": "stderr",
     "output_type": "stream",
     "text": [
      "  8%|▊         | 4/50 [04:00<45:58, 59.97s/it]"
     ]
    },
    {
     "name": "stdout",
     "output_type": "stream",
     "text": [
      "3 epoch ALL LOSS :  3.10245052932464\n",
      "New best model loss: 4.098475456237793\n",
      "best model is saved!\n",
      "4 epoch 0th train iter loss: 2.7220122814178467\n",
      "4 epoch 50th train iter loss: 2.653718948364258\n",
      "4 epoch 100th train iter loss: 2.6177051067352295\n",
      "4 epoch 150th train iter loss: 2.5298616886138916\n"
     ]
    },
    {
     "name": "stderr",
     "output_type": "stream",
     "text": [
      " 10%|█         | 5/50 [05:01<45:21, 60.49s/it]"
     ]
    },
    {
     "name": "stdout",
     "output_type": "stream",
     "text": [
      "4 epoch ALL LOSS :  2.7293905781716417\n",
      "New best model loss: 3.8400542736053467\n",
      "best model is saved!\n",
      "5 epoch 0th train iter loss: 2.421354055404663\n",
      "5 epoch 50th train iter loss: 2.5602409839630127\n",
      "5 epoch 100th train iter loss: 2.470212936401367\n",
      "5 epoch 150th train iter loss: 2.3529083728790283\n"
     ]
    },
    {
     "name": "stderr",
     "output_type": "stream",
     "text": [
      " 12%|█▏        | 6/50 [06:14<47:28, 64.74s/it]"
     ]
    },
    {
     "name": "stdout",
     "output_type": "stream",
     "text": [
      "5 epoch ALL LOSS :  2.4021197360815463\n",
      "New best model loss: 3.602642297744751\n",
      "best model is saved!\n",
      "6 epoch 0th train iter loss: 2.1670150756835938\n",
      "6 epoch 50th train iter loss: 2.1424074172973633\n",
      "6 epoch 100th train iter loss: 2.1480181217193604\n",
      "6 epoch 150th train iter loss: 2.0162322521209717\n"
     ]
    },
    {
     "name": "stderr",
     "output_type": "stream",
     "text": [
      " 14%|█▍        | 7/50 [07:14<45:08, 63.00s/it]"
     ]
    },
    {
     "name": "stdout",
     "output_type": "stream",
     "text": [
      "6 epoch ALL LOSS :  2.119425908806398\n",
      "New best model loss: 3.3954365253448486\n",
      "best model is saved!\n",
      "7 epoch 0th train iter loss: 1.989971399307251\n",
      "7 epoch 50th train iter loss: 1.8438557386398315\n",
      "7 epoch 100th train iter loss: 1.9309532642364502\n",
      "7 epoch 150th train iter loss: 1.8599694967269897\n"
     ]
    },
    {
     "name": "stderr",
     "output_type": "stream",
     "text": [
      " 16%|█▌        | 8/50 [08:12<43:06, 61.59s/it]"
     ]
    },
    {
     "name": "stdout",
     "output_type": "stream",
     "text": [
      "7 epoch ALL LOSS :  1.8791464345971334\n",
      "New best model loss: 3.2103925943374634\n",
      "best model is saved!\n",
      "8 epoch 0th train iter loss: 1.8212721347808838\n",
      "8 epoch 50th train iter loss: 1.6984487771987915\n",
      "8 epoch 100th train iter loss: 1.7360652685165405\n",
      "8 epoch 150th train iter loss: 1.6809324026107788\n"
     ]
    },
    {
     "name": "stderr",
     "output_type": "stream",
     "text": [
      " 18%|█▊        | 9/50 [09:17<42:48, 62.64s/it]"
     ]
    },
    {
     "name": "stdout",
     "output_type": "stream",
     "text": [
      "8 epoch ALL LOSS :  1.6769934149132562\n",
      "New best model loss: 3.0508185625076294\n",
      "best model is saved!\n",
      "9 epoch 0th train iter loss: 1.4417979717254639\n",
      "9 epoch 50th train iter loss: 1.5394070148468018\n",
      "9 epoch 100th train iter loss: 1.5725436210632324\n",
      "9 epoch 150th train iter loss: 1.4931950569152832\n"
     ]
    },
    {
     "name": "stderr",
     "output_type": "stream",
     "text": [
      " 20%|██        | 10/50 [10:26<43:00, 64.51s/it]"
     ]
    },
    {
     "name": "stdout",
     "output_type": "stream",
     "text": [
      "9 epoch ALL LOSS :  1.51037858503381\n",
      "New best model loss: 2.912554383277893\n",
      "best model is saved!\n",
      "10 epoch 0th train iter loss: 1.4509212970733643\n",
      "10 epoch 50th train iter loss: 1.4181183576583862\n",
      "10 epoch 100th train iter loss: 1.4289515018463135\n",
      "10 epoch 150th train iter loss: 1.3760991096496582\n"
     ]
    },
    {
     "name": "stderr",
     "output_type": "stream",
     "text": [
      " 22%|██▏       | 11/50 [11:33<42:20, 65.15s/it]"
     ]
    },
    {
     "name": "stdout",
     "output_type": "stream",
     "text": [
      "10 epoch ALL LOSS :  1.3726089781092614\n",
      "New best model loss: 2.7962067127227783\n",
      "best model is saved!\n",
      "11 epoch 0th train iter loss: 1.1680457592010498\n",
      "11 epoch 50th train iter loss: 1.2101705074310303\n",
      "11 epoch 100th train iter loss: 1.2766512632369995\n",
      "11 epoch 150th train iter loss: 1.2336201667785645\n"
     ]
    },
    {
     "name": "stderr",
     "output_type": "stream",
     "text": [
      " 24%|██▍       | 12/50 [12:41<41:57, 66.25s/it]"
     ]
    },
    {
     "name": "stdout",
     "output_type": "stream",
     "text": [
      "11 epoch ALL LOSS :  1.2611833841530318\n",
      "New best model loss: 2.6940921545028687\n",
      "best model is saved!\n",
      "12 epoch 0th train iter loss: 1.121359944343567\n",
      "12 epoch 50th train iter loss: 1.1608624458312988\n",
      "12 epoch 100th train iter loss: 1.1811795234680176\n",
      "12 epoch 150th train iter loss: 1.1925997734069824\n"
     ]
    },
    {
     "name": "stderr",
     "output_type": "stream",
     "text": [
      " 26%|██▌       | 13/50 [13:53<41:57, 68.05s/it]"
     ]
    },
    {
     "name": "stdout",
     "output_type": "stream",
     "text": [
      "12 epoch ALL LOSS :  1.1700475381821702\n",
      "New best model loss: 2.6093640327453613\n",
      "best model is saved!\n",
      "13 epoch 0th train iter loss: 1.0522236824035645\n",
      "13 epoch 50th train iter loss: 1.0964914560317993\n",
      "13 epoch 100th train iter loss: 1.0483355522155762\n",
      "13 epoch 150th train iter loss: 1.2141120433807373\n"
     ]
    },
    {
     "name": "stderr",
     "output_type": "stream",
     "text": [
      " 28%|██▊       | 14/50 [14:59<40:16, 67.14s/it]"
     ]
    },
    {
     "name": "stdout",
     "output_type": "stream",
     "text": [
      "13 epoch ALL LOSS :  1.0957906774638855\n",
      "New best model loss: 2.5359158515930176\n",
      "best model is saved!\n",
      "14 epoch 0th train iter loss: 1.0850342512130737\n",
      "14 epoch 50th train iter loss: 1.0266374349594116\n",
      "14 epoch 100th train iter loss: 1.0786982774734497\n",
      "14 epoch 150th train iter loss: 1.018005609512329\n"
     ]
    },
    {
     "name": "stderr",
     "output_type": "stream",
     "text": [
      " 30%|███       | 15/50 [16:02<38:32, 66.07s/it]"
     ]
    },
    {
     "name": "stdout",
     "output_type": "stream",
     "text": [
      "14 epoch ALL LOSS :  1.0353266765776368\n",
      "New best model loss: 2.4733153581619263\n",
      "best model is saved!\n",
      "15 epoch 0th train iter loss: 0.9696335792541504\n",
      "15 epoch 50th train iter loss: 1.0097770690917969\n",
      "15 epoch 100th train iter loss: 1.0336970090866089\n",
      "15 epoch 150th train iter loss: 0.9845637679100037\n"
     ]
    },
    {
     "name": "stderr",
     "output_type": "stream",
     "text": [
      " 32%|███▏      | 16/50 [17:07<37:16, 65.77s/it]"
     ]
    },
    {
     "name": "stdout",
     "output_type": "stream",
     "text": [
      "15 epoch ALL LOSS :  0.986035102114235\n",
      "New best model loss: 2.416628837585449\n",
      "best model is saved!\n",
      "16 epoch 0th train iter loss: 0.9181937575340271\n",
      "16 epoch 50th train iter loss: 0.9294485449790955\n",
      "16 epoch 100th train iter loss: 0.9557159543037415\n",
      "16 epoch 150th train iter loss: 0.9224236607551575\n"
     ]
    },
    {
     "name": "stderr",
     "output_type": "stream",
     "text": [
      " 34%|███▍      | 17/50 [18:11<35:52, 65.22s/it]"
     ]
    },
    {
     "name": "stdout",
     "output_type": "stream",
     "text": [
      "16 epoch ALL LOSS :  0.9453226576760873\n",
      "New best model loss: 2.3711947202682495\n",
      "best model is saved!\n",
      "17 epoch 0th train iter loss: 0.8862479329109192\n",
      "17 epoch 50th train iter loss: 0.8818050622940063\n",
      "17 epoch 100th train iter loss: 0.9077484011650085\n",
      "17 epoch 150th train iter loss: 0.9761040210723877\n"
     ]
    },
    {
     "name": "stderr",
     "output_type": "stream",
     "text": [
      " 36%|███▌      | 18/50 [19:13<34:11, 64.10s/it]"
     ]
    },
    {
     "name": "stdout",
     "output_type": "stream",
     "text": [
      "17 epoch ALL LOSS :  0.9113633488256907\n",
      "New best model loss: 2.3296470642089844\n",
      "best model is saved!\n",
      "18 epoch 0th train iter loss: 0.8470337986946106\n",
      "18 epoch 50th train iter loss: 0.9165022373199463\n",
      "18 epoch 100th train iter loss: 0.876227855682373\n",
      "18 epoch 150th train iter loss: 0.8829486966133118\n"
     ]
    },
    {
     "name": "stderr",
     "output_type": "stream",
     "text": [
      " 38%|███▊      | 19/50 [20:03<31:02, 60.09s/it]"
     ]
    },
    {
     "name": "stdout",
     "output_type": "stream",
     "text": [
      "18 epoch ALL LOSS :  0.8831776079443312\n",
      "New best model loss: 2.295838713645935\n",
      "best model is saved!\n",
      "19 epoch 0th train iter loss: 0.8660504221916199\n",
      "19 epoch 50th train iter loss: 0.801274299621582\n",
      "19 epoch 100th train iter loss: 0.8606547713279724\n",
      "19 epoch 150th train iter loss: 0.903693675994873\n"
     ]
    },
    {
     "name": "stderr",
     "output_type": "stream",
     "text": [
      " 40%|████      | 20/50 [20:54<28:37, 57.24s/it]"
     ]
    },
    {
     "name": "stdout",
     "output_type": "stream",
     "text": [
      "19 epoch ALL LOSS :  0.8591439081835992\n",
      "New best model loss: 2.262746572494507\n",
      "best model is saved!\n",
      "20 epoch 0th train iter loss: 0.8288955688476562\n",
      "20 epoch 50th train iter loss: 0.8091239929199219\n",
      "20 epoch 100th train iter loss: 0.8506553173065186\n",
      "20 epoch 150th train iter loss: 0.8401538133621216\n"
     ]
    },
    {
     "name": "stderr",
     "output_type": "stream",
     "text": [
      " 42%|████▏     | 21/50 [21:44<26:41, 55.22s/it]"
     ]
    },
    {
     "name": "stdout",
     "output_type": "stream",
     "text": [
      "20 epoch ALL LOSS :  0.8387294909388748\n",
      "New best model loss: 2.23592746257782\n",
      "best model is saved!\n",
      "21 epoch 0th train iter loss: 0.7702292203903198\n",
      "21 epoch 50th train iter loss: 0.7984943985939026\n",
      "21 epoch 100th train iter loss: 0.8320362567901611\n",
      "21 epoch 150th train iter loss: 0.8437666296958923\n"
     ]
    },
    {
     "name": "stderr",
     "output_type": "stream",
     "text": [
      " 44%|████▍     | 22/50 [22:36<25:12, 54.01s/it]"
     ]
    },
    {
     "name": "stdout",
     "output_type": "stream",
     "text": [
      "21 epoch ALL LOSS :  0.8208101032320986\n",
      "New best model loss: 2.2098888158798218\n",
      "best model is saved!\n",
      "22 epoch 0th train iter loss: 0.8089014887809753\n",
      "22 epoch 50th train iter loss: 0.8277038931846619\n",
      "22 epoch 100th train iter loss: 0.824716329574585\n",
      "22 epoch 150th train iter loss: 0.7875254154205322\n"
     ]
    },
    {
     "name": "stderr",
     "output_type": "stream",
     "text": [
      " 46%|████▌     | 23/50 [23:25<23:40, 52.61s/it]"
     ]
    },
    {
     "name": "stdout",
     "output_type": "stream",
     "text": [
      "22 epoch ALL LOSS :  0.8051821908999964\n",
      "New best model loss: 2.191047787666321\n",
      "best model is saved!\n",
      "23 epoch 0th train iter loss: 0.786371648311615\n",
      "23 epoch 50th train iter loss: 0.7453399300575256\n",
      "23 epoch 100th train iter loss: 0.7507498860359192\n",
      "23 epoch 150th train iter loss: 0.8482711315155029\n"
     ]
    },
    {
     "name": "stderr",
     "output_type": "stream",
     "text": [
      " 48%|████▊     | 24/50 [24:17<22:43, 52.43s/it]"
     ]
    },
    {
     "name": "stdout",
     "output_type": "stream",
     "text": [
      "23 epoch ALL LOSS :  0.7907970971667889\n",
      "New best model loss: 2.17036771774292\n",
      "best model is saved!\n",
      "24 epoch 0th train iter loss: 0.6824577450752258\n",
      "24 epoch 50th train iter loss: 0.7729737758636475\n",
      "24 epoch 100th train iter loss: 0.802119791507721\n",
      "24 epoch 150th train iter loss: 0.7427480220794678\n"
     ]
    },
    {
     "name": "stderr",
     "output_type": "stream",
     "text": [
      " 50%|█████     | 25/50 [25:10<21:57, 52.70s/it]"
     ]
    },
    {
     "name": "stdout",
     "output_type": "stream",
     "text": [
      "24 epoch ALL LOSS :  0.7781438031761917\n",
      "New best model loss: 2.154584527015686\n",
      "best model is saved!\n",
      "25 epoch 0th train iter loss: 0.7424487471580505\n",
      "25 epoch 50th train iter loss: 0.7676519155502319\n",
      "25 epoch 100th train iter loss: 0.7719866037368774\n",
      "25 epoch 150th train iter loss: 0.826576828956604\n"
     ]
    },
    {
     "name": "stderr",
     "output_type": "stream",
     "text": [
      " 52%|█████▏    | 26/50 [26:00<20:40, 51.70s/it]"
     ]
    },
    {
     "name": "stdout",
     "output_type": "stream",
     "text": [
      "25 epoch ALL LOSS :  0.7666079601676193\n",
      "New best model loss: 2.1388940811157227\n",
      "best model is saved!\n",
      "26 epoch 0th train iter loss: 0.7592803835868835\n",
      "26 epoch 50th train iter loss: 0.7749331593513489\n",
      "26 epoch 100th train iter loss: 0.7899979948997498\n",
      "26 epoch 150th train iter loss: 0.8127316236495972\n"
     ]
    },
    {
     "name": "stderr",
     "output_type": "stream",
     "text": [
      " 54%|█████▍    | 27/50 [26:48<19:28, 50.82s/it]"
     ]
    },
    {
     "name": "stdout",
     "output_type": "stream",
     "text": [
      "26 epoch ALL LOSS :  0.7561168572337357\n",
      "New best model loss: 2.12630832195282\n",
      "best model is saved!\n",
      "27 epoch 0th train iter loss: 0.7268146276473999\n",
      "27 epoch 50th train iter loss: 0.7433276176452637\n",
      "27 epoch 100th train iter loss: 0.7773835062980652\n",
      "27 epoch 150th train iter loss: 0.7800657749176025\n"
     ]
    },
    {
     "name": "stderr",
     "output_type": "stream",
     "text": [
      " 56%|█████▌    | 28/50 [27:31<17:41, 48.27s/it]"
     ]
    },
    {
     "name": "stdout",
     "output_type": "stream",
     "text": [
      "27 epoch ALL LOSS :  0.7463950143032467\n",
      "New best model loss: 2.1156959533691406\n",
      "best model is saved!\n",
      "28 epoch 0th train iter loss: 0.6950313448905945\n",
      "28 epoch 50th train iter loss: 0.7623844742774963\n",
      "28 epoch 100th train iter loss: 0.7363076210021973\n",
      "28 epoch 150th train iter loss: 0.7311348915100098\n"
     ]
    },
    {
     "name": "stderr",
     "output_type": "stream",
     "text": [
      " 58%|█████▊    | 29/50 [28:08<15:45, 45.01s/it]"
     ]
    },
    {
     "name": "stdout",
     "output_type": "stream",
     "text": [
      "28 epoch ALL LOSS :  0.7371091612221039\n",
      "New best model loss: 2.105574131011963\n",
      "best model is saved!\n",
      "29 epoch 0th train iter loss: 0.6953928470611572\n",
      "29 epoch 50th train iter loss: 0.7432392239570618\n",
      "29 epoch 100th train iter loss: 0.6768046617507935\n",
      "29 epoch 150th train iter loss: 0.7538062930107117\n"
     ]
    },
    {
     "name": "stderr",
     "output_type": "stream",
     "text": [
      " 60%|██████    | 30/50 [28:46<14:16, 42.85s/it]"
     ]
    },
    {
     "name": "stdout",
     "output_type": "stream",
     "text": [
      "29 epoch ALL LOSS :  0.7283789306571803\n",
      "New best model loss: 2.0938119888305664\n",
      "best model is saved!\n",
      "30 epoch 0th train iter loss: 0.6909561157226562\n",
      "30 epoch 50th train iter loss: 0.6920982599258423\n",
      "30 epoch 100th train iter loss: 0.7521802186965942\n",
      "30 epoch 150th train iter loss: 0.7716395854949951\n"
     ]
    },
    {
     "name": "stderr",
     "output_type": "stream",
     "text": [
      " 62%|██████▏   | 31/50 [29:23<13:03, 41.22s/it]"
     ]
    },
    {
     "name": "stdout",
     "output_type": "stream",
     "text": [
      "30 epoch ALL LOSS :  0.7205178215331638\n",
      "New best model loss: 2.0869868993759155\n",
      "best model is saved!\n",
      "31 epoch 0th train iter loss: 0.7009055614471436\n",
      "31 epoch 50th train iter loss: 0.7109072208404541\n",
      "31 epoch 100th train iter loss: 0.6884382963180542\n",
      "31 epoch 150th train iter loss: 0.6879075169563293\n"
     ]
    },
    {
     "name": "stderr",
     "output_type": "stream",
     "text": [
      " 64%|██████▍   | 32/50 [30:01<12:03, 40.18s/it]"
     ]
    },
    {
     "name": "stdout",
     "output_type": "stream",
     "text": [
      "31 epoch ALL LOSS :  0.7126113280807573\n",
      "New best model loss: 2.0791949033737183\n",
      "best model is saved!\n",
      "32 epoch 0th train iter loss: 0.7100490927696228\n",
      "32 epoch 50th train iter loss: 0.7012973427772522\n",
      "32 epoch 100th train iter loss: 0.6898794770240784\n",
      "32 epoch 150th train iter loss: 0.7091200351715088\n"
     ]
    },
    {
     "name": "stderr",
     "output_type": "stream",
     "text": [
      " 66%|██████▌   | 33/50 [30:40<11:17, 39.85s/it]"
     ]
    },
    {
     "name": "stdout",
     "output_type": "stream",
     "text": [
      "32 epoch ALL LOSS :  0.7053748258610362\n",
      "New best model loss: 2.074686288833618\n",
      "best model is saved!\n",
      "33 epoch 0th train iter loss: 0.7080491781234741\n",
      "33 epoch 50th train iter loss: 0.6973591446876526\n",
      "33 epoch 100th train iter loss: 0.7406437397003174\n",
      "33 epoch 150th train iter loss: 0.7086543440818787\n"
     ]
    },
    {
     "name": "stderr",
     "output_type": "stream",
     "text": [
      " 68%|██████▊   | 34/50 [31:21<10:40, 40.06s/it]"
     ]
    },
    {
     "name": "stdout",
     "output_type": "stream",
     "text": [
      "33 epoch ALL LOSS :  0.6984665532087543\n",
      "New best model loss: 2.0692392587661743\n",
      "best model is saved!\n",
      "34 epoch 0th train iter loss: 0.6698135137557983\n",
      "34 epoch 50th train iter loss: 0.6943762898445129\n",
      "34 epoch 100th train iter loss: 0.6946685314178467\n",
      "34 epoch 150th train iter loss: 0.7392078638076782\n"
     ]
    },
    {
     "name": "stderr",
     "output_type": "stream",
     "text": [
      " 70%|███████   | 35/50 [31:59<09:51, 39.45s/it]"
     ]
    },
    {
     "name": "stdout",
     "output_type": "stream",
     "text": [
      "34 epoch ALL LOSS :  0.6917552321227556\n",
      "New best model loss: 2.0665539503097534\n",
      "best model is saved!\n",
      "35 epoch 0th train iter loss: 0.7035092115402222\n",
      "35 epoch 50th train iter loss: 0.678926944732666\n",
      "35 epoch 100th train iter loss: 0.7278624176979065\n",
      "35 epoch 150th train iter loss: 0.7194337248802185\n"
     ]
    },
    {
     "name": "stderr",
     "output_type": "stream",
     "text": [
      " 72%|███████▏  | 36/50 [32:39<09:15, 39.67s/it]"
     ]
    },
    {
     "name": "stdout",
     "output_type": "stream",
     "text": [
      "35 epoch ALL LOSS :  0.6851848210256124\n",
      "New best model loss: 2.059429347515106\n",
      "best model is saved!\n",
      "36 epoch 0th train iter loss: 0.6668899655342102\n",
      "36 epoch 50th train iter loss: 0.6352882981300354\n",
      "36 epoch 100th train iter loss: 0.6791310906410217\n",
      "36 epoch 150th train iter loss: 0.676979660987854\n"
     ]
    },
    {
     "name": "stderr",
     "output_type": "stream",
     "text": [
      " 74%|███████▍  | 37/50 [33:18<08:33, 39.47s/it]"
     ]
    },
    {
     "name": "stdout",
     "output_type": "stream",
     "text": [
      "36 epoch ALL LOSS :  0.6792129155286809\n",
      "New best model loss: 2.0589153170585632\n",
      "best model is saved!\n",
      "37 epoch 0th train iter loss: 0.6603817343711853\n",
      "37 epoch 50th train iter loss: 0.6252197027206421\n",
      "37 epoch 100th train iter loss: 0.6848349571228027\n",
      "37 epoch 150th train iter loss: 0.7033218145370483\n"
     ]
    },
    {
     "name": "stderr",
     "output_type": "stream",
     "text": [
      " 76%|███████▌  | 38/50 [33:59<08:00, 40.06s/it]"
     ]
    },
    {
     "name": "stdout",
     "output_type": "stream",
     "text": [
      "37 epoch ALL LOSS :  0.673304411553845\n",
      "New best model loss: 2.0546631813049316\n",
      "best model is saved!\n",
      "38 epoch 0th train iter loss: 0.6414810419082642\n",
      "38 epoch 50th train iter loss: 0.6698529720306396\n",
      "38 epoch 100th train iter loss: 0.6876908540725708\n",
      "38 epoch 150th train iter loss: 0.6741138696670532\n"
     ]
    },
    {
     "name": "stderr",
     "output_type": "stream",
     "text": [
      " 78%|███████▊  | 39/50 [34:37<07:13, 39.43s/it]"
     ]
    },
    {
     "name": "stdout",
     "output_type": "stream",
     "text": [
      "38 epoch ALL LOSS :  0.6677336268818256\n",
      "New best model loss: 2.0537915229797363\n",
      "best model is saved!\n",
      "39 epoch 0th train iter loss: 0.652863621711731\n",
      "39 epoch 50th train iter loss: 0.6700704097747803\n",
      "39 epoch 100th train iter loss: 0.647173285484314\n",
      "39 epoch 150th train iter loss: 0.6284986734390259\n"
     ]
    },
    {
     "name": "stderr",
     "output_type": "stream",
     "text": [
      " 80%|████████  | 40/50 [35:16<06:32, 39.24s/it]"
     ]
    },
    {
     "name": "stdout",
     "output_type": "stream",
     "text": [
      "39 epoch ALL LOSS :  0.6621100410972673\n",
      "New best model loss: 2.0495548844337463\n",
      "best model is saved!\n",
      "40 epoch 0th train iter loss: 0.6424343585968018\n",
      "40 epoch 50th train iter loss: 0.6739658117294312\n",
      "40 epoch 100th train iter loss: 0.6258007884025574\n",
      "40 epoch 150th train iter loss: 0.6807909607887268\n"
     ]
    },
    {
     "name": "stderr",
     "output_type": "stream",
     "text": [
      " 82%|████████▏ | 41/50 [35:58<05:59, 39.90s/it]"
     ]
    },
    {
     "name": "stdout",
     "output_type": "stream",
     "text": [
      "40 epoch ALL LOSS :  0.6569634420970052\n",
      "41 epoch 0th train iter loss: 0.6041609048843384\n",
      "41 epoch 50th train iter loss: 0.6080808639526367\n",
      "41 epoch 100th train iter loss: 0.6496347188949585\n",
      "41 epoch 150th train iter loss: 0.6604554057121277\n"
     ]
    },
    {
     "name": "stderr",
     "output_type": "stream",
     "text": [
      " 84%|████████▍ | 42/50 [36:35<05:14, 39.27s/it]"
     ]
    },
    {
     "name": "stdout",
     "output_type": "stream",
     "text": [
      "41 epoch ALL LOSS :  0.651877200480589\n",
      "42 epoch 0th train iter loss: 0.6391979455947876\n",
      "42 epoch 50th train iter loss: 0.6227146983146667\n",
      "42 epoch 100th train iter loss: 0.6365312933921814\n",
      "42 epoch 150th train iter loss: 0.6396224498748779\n"
     ]
    },
    {
     "name": "stderr",
     "output_type": "stream",
     "text": [
      " 86%|████████▌ | 43/50 [37:13<04:31, 38.77s/it]"
     ]
    },
    {
     "name": "stdout",
     "output_type": "stream",
     "text": [
      "42 epoch ALL LOSS :  0.647050949408836\n",
      "New best model loss: 2.0481072664260864\n",
      "best model is saved!\n",
      "43 epoch 0th train iter loss: 0.6191657185554504\n",
      "43 epoch 50th train iter loss: 0.6386541724205017\n",
      "43 epoch 100th train iter loss: 0.6455228328704834\n",
      "43 epoch 150th train iter loss: 0.6566659808158875\n"
     ]
    },
    {
     "name": "stderr",
     "output_type": "stream",
     "text": [
      " 88%|████████▊ | 44/50 [37:52<03:52, 38.70s/it]"
     ]
    },
    {
     "name": "stdout",
     "output_type": "stream",
     "text": [
      "43 epoch ALL LOSS :  0.6421878651245353\n",
      "New best model loss: 2.047210693359375\n",
      "best model is saved!\n",
      "44 epoch 0th train iter loss: 0.6002344489097595\n",
      "44 epoch 50th train iter loss: 0.6616236567497253\n",
      "44 epoch 100th train iter loss: 0.65774005651474\n",
      "44 epoch 150th train iter loss: 0.6876069903373718\n"
     ]
    },
    {
     "name": "stderr",
     "output_type": "stream",
     "text": [
      " 90%|█████████ | 45/50 [38:29<03:11, 38.36s/it]"
     ]
    },
    {
     "name": "stdout",
     "output_type": "stream",
     "text": [
      "44 epoch ALL LOSS :  0.6376671308709174\n",
      "New best model loss: 2.046666979789734\n",
      "best model is saved!\n",
      "45 epoch 0th train iter loss: 0.5949679017066956\n",
      "45 epoch 50th train iter loss: 0.6117112636566162\n",
      "45 epoch 100th train iter loss: 0.6251301765441895\n",
      "45 epoch 150th train iter loss: 0.6313714385032654\n"
     ]
    },
    {
     "name": "stderr",
     "output_type": "stream",
     "text": [
      " 92%|█████████▏| 46/50 [39:07<02:32, 38.11s/it]"
     ]
    },
    {
     "name": "stdout",
     "output_type": "stream",
     "text": [
      "45 epoch ALL LOSS :  0.6334010500883319\n",
      "New best model loss: 2.045440435409546\n",
      "best model is saved!\n",
      "46 epoch 0th train iter loss: 0.5894468426704407\n",
      "46 epoch 50th train iter loss: 0.6268550753593445\n",
      "46 epoch 100th train iter loss: 0.6472891569137573\n",
      "46 epoch 150th train iter loss: 0.6093910932540894\n"
     ]
    },
    {
     "name": "stderr",
     "output_type": "stream",
     "text": [
      " 94%|█████████▍| 47/50 [39:46<01:55, 38.56s/it]"
     ]
    },
    {
     "name": "stdout",
     "output_type": "stream",
     "text": [
      "46 epoch ALL LOSS :  0.6290035521246723\n",
      "New best model loss: 2.044510066509247\n",
      "best model is saved!\n",
      "47 epoch 0th train iter loss: 0.5983342528343201\n",
      "47 epoch 50th train iter loss: 0.6307503581047058\n",
      "47 epoch 100th train iter loss: 0.6179786920547485\n",
      "47 epoch 150th train iter loss: 0.634006142616272\n"
     ]
    },
    {
     "name": "stderr",
     "output_type": "stream",
     "text": [
      " 96%|█████████▌| 48/50 [40:25<01:17, 38.67s/it]"
     ]
    },
    {
     "name": "stdout",
     "output_type": "stream",
     "text": [
      "47 epoch ALL LOSS :  0.6248256631733216\n",
      "New best model loss: 2.042339861392975\n",
      "best model is saved!\n",
      "48 epoch 0th train iter loss: 0.5981984734535217\n",
      "48 epoch 50th train iter loss: 0.5744401216506958\n",
      "48 epoch 100th train iter loss: 0.6297907829284668\n",
      "48 epoch 150th train iter loss: 0.6219444870948792\n"
     ]
    },
    {
     "name": "stderr",
     "output_type": "stream",
     "text": [
      " 98%|█████████▊| 49/50 [41:03<00:38, 38.29s/it]"
     ]
    },
    {
     "name": "stdout",
     "output_type": "stream",
     "text": [
      "48 epoch ALL LOSS :  0.620638402159681\n",
      "49 epoch 0th train iter loss: 0.6576353907585144\n",
      "49 epoch 50th train iter loss: 0.6480218172073364\n",
      "49 epoch 100th train iter loss: 0.6115589737892151\n",
      "49 epoch 150th train iter loss: 0.5874990820884705\n"
     ]
    },
    {
     "name": "stderr",
     "output_type": "stream",
     "text": [
      "100%|██████████| 50/50 [41:48<00:00, 50.16s/it]"
     ]
    },
    {
     "name": "stdout",
     "output_type": "stream",
     "text": [
      "49 epoch ALL LOSS :  0.6171384588959291\n",
      "New best model loss: 2.040631353855133\n",
      "best model is saved!\n"
     ]
    },
    {
     "name": "stderr",
     "output_type": "stream",
     "text": [
      "\n"
     ]
    }
   ],
   "source": [
    "from tqdm import tqdm\n",
    "import glob\n",
    "\n",
    "train_epoch_loss = []\n",
    "val_epoch_loss_lst = []\n",
    "best_val_epoch_loss = int(1e9)\n",
    "for epoch in tqdm(range(num_epochs)):\n",
    "  train_iter_loss = []\n",
    "  for i, values in enumerate(train_iter):\n",
    "    train_user = values[0].long().to(device)\n",
    "    train_item = values[1].long().to(device)\n",
    "    labels = values[2].to(device)\n",
    "    preds = model(train_user, train_item)\n",
    "    loss = loss_func(preds, labels)\n",
    "    optimizer.zero_grad()\n",
    "    loss.backward()\n",
    "    optimizer.step()\n",
    "    train_iter_loss.append(loss.detach().item())\n",
    "    if i%50 == 0:\n",
    "      print(f'{epoch} epoch {i}th train iter loss: {loss.detach().item()}')  \n",
    "  train_epoch_loss.append(np.mean(train_iter_loss))\n",
    "  print(f'{epoch} epoch ALL LOSS : ', np.mean(train_iter_loss))\n",
    "  \n",
    "  with torch.no_grad():\n",
    "    model.eval()\n",
    "    val_epoch_loss = 0\n",
    "    for i, values in enumerate(test_iter):\n",
    "      test_user = values[0].long().to(device)\n",
    "      test_item = values[1].long().to(device)\n",
    "      labels = values[2].to(device)\n",
    "      preds = model(test_user, test_item)\n",
    "      loss = loss_func(preds, labels)\n",
    "      val_epoch_loss += loss.detach().item()\n",
    "  val_epoch_loss /= len(test_iter)\n",
    "  val_epoch_loss_lst.append(val_epoch_loss)\n",
    "\n",
    "  if val_epoch_loss < best_val_epoch_loss:\n",
    "    best_val_epoch_loss = val_epoch_loss\n",
    "    print(f'New best model loss: {best_val_epoch_loss}')\n",
    "    if not os.path.exists('model'):\n",
    "      os.mkdir('model')\n",
    "\n",
    "    if os.path.exists('model/best.pth'):\n",
    "      os.remove('model/best.pth')\n",
    "    torch.save(model.state_dict(), 'model/best.pth')\n",
    "    print('best model is saved!')\n",
    "    "
   ]
  },
  {
   "cell_type": "code",
   "execution_count": 37,
   "metadata": {},
   "outputs": [
    {
     "data": {
      "text/plain": [
       "<matplotlib.legend.Legend at 0x18710c84b20>"
      ]
     },
     "execution_count": 37,
     "metadata": {},
     "output_type": "execute_result"
    },
    {
     "data": {
      "image/png": "[encoded data removed]",
      "text/plain": [
       "<Figure size 432x288 with 1 Axes>"
      ]
     },
     "metadata": {
      "needs_background": "light"
     },
     "output_type": "display_data"
    }
   ],
   "source": [
    "import matplotlib.pyplot as plt\n",
    "\n",
    "plt.plot(val_epoch_loss_lst, label='train loss')\n",
    "\n",
    "plt.plot(train_epoch_loss, label='val loss')\n",
    "plt.legend()"
   ]
  },
  {
   "cell_type": "code",
   "execution_count": 35,
   "metadata": {},
   "outputs": [
    {
     "data": {
      "text/plain": [
       "tensor([2.4434], device='cuda:0', grad_fn=<AddBackward0>)"
      ]
     },
     "execution_count": 35,
     "metadata": {},
     "output_type": "execute_result"
    }
   ],
   "source": [
    "scores = model(torch.tensor([20]).to(device), torch.tensor([20]).to(device))\n",
    "scores"
   ]
  },
  {
   "cell_type": "code",
   "execution_count": null,
   "metadata": {},
   "outputs": [],
   "source": []
  }
 ],
 "metadata": {
  "interpreter": {
   "hash": "93865c8914045f82f1cc4174d5a9f6658a56058b431eb3568707e1e9b23cbcf9"
  },
  "kernelspec": {
   "display_name": "Python 3.9.7 ('bc')",
   "language": "python",
   "name": "python3"
  },
  "language_info": {
   "codemirror_mode": {
    "name": "ipython",
    "version": 3
   },
   "file_extension": ".py",
   "mimetype": "text/x-python",
   "name": "python",
   "nbconvert_exporter": "python",
   "pygments_lexer": "ipython3",
   "version": "3.9.7"
  },
  "orig_nbformat": 4
 },
 "nbformat": 4,
 "nbformat_minor": 2
}
