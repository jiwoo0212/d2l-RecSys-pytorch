{
  "cells": [
    {
      "cell_type": "code",
      "execution_count": 21,
      "metadata": {
        "id": "CJIlZmupSgzB"
      },
      "outputs": [],
      "source": [
        "import os\n",
        "import hashlib\n",
        "import requests\n",
        "import zipfile, tarfile\n",
        "import numpy as np\n",
        "from collections import defaultdict\n",
        "\n",
        "import torch\n",
        "from torch import nn\n",
        "from torch.utils.data import Dataset, DataLoader\n",
        "\n",
        "def download():\n",
        "    url, sha1_hash = ('http://d2l-data.s3-accelerate.amazonaws.com/ctr.zip',\n",
        "                        'e18327c48c8e8e5c23da714dd614e390d369843f')\n",
        "    cache_dir=os.path.join('..', 'data')\n",
        "    os.makedirs(cache_dir, exist_ok=True)\n",
        "    fname = os.path.join(cache_dir, url.split('/')[-1])\n",
        "    if os.path.exists(fname):\n",
        "        sha1 = hashlib.sha1()\n",
        "        with open(fname, 'rb') as f:\n",
        "            while True:\n",
        "                data = f.read(1048576)\n",
        "                if not data:\n",
        "                    break\n",
        "                sha1.update(data)\n",
        "        if sha1.hexdigest() == sha1_hash:\n",
        "            return fname  # Hit cache\n",
        "    print(f'Downloading {fname} from {url}...')\n",
        "    r = requests.get(url, stream=True, verify=True)\n",
        "    with open(fname, 'wb') as f:\n",
        "        f.write(r.content)\n",
        "    return fname\n",
        "\n",
        "def download_extract(folder=None):\n",
        "    fname = download()\n",
        "    base_dir = os.path.dirname(fname)\n",
        "    data_dir, ext = os.path.splitext(fname)\n",
        "    if ext == '.zip':\n",
        "        fp = zipfile.ZipFile(fname, 'r')\n",
        "    elif ext in ('.tar', '.gz'):\n",
        "        fp = tarfile.open(fname, 'r')\n",
        "    else:\n",
        "        assert False, 'Only zip/tar files can be extracted.'\n",
        "    fp.extractall(base_dir)\n",
        "    return os.path.join(base_dir, folder) if folder else data_dir\n"
      ]
    },
    {
      "cell_type": "code",
      "execution_count": 22,
      "metadata": {
        "id": "lpLj4mw_SgzG"
      },
      "outputs": [],
      "source": [
        "class CTRDataset(Dataset):\n",
        "    def __init__(self, data_path, feat_mapper=None, defaults=None,\n",
        "                 min_threshold=4, num_feat=34):\n",
        "        self.NUM_FEATS, self.count, self.data = num_feat, 0, {}\n",
        "        feat_cnts = defaultdict(lambda: defaultdict(int))\n",
        "        self.feat_mapper, self.defaults = feat_mapper, defaults\n",
        "        self.field_dims = np.zeros(self.NUM_FEATS, dtype=np.int64)\n",
        "        with open(data_path) as f:\n",
        "            for line in f:\n",
        "                instance = {}\n",
        "                values = line.rstrip('\\n').split('\\t')\n",
        "                if len(values) != self.NUM_FEATS + 1:\n",
        "                    continue\n",
        "                label = np.float32([0, 0])\n",
        "                label[int(values[0])] = 1\n",
        "                instance['y'] = [np.float32(values[0])]\n",
        "                for i in range(1, self.NUM_FEATS + 1):\n",
        "                    feat_cnts[i][values[i]] += 1\n",
        "                    instance.setdefault('x', []).append(values[i])\n",
        "                self.data[self.count] = instance\n",
        "                self.count = self.count + 1\n",
        "        if self.feat_mapper is None and self.defaults is None:\n",
        "            feat_mapper = {i: {feat for feat, c in cnt.items() if c >=\n",
        "                               min_threshold} for i, cnt in feat_cnts.items()}\n",
        "            self.feat_mapper = {i: {feat_v: idx for idx, feat_v in enumerate(feat_values)}\n",
        "                                for i, feat_values in feat_mapper.items()}\n",
        "            self.defaults = {i: len(feat_values) for i, feat_values in feat_mapper.items()}\n",
        "        for i, fm in self.feat_mapper.items():\n",
        "            self.field_dims[i - 1] = len(fm) + 1\n",
        "        self.offsets = np.array((0, *np.asarray(np.cumsum(self.field_dims))\n",
        "                                 [:-1]))\n",
        "\n",
        "    def __len__(self):\n",
        "        return self.count\n",
        "\n",
        "    def __getitem__(self, idx):\n",
        "        feat = np.array([self.feat_mapper[i + 1].get(v, self.defaults[i + 1])\n",
        "                         for i, v in enumerate(self.data[idx]['x'])])\n",
        "        return feat + self.offsets, self.data[idx]['y']"
      ]
    },
    {
      "cell_type": "code",
      "execution_count": 13,
      "metadata": {
        "id": "yp4zrPiQAakr"
      },
      "outputs": [],
      "source": [
        "data_dir = download_extract()\n",
        "NUM_FEATS, count, data = 34, 0, {}\n",
        "feat_cnts = defaultdict(lambda: defaultdict(int))\n",
        "feat_mapper, defaults = None, None\n",
        "field_dims = np.zeros(NUM_FEATS, dtype=np.int64)\n",
        "with open(os.path.join(data_dir, 'train.csv')) as f:\n",
        "    for line in f:\n",
        "        instance = {}\n",
        "        values = line.rstrip('\\n').split('\\t')\n",
        "        if len(values) != NUM_FEATS + 1:\n",
        "            continue\n",
        "        label = np.float32([0, 0])\n",
        "        label[int(values[0])] = 1\n",
        "        instance['y'] = [np.float32(values[0])]\n",
        "        for i in range(1, NUM_FEATS + 1):\n",
        "            feat_cnts[i][values[i]] += 1\n",
        "            instance.setdefault('x', []).append(values[i])\n",
        "        data[count] = instance\n",
        "        count = count + 1"
      ]
    },
    {
      "cell_type": "code",
      "execution_count": 14,
      "metadata": {
        "id": "Zna9BiGqA7NI"
      },
      "outputs": [],
      "source": [
        "if feat_mapper is None and defaults is None:\n",
        "    feat_mapper = {i: {feat for feat, c in cnt.items() if c >=\n",
        "                        4} for i, cnt in feat_cnts.items()}\n",
        "    feat_mapper = {i: {feat_v: idx for idx, feat_v in enumerate(feat_values)}\n",
        "                        for i, feat_values in feat_mapper.items()}\n",
        "    defaults = {i: len(feat_values) for i, feat_values in feat_mapper.items()}\n",
        "for i, fm in feat_mapper.items():\n",
        "    field_dims[i - 1] = len(fm) + 1\n",
        "offsets = np.array((0, *np.asarray(np.cumsum(field_dims))\n",
        "                          [:-1]))"
      ]
    },
    {
      "cell_type": "code",
      "execution_count": 86,
      "metadata": {
        "id": "AVviz4VmSgzJ"
      },
      "outputs": [],
      "source": [
        "class FM(nn.Module):\n",
        "    def __init__(self, field_dims, num_factors):\n",
        "        super(FM, self).__init__()\n",
        "        self.embedding = nn.Embedding(field_dims, num_factors)\n",
        "        self.fc = nn.Embedding(field_dims, 1)\n",
        "        self.linear_layer = nn.Linear(1,1)\n",
        "\n",
        "    def forward(self, x):\n",
        "        square_of_sum = torch.sum(self.embedding(x), axis=1) ** 2\n",
        "        sum_of_square = torch.sum(self.embedding(x) ** 2, axis=1)\n",
        "        x = self.linear_layer(self.fc(x).sum(1)) \\\n",
        "            + 0.5 * (square_of_sum - sum_of_square).sum(1, keepdims=True)\n",
        "        x = torch.sigmoid(x)\n",
        "        return x"
      ]
    },
    {
      "cell_type": "code",
      "execution_count": 88,
      "metadata": {
        "id": "x-6M4CuRU_p7"
      },
      "outputs": [],
      "source": [
        "batch_size = 2048\n",
        "data_dir = download_extract()\n",
        "train_data = CTRDataset(os.path.join(data_dir, 'train.csv'))\n",
        "test_data = CTRDataset(os.path.join(data_dir, 'test.csv'),\n",
        "                           feat_mapper=train_data.feat_mapper,\n",
        "                           defaults=train_data.defaults)\n",
        "train_iter = DataLoader(train_data, shuffle=True, batch_size = batch_size)\n",
        "test_iter = DataLoader(test_data, shuffle=False, batch_size=batch_size)"
      ]
    },
    {
      "cell_type": "code",
      "execution_count": 89,
      "metadata": {
        "colab": {
          "base_uri": "https://localhost:8080/"
        },
        "id": "LCJa981EV5--",
        "outputId": "7cb6dd46-24fc-4dbd-b8ae-633b86796234"
      },
      "outputs": [
        {
          "data": {
            "text/plain": [
              "(array([ 143,  146,  227,  251,  957, 1250, 1471, 1566, 1624, 1718, 2008,\n",
              "        2061, 2175, 2304, 2305, 2360, 2745, 2746, 2747, 2748, 2892, 2988,\n",
              "        3165, 3171, 3194, 3195, 3341, 3653, 3687, 3701, 3727, 3750, 3789,\n",
              "        3813]), [1.0])"
            ]
          },
          "execution_count": 89,
          "metadata": {},
          "output_type": "execute_result"
        }
      ],
      "source": [
        "train_data = CTRDataset(os.path.join(data_dir, 'train.csv'))\n",
        "train_data[0]"
      ]
    },
    {
      "cell_type": "code",
      "execution_count": 90,
      "metadata": {
        "colab": {
          "base_uri": "https://localhost:8080/"
        },
        "id": "lZqZnehUXJKr",
        "outputId": "d9b8f5a9-32b4-4648-9c4a-8aaaaf80d4d3"
      },
      "outputs": [
        {
          "data": {
            "text/plain": [
              "[tensor([[ 143,  145,  227,  ..., 3741, 3789, 3803],\n",
              "         [ 143,  144,  227,  ..., 3755, 3775, 3804],\n",
              "         [ 143,  146,  227,  ..., 3742, 3781, 3811],\n",
              "         ...,\n",
              "         [ 143,  144,  227,  ..., 3750, 3772, 3791],\n",
              "         [ 143,  145,  227,  ..., 3746, 3778, 3801],\n",
              "         [ 143,  146,  227,  ..., 3759, 3769, 3793]]),\n",
              " [tensor([0., 1., 0.,  ..., 1., 1., 1.])]]"
            ]
          },
          "execution_count": 90,
          "metadata": {},
          "output_type": "execute_result"
        }
      ],
      "source": [
        "next(iter(train_iter))"
      ]
    },
    {
      "cell_type": "code",
      "execution_count": 92,
      "metadata": {
        "id": "t-4_Ob-bViEA"
      },
      "outputs": [],
      "source": [
        "device = torch.device('cuda' if torch.cuda.is_available() else 'cpu')\n",
        "net = FM(int(sum(train_data.field_dims)), num_factors=20)\n",
        "net.to(device)\n",
        "lr, num_epochs, wd = 0.002, 50, 1e-5\n",
        "loss_func = torch.nn.BCELoss()\n",
        "optimizer = torch.optim.Adam(net.parameters(), lr = lr, weight_decay=wd)"
      ]
    },
    {
      "cell_type": "code",
      "execution_count": 118,
      "metadata": {
        "colab": {
          "base_uri": "https://localhost:8080/"
        },
        "id": "mfp2umQ9HD-c",
        "outputId": "5c3010b0-63b6-46a6-eca8-d2774370154b"
      },
      "outputs": [
        {
          "name": "stderr",
          "output_type": "stream",
          "text": [
            "\r  0%|          | 0/50 [00:00<?, ?it/s]"
          ]
        },
        {
          "name": "stdout",
          "output_type": "stream",
          "text": [
            "0 epoch 0th train iter loss: 44.79462432861328\n"
          ]
        },
        {
          "name": "stderr",
          "output_type": "stream",
          "text": [
            "\r  2%|▏         | 1/50 [00:00<00:29,  1.68it/s]"
          ]
        },
        {
          "name": "stdout",
          "output_type": "stream",
          "text": [
            "0 epoch ALL LOSS :  42.39602088928223\n",
            "New best model loss: 42.577980041503906\n",
            "best model is saved!\n",
            "1 epoch 0th train iter loss: 44.41352844238281\n"
          ]
        },
        {
          "name": "stderr",
          "output_type": "stream",
          "text": [
            "\r  4%|▍         | 2/50 [00:01<00:26,  1.81it/s]"
          ]
        },
        {
          "name": "stdout",
          "output_type": "stream",
          "text": [
            "1 epoch ALL LOSS :  41.80970621109009\n",
            "New best model loss: 41.801340103149414\n",
            "best model is saved!\n",
            "2 epoch 0th train iter loss: 41.643775939941406\n"
          ]
        },
        {
          "name": "stderr",
          "output_type": "stream",
          "text": [
            "\r  6%|▌         | 3/50 [00:01<00:25,  1.86it/s]"
          ]
        },
        {
          "name": "stdout",
          "output_type": "stream",
          "text": [
            "2 epoch ALL LOSS :  41.06938171386719\n",
            "New best model loss: 41.09583854675293\n",
            "best model is saved!\n",
            "3 epoch 0th train iter loss: 39.95976257324219\n"
          ]
        },
        {
          "name": "stderr",
          "output_type": "stream",
          "text": [
            "\r  8%|▊         | 4/50 [00:02<00:27,  1.67it/s]"
          ]
        },
        {
          "name": "stdout",
          "output_type": "stream",
          "text": [
            "3 epoch ALL LOSS :  40.396461486816406\n",
            "New best model loss: 40.70281791687012\n",
            "best model is saved!\n",
            "4 epoch 0th train iter loss: 40.92932891845703\n"
          ]
        },
        {
          "name": "stderr",
          "output_type": "stream",
          "text": [
            "\r 10%|█         | 5/50 [00:02<00:25,  1.74it/s]"
          ]
        },
        {
          "name": "stdout",
          "output_type": "stream",
          "text": [
            "4 epoch ALL LOSS :  39.994619369506836\n",
            "New best model loss: 40.382755279541016\n",
            "best model is saved!\n",
            "5 epoch 0th train iter loss: 38.03245162963867\n"
          ]
        },
        {
          "name": "stderr",
          "output_type": "stream",
          "text": [
            "\r 12%|█▏        | 6/50 [00:03<00:25,  1.75it/s]"
          ]
        },
        {
          "name": "stdout",
          "output_type": "stream",
          "text": [
            "5 epoch ALL LOSS :  39.5052752494812\n",
            "New best model loss: 39.46396446228027\n",
            "best model is saved!\n",
            "6 epoch 0th train iter loss: 40.37263488769531\n"
          ]
        },
        {
          "name": "stderr",
          "output_type": "stream",
          "text": [
            "\r 14%|█▍        | 7/50 [00:04<00:26,  1.65it/s]"
          ]
        },
        {
          "name": "stdout",
          "output_type": "stream",
          "text": [
            "6 epoch ALL LOSS :  38.75809383392334\n",
            "New best model loss: 38.99028205871582\n",
            "best model is saved!\n",
            "7 epoch 0th train iter loss: 37.91037368774414\n"
          ]
        },
        {
          "name": "stderr",
          "output_type": "stream",
          "text": [
            "\r 16%|█▌        | 8/50 [00:04<00:25,  1.68it/s]"
          ]
        },
        {
          "name": "stdout",
          "output_type": "stream",
          "text": [
            "7 epoch ALL LOSS :  38.078269958496094\n",
            "New best model loss: 38.67011642456055\n",
            "best model is saved!\n",
            "8 epoch 0th train iter loss: 36.50517272949219\n"
          ]
        },
        {
          "name": "stderr",
          "output_type": "stream",
          "text": [
            "\r 18%|█▊        | 9/50 [00:05<00:23,  1.72it/s]"
          ]
        },
        {
          "name": "stdout",
          "output_type": "stream",
          "text": [
            "8 epoch ALL LOSS :  37.857736110687256\n",
            "New best model loss: 37.890037536621094\n",
            "best model is saved!\n",
            "9 epoch 0th train iter loss: 38.351539611816406\n"
          ]
        },
        {
          "name": "stderr",
          "output_type": "stream",
          "text": [
            "\r 20%|██        | 10/50 [00:05<00:24,  1.63it/s]"
          ]
        },
        {
          "name": "stdout",
          "output_type": "stream",
          "text": [
            "9 epoch ALL LOSS :  36.575345039367676\n",
            "New best model loss: 36.758195877075195\n",
            "best model is saved!\n",
            "10 epoch 0th train iter loss: 37.3544921875\n"
          ]
        },
        {
          "name": "stderr",
          "output_type": "stream",
          "text": [
            "\r 22%|██▏       | 11/50 [00:06<00:22,  1.71it/s]"
          ]
        },
        {
          "name": "stdout",
          "output_type": "stream",
          "text": [
            "10 epoch ALL LOSS :  36.01102304458618\n",
            "New best model loss: 36.07355308532715\n",
            "best model is saved!\n",
            "11 epoch 0th train iter loss: 36.1242561340332\n"
          ]
        },
        {
          "name": "stderr",
          "output_type": "stream",
          "text": [
            "\r 24%|██▍       | 12/50 [00:06<00:21,  1.74it/s]"
          ]
        },
        {
          "name": "stdout",
          "output_type": "stream",
          "text": [
            "11 epoch ALL LOSS :  35.48285722732544\n",
            "New best model loss: 35.29950714111328\n",
            "best model is saved!\n",
            "12 epoch 0th train iter loss: 34.542198181152344\n"
          ]
        },
        {
          "name": "stderr",
          "output_type": "stream",
          "text": [
            "\r 26%|██▌       | 13/50 [00:07<00:22,  1.66it/s]"
          ]
        },
        {
          "name": "stdout",
          "output_type": "stream",
          "text": [
            "12 epoch ALL LOSS :  34.86669206619263\n",
            "New best model loss: 34.23959541320801\n",
            "best model is saved!\n",
            "13 epoch 0th train iter loss: 33.605812072753906\n"
          ]
        },
        {
          "name": "stderr",
          "output_type": "stream",
          "text": [
            "\r 28%|██▊       | 14/50 [00:08<00:20,  1.72it/s]"
          ]
        },
        {
          "name": "stdout",
          "output_type": "stream",
          "text": [
            "13 epoch ALL LOSS :  33.52605676651001\n",
            "New best model loss: 33.12469005584717\n",
            "best model is saved!\n",
            "14 epoch 0th train iter loss: 33.01433181762695\n"
          ]
        },
        {
          "name": "stderr",
          "output_type": "stream",
          "text": [
            "\r 30%|███       | 15/50 [00:08<00:19,  1.77it/s]"
          ]
        },
        {
          "name": "stdout",
          "output_type": "stream",
          "text": [
            "14 epoch ALL LOSS :  31.377765655517578\n",
            "New best model loss: 31.75142478942871\n",
            "best model is saved!\n",
            "15 epoch 0th train iter loss: 31.984806060791016\n",
            "15 epoch ALL LOSS :  30.21878933906555\n"
          ]
        },
        {
          "name": "stderr",
          "output_type": "stream",
          "text": [
            "\r 32%|███▏      | 16/50 [00:09<00:20,  1.66it/s]"
          ]
        },
        {
          "name": "stdout",
          "output_type": "stream",
          "text": [
            "New best model loss: 30.382533073425293\n",
            "best model is saved!\n",
            "16 epoch 0th train iter loss: 29.08308982849121\n"
          ]
        },
        {
          "name": "stderr",
          "output_type": "stream",
          "text": [
            "\r 34%|███▍      | 17/50 [00:09<00:19,  1.71it/s]"
          ]
        },
        {
          "name": "stdout",
          "output_type": "stream",
          "text": [
            "16 epoch ALL LOSS :  28.120681524276733\n",
            "New best model loss: 28.760611534118652\n",
            "best model is saved!\n",
            "17 epoch 0th train iter loss: 26.4034481048584\n"
          ]
        },
        {
          "name": "stderr",
          "output_type": "stream",
          "text": [
            "\r 36%|███▌      | 18/50 [00:10<00:18,  1.74it/s]"
          ]
        },
        {
          "name": "stdout",
          "output_type": "stream",
          "text": [
            "17 epoch ALL LOSS :  26.971077919006348\n",
            "New best model loss: 27.78393840789795\n",
            "best model is saved!\n",
            "18 epoch 0th train iter loss: 25.895977020263672\n"
          ]
        },
        {
          "name": "stderr",
          "output_type": "stream",
          "text": [
            "\r 38%|███▊      | 19/50 [00:11<00:17,  1.77it/s]"
          ]
        },
        {
          "name": "stdout",
          "output_type": "stream",
          "text": [
            "18 epoch ALL LOSS :  25.52137851715088\n",
            "New best model loss: 25.66211223602295\n",
            "best model is saved!\n",
            "19 epoch 0th train iter loss: 23.479385375976562\n"
          ]
        },
        {
          "name": "stderr",
          "output_type": "stream",
          "text": [
            "\r 40%|████      | 20/50 [00:11<00:18,  1.66it/s]"
          ]
        },
        {
          "name": "stdout",
          "output_type": "stream",
          "text": [
            "19 epoch ALL LOSS :  22.991846084594727\n",
            "New best model loss: 23.940078735351562\n",
            "best model is saved!\n",
            "20 epoch 0th train iter loss: 23.303741455078125\n"
          ]
        },
        {
          "name": "stderr",
          "output_type": "stream",
          "text": [
            "\r 42%|████▏     | 21/50 [00:12<00:16,  1.73it/s]"
          ]
        },
        {
          "name": "stdout",
          "output_type": "stream",
          "text": [
            "20 epoch ALL LOSS :  22.204509735107422\n",
            "New best model loss: 22.79116439819336\n",
            "best model is saved!\n",
            "21 epoch 0th train iter loss: 21.729537963867188\n"
          ]
        },
        {
          "name": "stderr",
          "output_type": "stream",
          "text": [
            "\r 44%|████▍     | 22/50 [00:12<00:15,  1.76it/s]"
          ]
        },
        {
          "name": "stdout",
          "output_type": "stream",
          "text": [
            "21 epoch ALL LOSS :  20.340126037597656\n",
            "New best model loss: 21.038533210754395\n",
            "best model is saved!\n",
            "22 epoch 0th train iter loss: 18.722034454345703\n"
          ]
        },
        {
          "name": "stderr",
          "output_type": "stream",
          "text": [
            "\r 46%|████▌     | 23/50 [00:13<00:16,  1.67it/s]"
          ]
        },
        {
          "name": "stdout",
          "output_type": "stream",
          "text": [
            "22 epoch ALL LOSS :  19.17989754676819\n",
            "New best model loss: 20.438227653503418\n",
            "best model is saved!\n",
            "23 epoch 0th train iter loss: 19.378067016601562\n"
          ]
        },
        {
          "name": "stderr",
          "output_type": "stream",
          "text": [
            "\r 48%|████▊     | 24/50 [00:14<00:15,  1.72it/s]"
          ]
        },
        {
          "name": "stdout",
          "output_type": "stream",
          "text": [
            "23 epoch ALL LOSS :  18.300710916519165\n",
            "New best model loss: 19.699106216430664\n",
            "best model is saved!\n",
            "24 epoch 0th train iter loss: 17.079784393310547\n"
          ]
        },
        {
          "name": "stderr",
          "output_type": "stream",
          "text": [
            "\r 50%|█████     | 25/50 [00:14<00:14,  1.75it/s]"
          ]
        },
        {
          "name": "stdout",
          "output_type": "stream",
          "text": [
            "24 epoch ALL LOSS :  17.159916162490845\n",
            "New best model loss: 19.011962890625\n",
            "best model is saved!\n",
            "25 epoch 0th train iter loss: 17.32464027404785\n"
          ]
        },
        {
          "name": "stderr",
          "output_type": "stream",
          "text": [
            "\r 52%|█████▏    | 26/50 [00:15<00:14,  1.67it/s]"
          ]
        },
        {
          "name": "stdout",
          "output_type": "stream",
          "text": [
            "25 epoch ALL LOSS :  16.11722695827484\n",
            "New best model loss: 18.441099166870117\n",
            "best model is saved!\n",
            "26 epoch 0th train iter loss: 15.484460830688477\n"
          ]
        },
        {
          "name": "stderr",
          "output_type": "stream",
          "text": [
            "\r 54%|█████▍    | 27/50 [00:15<00:13,  1.68it/s]"
          ]
        },
        {
          "name": "stdout",
          "output_type": "stream",
          "text": [
            "26 epoch ALL LOSS :  15.724048018455505\n",
            "New best model loss: 17.348758697509766\n",
            "best model is saved!\n",
            "27 epoch 0th train iter loss: 15.240106582641602\n"
          ]
        },
        {
          "name": "stderr",
          "output_type": "stream",
          "text": [
            "\r 56%|█████▌    | 28/50 [00:16<00:12,  1.73it/s]"
          ]
        },
        {
          "name": "stdout",
          "output_type": "stream",
          "text": [
            "27 epoch ALL LOSS :  14.43210256099701\n",
            "New best model loss: 16.203733444213867\n",
            "best model is saved!\n",
            "28 epoch 0th train iter loss: 14.35411548614502\n"
          ]
        },
        {
          "name": "stderr",
          "output_type": "stream",
          "text": [
            "\r 58%|█████▊    | 29/50 [00:16<00:11,  1.75it/s]"
          ]
        },
        {
          "name": "stdout",
          "output_type": "stream",
          "text": [
            "28 epoch ALL LOSS :  13.98884904384613\n",
            "New best model loss: 15.596159934997559\n",
            "best model is saved!\n",
            "29 epoch 0th train iter loss: 12.47081184387207\n"
          ]
        },
        {
          "name": "stderr",
          "output_type": "stream",
          "text": [
            "\r 60%|██████    | 30/50 [00:17<00:12,  1.66it/s]"
          ]
        },
        {
          "name": "stdout",
          "output_type": "stream",
          "text": [
            "29 epoch ALL LOSS :  13.33377754688263\n",
            "New best model loss: 14.912091255187988\n",
            "best model is saved!\n",
            "30 epoch 0th train iter loss: 12.823114395141602\n"
          ]
        },
        {
          "name": "stderr",
          "output_type": "stream",
          "text": [
            "\r 62%|██████▏   | 31/50 [00:18<00:11,  1.71it/s]"
          ]
        },
        {
          "name": "stdout",
          "output_type": "stream",
          "text": [
            "30 epoch ALL LOSS :  12.786449790000916\n",
            "New best model loss: 14.29088830947876\n",
            "best model is saved!\n",
            "31 epoch 0th train iter loss: 12.75185775756836\n"
          ]
        },
        {
          "name": "stderr",
          "output_type": "stream",
          "text": [
            "\r 64%|██████▍   | 32/50 [00:18<00:10,  1.73it/s]"
          ]
        },
        {
          "name": "stdout",
          "output_type": "stream",
          "text": [
            "31 epoch ALL LOSS :  12.268379092216492\n",
            "New best model loss: 13.821497440338135\n",
            "best model is saved!\n",
            "32 epoch 0th train iter loss: 11.780191421508789\n"
          ]
        },
        {
          "name": "stderr",
          "output_type": "stream",
          "text": [
            "\r 66%|██████▌   | 33/50 [00:19<00:10,  1.64it/s]"
          ]
        },
        {
          "name": "stdout",
          "output_type": "stream",
          "text": [
            "32 epoch ALL LOSS :  11.95231819152832\n",
            "New best model loss: 13.31905221939087\n",
            "best model is saved!\n",
            "33 epoch 0th train iter loss: 11.222881317138672\n"
          ]
        },
        {
          "name": "stderr",
          "output_type": "stream",
          "text": [
            "\r 68%|██████▊   | 34/50 [00:19<00:09,  1.67it/s]"
          ]
        },
        {
          "name": "stdout",
          "output_type": "stream",
          "text": [
            "33 epoch ALL LOSS :  11.45177972316742\n",
            "New best model loss: 12.99970006942749\n",
            "best model is saved!\n",
            "34 epoch 0th train iter loss: 11.265902519226074\n"
          ]
        },
        {
          "name": "stderr",
          "output_type": "stream",
          "text": [
            "\r 70%|███████   | 35/50 [00:20<00:08,  1.69it/s]"
          ]
        },
        {
          "name": "stdout",
          "output_type": "stream",
          "text": [
            "34 epoch ALL LOSS :  10.974640846252441\n",
            "New best model loss: 12.499038696289062\n",
            "best model is saved!\n",
            "35 epoch 0th train iter loss: 10.943953514099121\n"
          ]
        },
        {
          "name": "stderr",
          "output_type": "stream",
          "text": [
            "\r 72%|███████▏  | 36/50 [00:21<00:08,  1.74it/s]"
          ]
        },
        {
          "name": "stdout",
          "output_type": "stream",
          "text": [
            "35 epoch ALL LOSS :  10.64892327785492\n",
            "New best model loss: 12.29512882232666\n",
            "best model is saved!\n",
            "36 epoch 0th train iter loss: 9.46177864074707\n"
          ]
        },
        {
          "name": "stderr",
          "output_type": "stream",
          "text": [
            "\r 74%|███████▍  | 37/50 [00:21<00:07,  1.65it/s]"
          ]
        },
        {
          "name": "stdout",
          "output_type": "stream",
          "text": [
            "36 epoch ALL LOSS :  10.419211983680725\n",
            "New best model loss: 12.102815628051758\n",
            "best model is saved!\n",
            "37 epoch 0th train iter loss: 10.942026138305664\n"
          ]
        },
        {
          "name": "stderr",
          "output_type": "stream",
          "text": [
            "\r 76%|███████▌  | 38/50 [00:22<00:06,  1.73it/s]"
          ]
        },
        {
          "name": "stdout",
          "output_type": "stream",
          "text": [
            "37 epoch ALL LOSS :  10.117240905761719\n",
            "New best model loss: 11.781439781188965\n",
            "best model is saved!\n",
            "38 epoch 0th train iter loss: 11.578184127807617\n"
          ]
        },
        {
          "name": "stderr",
          "output_type": "stream",
          "text": [
            "\r 78%|███████▊  | 39/50 [00:22<00:06,  1.75it/s]"
          ]
        },
        {
          "name": "stdout",
          "output_type": "stream",
          "text": [
            "38 epoch ALL LOSS :  9.937162280082703\n",
            "New best model loss: 11.69295358657837\n",
            "best model is saved!\n",
            "39 epoch 0th train iter loss: 9.199888229370117\n"
          ]
        },
        {
          "name": "stderr",
          "output_type": "stream",
          "text": [
            "\r 80%|████████  | 40/50 [00:23<00:05,  1.79it/s]"
          ]
        },
        {
          "name": "stdout",
          "output_type": "stream",
          "text": [
            "39 epoch ALL LOSS :  9.865083813667297\n",
            "New best model loss: 11.29677438735962\n",
            "best model is saved!\n",
            "40 epoch 0th train iter loss: 9.671597480773926\n"
          ]
        },
        {
          "name": "stderr",
          "output_type": "stream",
          "text": [
            "\r 82%|████████▏ | 41/50 [00:24<00:05,  1.67it/s]"
          ]
        },
        {
          "name": "stdout",
          "output_type": "stream",
          "text": [
            "40 epoch ALL LOSS :  9.27464234828949\n",
            "New best model loss: 10.98551607131958\n",
            "best model is saved!\n",
            "41 epoch 0th train iter loss: 10.827749252319336\n"
          ]
        },
        {
          "name": "stderr",
          "output_type": "stream",
          "text": [
            "\r 84%|████████▍ | 42/50 [00:24<00:04,  1.73it/s]"
          ]
        },
        {
          "name": "stdout",
          "output_type": "stream",
          "text": [
            "41 epoch ALL LOSS :  9.26975417137146\n",
            "New best model loss: 10.71040153503418\n",
            "best model is saved!\n",
            "42 epoch 0th train iter loss: 9.28062629699707\n"
          ]
        },
        {
          "name": "stderr",
          "output_type": "stream",
          "text": [
            "\r 86%|████████▌ | 43/50 [00:25<00:03,  1.77it/s]"
          ]
        },
        {
          "name": "stdout",
          "output_type": "stream",
          "text": [
            "42 epoch ALL LOSS :  9.199713230133057\n",
            "New best model loss: 10.609135627746582\n",
            "best model is saved!\n",
            "43 epoch 0th train iter loss: 9.706514358520508\n"
          ]
        },
        {
          "name": "stderr",
          "output_type": "stream",
          "text": [
            "\r 88%|████████▊ | 44/50 [00:25<00:03,  1.77it/s]"
          ]
        },
        {
          "name": "stdout",
          "output_type": "stream",
          "text": [
            "43 epoch ALL LOSS :  8.783652067184448\n",
            "New best model loss: 10.310147285461426\n",
            "best model is saved!\n",
            "44 epoch 0th train iter loss: 8.550518035888672\n"
          ]
        },
        {
          "name": "stderr",
          "output_type": "stream",
          "text": [
            "\r 90%|█████████ | 45/50 [00:26<00:03,  1.53it/s]"
          ]
        },
        {
          "name": "stdout",
          "output_type": "stream",
          "text": [
            "44 epoch ALL LOSS :  8.756975829601288\n",
            "New best model loss: 9.98978328704834\n",
            "best model is saved!\n",
            "45 epoch 0th train iter loss: 7.966090202331543\n"
          ]
        },
        {
          "name": "stderr",
          "output_type": "stream",
          "text": [
            "\r 92%|█████████▏| 46/50 [00:27<00:02,  1.47it/s]"
          ]
        },
        {
          "name": "stdout",
          "output_type": "stream",
          "text": [
            "45 epoch ALL LOSS :  8.47587639093399\n",
            "New best model loss: 9.92403507232666\n",
            "best model is saved!\n",
            "46 epoch 0th train iter loss: 8.277581214904785\n"
          ]
        },
        {
          "name": "stderr",
          "output_type": "stream",
          "text": [
            "\r 94%|█████████▍| 47/50 [00:27<00:01,  1.57it/s]"
          ]
        },
        {
          "name": "stdout",
          "output_type": "stream",
          "text": [
            "46 epoch ALL LOSS :  8.465321898460388\n",
            "New best model loss: 9.43065595626831\n",
            "best model is saved!\n",
            "47 epoch 0th train iter loss: 8.41292953491211\n",
            "47 epoch ALL LOSS :  8.082360625267029\n"
          ]
        },
        {
          "name": "stderr",
          "output_type": "stream",
          "text": [
            "\r 96%|█████████▌| 48/50 [00:28<00:01,  1.54it/s]"
          ]
        },
        {
          "name": "stdout",
          "output_type": "stream",
          "text": [
            "48 epoch 0th train iter loss: 8.808492660522461\n"
          ]
        },
        {
          "name": "stderr",
          "output_type": "stream",
          "text": [
            "\r 98%|█████████▊| 49/50 [00:29<00:00,  1.62it/s]"
          ]
        },
        {
          "name": "stdout",
          "output_type": "stream",
          "text": [
            "48 epoch ALL LOSS :  8.196509063243866\n",
            "New best model loss: 9.288550853729248\n",
            "best model is saved!\n",
            "49 epoch 0th train iter loss: 6.791086196899414\n"
          ]
        },
        {
          "name": "stderr",
          "output_type": "stream",
          "text": [
            "100%|██████████| 50/50 [00:29<00:00,  1.69it/s]"
          ]
        },
        {
          "name": "stdout",
          "output_type": "stream",
          "text": [
            "49 epoch ALL LOSS :  8.005861282348633\n",
            "New best model loss: 9.277645587921143\n",
            "best model is saved!\n"
          ]
        },
        {
          "name": "stderr",
          "output_type": "stream",
          "text": [
            "\n"
          ]
        }
      ],
      "source": [
        "from tqdm import tqdm\n",
        "import glob\n",
        "\n",
        "train_epoch_loss = []\n",
        "val_epoch_loss_lst = []\n",
        "best_val_epoch_loss = int(1e9)\n",
        "for epoch in tqdm(range(num_epochs)):\n",
        "  train_iter_loss = []\n",
        "  for i, values in enumerate(train_iter):\n",
        "    train_data = values[0].long().to(device)\n",
        "    labels = values[1][0].long().to(device).unsqueeze(1) \n",
        "    preds = net(train_data) #.squeeze()\n",
        "    loss = loss_func(preds.to(torch.float32), labels.to(torch.float32))\n",
        "    optimizer.zero_grad()\n",
        "    loss.backward()\n",
        "    optimizer.step()\n",
        "    train_iter_loss.append(loss.detach().item())\n",
        "    if i%50 == 0:\n",
        "      print(f'{epoch} epoch {i}th train iter loss: {loss.detach().item()}')  \n",
        "  train_epoch_loss.append(np.mean(train_iter_loss))\n",
        "  print(f'{epoch} epoch ALL LOSS : ', np.mean(train_iter_loss))\n",
        "  \n",
        "  with torch.no_grad():\n",
        "    net.eval()\n",
        "    val_epoch_loss = 0\n",
        "    for i, values in enumerate(test_iter):\n",
        "      test_data = values[0].long().to(device)\n",
        "      labels = values[1][0].long().to(device).unsqueeze(1) \n",
        "      preds = net(test_data)\n",
        "      loss = loss_func(preds.to(torch.float32), labels.to(torch.float32))\n",
        "      val_epoch_loss += loss.detach().item()\n",
        "  val_epoch_loss /= len(test_iter)\n",
        "  val_epoch_loss_lst.append(val_epoch_loss)\n",
        "\n",
        "  if val_epoch_loss < best_val_epoch_loss:\n",
        "    best_val_epoch_loss = val_epoch_loss\n",
        "    print(f'New best model loss: {best_val_epoch_loss}')\n",
        "    if not os.path.exists('model'):\n",
        "      os.mkdir('model')\n",
        "\n",
        "    if os.path.exists('model/best.pth'):\n",
        "      os.remove('model/best.pth')\n",
        "    torch.save(net.state_dict(), 'model/best.pth')\n",
        "    print('best model is saved!')\n",
        "    \n",
        "  "
      ]
    },
    {
      "cell_type": "code",
      "execution_count": 119,
      "metadata": {
        "colab": {
          "base_uri": "https://localhost:8080/",
          "height": 282
        },
        "id": "aPfkhkHOHlEL",
        "outputId": "ea7ce0c1-96d5-415c-a643-66e2a78579c3"
      },
      "outputs": [
        {
          "data": {
            "text/plain": [
              "<matplotlib.legend.Legend at 0x7f6b7f467250>"
            ]
          },
          "execution_count": 119,
          "metadata": {},
          "output_type": "execute_result"
        },
        {
          "data": {
            "image/png": "[encoded data removed]",
            "text/plain": [
              "<Figure size 432x288 with 1 Axes>"
            ]
          },
          "metadata": {
            "needs_background": "light"
          },
          "output_type": "display_data"
        }
      ],
      "source": [
        "import matplotlib.pyplot as plt\n",
        "\n",
        "plt.plot(train_epoch_loss, label='train loss')\n",
        "plt.plot(val_epoch_loss_lst, label='val loss')\n",
        "plt.legend()"
      ]
    },
    {
      "cell_type": "code",
      "execution_count": null,
      "metadata": {
        "id": "8X4crwuURI0v"
      },
      "outputs": [],
      "source": []
    }
  ],
  "metadata": {
    "accelerator": "GPU",
    "colab": {
      "name": "16.4autorec.ipynb",
      "provenance": []
    },
    "kernelspec": {
      "display_name": "Python 3",
      "name": "python3"
    },
    "language_info": {
      "codemirror_mode": {
        "name": "ipython",
        "version": 3
      },
      "file_extension": ".py",
      "mimetype": "text/x-python",
      "name": "python",
      "nbconvert_exporter": "python",
      "pygments_lexer": "ipython3",
      "version": "3.7.13"
    }
  },
  "nbformat": 4,
  "nbformat_minor": 0
}
