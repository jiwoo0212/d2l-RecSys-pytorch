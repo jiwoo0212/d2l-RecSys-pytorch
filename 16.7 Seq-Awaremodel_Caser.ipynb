{
 "cells": [
  {
   "cell_type": "code",
   "execution_count": 1,
   "metadata": {},
   "outputs": [],
   "source": [
    "import os\n",
    "import pandas as pd\n",
    "import numpy as np\n",
    "import random\n",
    "\n",
    "import zipfile\n",
    "from urllib import request\n",
    "\n",
    "from torch.utils.data import Dataset, DataLoader\n",
    "import torch\n",
    "from torch import nn\n",
    "from torchvision import transforms"
   ]
  },
  {
   "cell_type": "code",
   "execution_count": 2,
   "metadata": {},
   "outputs": [],
   "source": [
    "class SeqDataset(Dataset):\n",
    "    def __init__(self, user_ids, item_ids, L, num_users, num_items, candidates):\n",
    "        user_ids, item_ids = np.array(user_ids), np.array(item_ids)\n",
    "        sort_idx = np.array(sorted(range(len(user_ids)),\n",
    "                                    key=lambda k: user_ids[k]))\n",
    "        u_ids, i_ids = user_ids[sort_idx], item_ids[sort_idx]\n",
    "        temp, u_ids, self.cand = {}, np.array(u_ids), candidates\n",
    "        self.all_items = set([i for i in range(num_items)])\n",
    "        [temp.setdefault(u_ids[i], []).append(i) for i, _ in enumerate(u_ids)]\n",
    "        temp = sorted(temp.items(), key=lambda x: x[0])\n",
    "        u_ids = np.array([i[0] for i in temp])\n",
    "        idx = np.array([i[1][0] for i in temp])\n",
    "        self.ns = ns = int(sum([c - L if c >= L + 1 else 1 for c\n",
    "                                in np.array([len(i[1]) for i in temp])]))\n",
    "        self.seq_items = np.zeros((ns, L))\n",
    "        self.seq_users = np.zeros(ns, dtype='int32')\n",
    "        self.seq_tgt = np.zeros((ns, 1))\n",
    "        self.test_seq = np.zeros((num_users, L))\n",
    "        test_users, _uid = np.empty(num_users), None\n",
    "        for i, (uid, i_seq) in enumerate(self._seq(u_ids, i_ids, idx, L + 1)):\n",
    "            if uid != _uid:\n",
    "                self.test_seq[uid][:] = i_seq[-L:]\n",
    "                test_users[uid], _uid = uid, uid\n",
    "            self.seq_tgt[i][:] = i_seq[-1:]\n",
    "            self.seq_items[i][:], self.seq_users[i] = i_seq[:L], uid\n",
    "\n",
    "    def _win(self, tensor, window_size, step_size=1):\n",
    "        if len(tensor) - window_size >= 0:\n",
    "            for i in range(len(tensor), 0, - step_size):\n",
    "                if i - window_size >= 0:\n",
    "                    yield tensor[i - window_size:i]\n",
    "                else:\n",
    "                    break\n",
    "        else:\n",
    "            yield tensor\n",
    "\n",
    "    def _seq(self, u_ids, i_ids, idx, max_len):\n",
    "        for i in range(len(idx)):\n",
    "            stop_idx = None if i >= len(idx) - 1 else int(idx[i + 1])\n",
    "            for s in self._win(i_ids[int(idx[i]):stop_idx], max_len):\n",
    "                yield (int(u_ids[i]), s)\n",
    "\n",
    "    def __len__(self):\n",
    "        return self.ns\n",
    "\n",
    "    def __getitem__(self, idx):\n",
    "        neg = list(self.all_items - set(self.cand[int(self.seq_users[idx])]))\n",
    "        i = random.randint(0, len(neg) - 1)\n",
    "        # user id, time step 만큼의 items, target item, neg item\n",
    "        return (int(self.seq_users[idx]), torch.tensor(self.seq_items[idx]), int(self.seq_tgt[idx][0]),\n",
    "                neg[i])"
   ]
  },
  {
   "cell_type": "code",
   "execution_count": 3,
   "metadata": {},
   "outputs": [],
   "source": [
    "def download_ml100k():\n",
    "    # download\n",
    "    url = \"http://files.grouplens.org/datasets/movielens/ml-100k.zip\"\n",
    "    savename = \"ml-100k.zip\"\n",
    "    request.urlretrieve(url, savename)\n",
    "    print('Complete!')\n",
    "    # unzip\n",
    "    file_name = os.path.join('./', savename)\n",
    "    file_zip = zipfile.ZipFile(file_name)\n",
    "    file_zip.extractall('./')\n",
    "    file_zip.close()\n",
    "\n",
    "def read_data_ml100k():\n",
    "    \"\"\"\n",
    "    데이터를 다운받고, dataframe형태의 data, user id목록, itme id 목록 반환\n",
    "    \"\"\"\n",
    "    if not os.path.isfile(os.path.join('./ml-100k/', 'u.data')):\n",
    "        print('Download ...')\n",
    "        download_ml100k()\n",
    "    names = ['user_id', 'item_id', 'rating', 'timestamp']\n",
    "    data = pd.read_csv(os.path.join('./ml-100k/', 'u.data'), '\\t', names=names,\n",
    "                       engine='python')\n",
    "    num_users = data.user_id.unique().shape[0]\n",
    "    num_items = data.item_id.unique().shape[0]\n",
    "    return data, num_users, num_items"
   ]
  },
  {
   "cell_type": "code",
   "execution_count": 4,
   "metadata": {},
   "outputs": [],
   "source": [
    "def load_data_ml100k(data, num_users, num_items, feedback='explicit'):\n",
    "    \"\"\"\n",
    "    과정은 정확히 이해안되는데 user id, item id, score, 유저-아이템 행렬 반환\n",
    "    explicit 일때는 유저 아이템 행렬\n",
    "    implicit 일때는 key : 유저, val : 아이템 리스트 인 dict \n",
    "    \"\"\"\n",
    "    users, items, scores = [], [], []\n",
    "    inter = np.zeros((num_items, num_users)) if feedback == 'explicit' else {}\n",
    "    for line in data.itertuples():\n",
    "        user_index, item_index = int(line[1] - 1), int(line[2] - 1)\n",
    "        score = int(line[3]) if feedback == 'explicit' else 1\n",
    "        users.append(user_index)\n",
    "        items.append(item_index)\n",
    "        scores.append(score)\n",
    "        if feedback == 'implicit':\n",
    "            inter.setdefault(user_index, []).append(item_index)\n",
    "        else:\n",
    "            inter[item_index, user_index] = score\n",
    "    return users, items, scores, inter"
   ]
  },
  {
   "cell_type": "code",
   "execution_count": 5,
   "metadata": {},
   "outputs": [],
   "source": [
    "def split_data_ml100k(data, num_users, num_items,\n",
    "                      split_mode='random', test_ratio=0.1):\n",
    "    \"\"\"Split the dataset in random mode or seq-aware mode.\"\"\"\n",
    "    if split_mode == 'seq-aware':\n",
    "        train_items, test_items, train_list = {}, {}, []\n",
    "        for line in data.itertuples():\n",
    "            u, i, rating, time = line[1], line[2], line[3], line[4]\n",
    "            train_items.setdefault(u, []).append((u, i, rating, time))\n",
    "            if u not in test_items or test_items[u][-1] < time:\n",
    "                test_items[u] = (i, rating, time)\n",
    "        for u in range(1, num_users + 1):\n",
    "            train_list.extend(sorted(train_items[u], key=lambda k: k[3]))\n",
    "        test_data = [(key, *value) for key, value in test_items.items()]\n",
    "        train_data = [item for item in train_list if item not in test_data]\n",
    "        train_data = pd.DataFrame(train_data)\n",
    "        test_data = pd.DataFrame(test_data)\n",
    "    else:\n",
    "        mask = [True if x == 1 else False for x in np.random.uniform(\n",
    "            0, 1, (len(data))) < 1 - test_ratio]\n",
    "        neg_mask = [not x for x in mask]\n",
    "        train_data, test_data = data[mask], data[neg_mask]\n",
    "    return train_data, test_data"
   ]
  },
  {
   "cell_type": "code",
   "execution_count": 6,
   "metadata": {},
   "outputs": [
    {
     "name": "stderr",
     "output_type": "stream",
     "text": [
      "C:\\Users\\jiwoo\\AppData\\Local\\Temp\\ipykernel_19460\\3207216276.py:2: FutureWarning: In a future version of pandas all arguments of read_csv except for the argument 'filepath_or_buffer' will be keyword-only.\n",
      "  df, num_users, num_items = read_data_ml100k()\n"
     ]
    }
   ],
   "source": [
    "TARGET_NUM, L, batch_size = 1, 5, 4096\n",
    "df, num_users, num_items = read_data_ml100k()\n",
    "train_data, test_data = split_data_ml100k(df, num_users, num_items,\n",
    "                                              'seq-aware')\n",
    "users_train, items_train, ratings_train, candidates = load_data_ml100k(\n",
    "    train_data, num_users, num_items, feedback=\"implicit\")\n",
    "users_test, items_test, ratings_test, test_candidates = load_data_ml100k(\n",
    "    test_data, num_users, num_items, feedback=\"implicit\")"
   ]
  },
  {
   "cell_type": "code",
   "execution_count": 32,
   "metadata": {},
   "outputs": [
    {
     "data": {
      "text/plain": [
       "(0, tensor([241., 170., 110., 255.,   4.], dtype=torch.float64), 101, 1268)"
      ]
     },
     "execution_count": 32,
     "metadata": {},
     "output_type": "execute_result"
    }
   ],
   "source": [
    "train_seq_data = SeqDataset(users_train, items_train, L, num_users,\n",
    "                            num_items, candidates)\n",
    "train_iter = DataLoader(train_seq_data, batch_size, drop_last=True)\n",
    "test_seq_iter = train_seq_data.test_seq\n",
    "\n",
    "# user id, time step 만큼의 items, target item, neg item\n",
    "train_seq_data[0]"
   ]
  },
  {
   "cell_type": "code",
   "execution_count": 38,
   "metadata": {},
   "outputs": [],
   "source": [
    "from torch.nn import Conv2d\n",
    "class Caser(nn.Module):\n",
    "    def __init__(self, num_factors, num_users, num_items, L=5, d=16, # num_factors == k\n",
    "                 d_prime=4, drop_ratio=0.05, **kwargs): \n",
    "        super(Caser, self).__init__(**kwargs)\n",
    "        self.P = nn.Embedding(num_users, num_factors) # user's general taste embedding\n",
    "        self.Q = nn.Embedding(num_items, num_factors) # item embedding\n",
    "        self.d_prime, self.d = d_prime, d # vertical / horizontal filter의 갯수\n",
    "        # Vertical convolution layer\n",
    "        self.conv_v = Conv2d(in_channels=1, out_channels=d_prime, kernel_size=(L, 1))\n",
    "        # Horizontal convolution layer\n",
    "        h = [i + 1 for i in range(L)]\n",
    "        self.conv_h, self.max_pool = [], []\n",
    "        for i in h:\n",
    "            self.conv_h.append(nn.Conv2d(in_channels=1, out_channels=d, kernel_size=(i, num_factors)))\n",
    "            self.max_pool.append(nn.MaxPool1d(kernel_size=(L - i + 1)))\n",
    "        # print(self.conv_h)\n",
    "        # print('-'*100)\n",
    "        # print(self.conv_v)\n",
    "        self.conv_h, self.conv_v = nn.Sequential(*self.conv_h), nn.Sequential(self.conv_v)\n",
    "        \n",
    "        # Fully-connected layer\n",
    "        self.fc1_dim_v, self.fc1_dim_h = d_prime * num_factors, d * len(h) # output dim of vertical conv / horizontal conv\n",
    "        self.fc = nn.Linear(in_features=d_prime * num_factors + d * L, out_features=num_factors) # input : concat of vertical/horzontal conv output, output : z\n",
    "        self.relu = nn.ReLU()\n",
    "        self.Q_prime = nn.Embedding(num_items, num_factors * 2) # another item embedding\n",
    "        self.b = nn.Embedding(num_items, 1)\n",
    "        self.dropout = nn.Dropout(drop_ratio)\n",
    "\n",
    "    def forward(self, user_id, seq, item_id):\n",
    "        item_embs = torch.unsqueeze(self.Q(seq), 1)\n",
    "        user_emb = self.P(user_id)\n",
    "        out, out_h, out_v, out_hs = None, None, None, []\n",
    "        if self.d_prime:\n",
    "            out_v = self.conv_v(item_embs)\n",
    "            out_v = out_v.reshape(out_v.shape[0], self.fc1_dim_v)\n",
    "        if self.d:\n",
    "            for conv, maxp in zip(self.conv_h, self.max_pool):\n",
    "                conv_out = torch.squeeze(self.relu(conv(item_embs)), dim=3)\n",
    "                t = maxp(conv_out)\n",
    "                pool_out = torch.squeeze(t, dim=2)\n",
    "                out_hs.append(pool_out)\n",
    "            out_h = torch.stack(out_hs, dim=1).view(batch_size,-1)\n",
    "        # print(out_v.size(), out_h.size())\n",
    "        out = torch.cat((out_v, out_h), dim=1)\n",
    "        z = self.relu(self.fc(self.dropout(out)))\n",
    "        x = torch.cat((z, user_emb), dim=1) # user_emb : user's general taste embedding\n",
    "        q_prime_i = torch.squeeze(self.Q_prime(item_id))\n",
    "        b = torch.squeeze(self.b(item_id))\n",
    "        res = (x * q_prime_i).sum(1) + b\n",
    "        return res"
   ]
  },
  {
   "cell_type": "code",
   "execution_count": 39,
   "metadata": {},
   "outputs": [],
   "source": [
    "device = torch.device('cuda' if torch.cuda.is_available() else 'cpu')\n",
    "model = Caser(num_factors=10, num_users=num_users, num_items=num_items)\n",
    "model = model.to(device)"
   ]
  },
  {
   "cell_type": "code",
   "execution_count": 40,
   "metadata": {},
   "outputs": [],
   "source": [
    "class BPRLoss(nn.Module):\n",
    "    def __init__(self, **kwargs):\n",
    "        super(BPRLoss, self).__init__(**kwargs)\n",
    "        self.sigmoid = nn.Sigmoid()\n",
    "\n",
    "    def forward(self, positive, negative):\n",
    "        distances = positive - negative\n",
    "        loss = - torch.sum(torch.log(self.sigmoid(distances)))\n",
    "        return loss"
   ]
  },
  {
   "cell_type": "code",
   "execution_count": 41,
   "metadata": {},
   "outputs": [],
   "source": [
    "lr, num_epochs, wd, optimizer = 0.01, 10, 1e-5, 'adam'\n",
    "\n",
    "loss_func = BPRLoss()\n",
    "optimizer = torch.optim.Adam(model.parameters(), lr = lr, weight_decay=wd)"
   ]
  },
  {
   "cell_type": "code",
   "execution_count": 42,
   "metadata": {},
   "outputs": [
    {
     "name": "stderr",
     "output_type": "stream",
     "text": [
      "  0%|          | 0/10 [00:00<?, ?it/s]"
     ]
    },
    {
     "name": "stdout",
     "output_type": "stream",
     "text": [
      "0 epoch 0th train iter loss: 7992.8701171875\n"
     ]
    },
    {
     "name": "stderr",
     "output_type": "stream",
     "text": [
      " 10%|█         | 1/10 [00:06<01:02,  6.99s/it]"
     ]
    },
    {
     "name": "stdout",
     "output_type": "stream",
     "text": [
      "0 epoch ALL LOSS :  7141.98972486413\n",
      "1 epoch 0th train iter loss: 6453.3359375\n"
     ]
    },
    {
     "name": "stderr",
     "output_type": "stream",
     "text": [
      " 20%|██        | 2/10 [00:13<00:53,  6.72s/it]"
     ]
    },
    {
     "name": "stdout",
     "output_type": "stream",
     "text": [
      "1 epoch ALL LOSS :  5930.71531080163\n",
      "2 epoch 0th train iter loss: 5393.2509765625\n"
     ]
    },
    {
     "name": "stderr",
     "output_type": "stream",
     "text": [
      " 30%|███       | 3/10 [00:19<00:45,  6.53s/it]"
     ]
    },
    {
     "name": "stdout",
     "output_type": "stream",
     "text": [
      "2 epoch ALL LOSS :  4893.648554262908\n",
      "3 epoch 0th train iter loss: 4621.61474609375\n"
     ]
    },
    {
     "name": "stderr",
     "output_type": "stream",
     "text": [
      " 40%|████      | 4/10 [00:26<00:38,  6.46s/it]"
     ]
    },
    {
     "name": "stdout",
     "output_type": "stream",
     "text": [
      "3 epoch ALL LOSS :  4023.4557468580165\n",
      "4 epoch 0th train iter loss: 3756.32421875\n"
     ]
    },
    {
     "name": "stderr",
     "output_type": "stream",
     "text": [
      " 50%|█████     | 5/10 [00:32<00:32,  6.41s/it]"
     ]
    },
    {
     "name": "stdout",
     "output_type": "stream",
     "text": [
      "4 epoch ALL LOSS :  3291.258247707201\n",
      "5 epoch 0th train iter loss: 3117.317626953125\n"
     ]
    },
    {
     "name": "stderr",
     "output_type": "stream",
     "text": [
      " 60%|██████    | 6/10 [00:38<00:25,  6.34s/it]"
     ]
    },
    {
     "name": "stdout",
     "output_type": "stream",
     "text": [
      "5 epoch ALL LOSS :  2839.376857591712\n",
      "6 epoch 0th train iter loss: 2885.0107421875\n"
     ]
    },
    {
     "name": "stderr",
     "output_type": "stream",
     "text": [
      " 70%|███████   | 7/10 [00:45<00:19,  6.40s/it]"
     ]
    },
    {
     "name": "stdout",
     "output_type": "stream",
     "text": [
      "6 epoch ALL LOSS :  2472.299762228261\n",
      "7 epoch 0th train iter loss: 2388.111572265625\n"
     ]
    },
    {
     "name": "stderr",
     "output_type": "stream",
     "text": [
      " 80%|████████  | 8/10 [00:51<00:13,  6.51s/it]"
     ]
    },
    {
     "name": "stdout",
     "output_type": "stream",
     "text": [
      "7 epoch ALL LOSS :  2218.8202381963315\n",
      "8 epoch 0th train iter loss: 2265.22021484375\n"
     ]
    },
    {
     "name": "stderr",
     "output_type": "stream",
     "text": [
      " 90%|█████████ | 9/10 [00:59<00:06,  6.75s/it]"
     ]
    },
    {
     "name": "stdout",
     "output_type": "stream",
     "text": [
      "8 epoch ALL LOSS :  2056.2130180027175\n",
      "9 epoch 0th train iter loss: 2089.041748046875\n"
     ]
    },
    {
     "name": "stderr",
     "output_type": "stream",
     "text": [
      "100%|██████████| 10/10 [01:06<00:00,  6.62s/it]"
     ]
    },
    {
     "name": "stdout",
     "output_type": "stream",
     "text": [
      "9 epoch ALL LOSS :  1903.8975193189538\n"
     ]
    },
    {
     "name": "stderr",
     "output_type": "stream",
     "text": [
      "\n"
     ]
    }
   ],
   "source": [
    "from tqdm import tqdm\n",
    "import glob\n",
    "import os\n",
    "\n",
    "train_epoch_loss = []\n",
    "val_epoch_loss_lst = []\n",
    "best_val_epoch_loss = int(1e9)\n",
    "for epoch in tqdm(range(num_epochs)):\n",
    "    train_iter_loss = []\n",
    "    for i, values in enumerate(train_iter):\n",
    "        p_pos = model(values[0].to(device), values[1].to(device).long(), values[2].to(device)) \n",
    "        p_neg = model(values[0].to(device), values[1].to(device).long(), values[3].to(device)) \n",
    "        loss = loss_func(p_pos, p_neg)\n",
    "        optimizer.zero_grad()\n",
    "        loss.backward()\n",
    "        optimizer.step()\n",
    "        train_iter_loss.append(loss.detach().item())\n",
    "        if i%50 == 0:\n",
    "            print(f'{epoch} epoch {i}th train iter loss: {loss.detach().item()}')  \n",
    "    train_epoch_loss.append(np.mean(train_iter_loss))\n",
    "    print(f'{epoch} epoch ALL LOSS : ', np.mean(train_iter_loss))\n",
    "\n",
    "    # with torch.no_grad():\n",
    "    #     model.eval()\n",
    "    #     val_epoch_loss = 0\n",
    "    #     for i, values in enumerate(test_iter):\n",
    "    #         p_pos = model(values[0].to(device), values[1].to(device), values[2].to(device)) \n",
    "    #         p_neg = model(values[0].to(device), values[1].to(device), values[3].to(device)) \n",
    "    #         loss = loss_func(p_pos, p_neg)\n",
    "    #         val_epoch_loss += loss.detach().item()\n",
    "    #     val_epoch_loss /= len(test_iter)\n",
    "    #     val_epoch_loss_lst.append(val_epoch_loss)\n",
    "\n",
    "    # if val_epoch_loss < best_val_epoch_loss:\n",
    "    #     best_val_epoch_loss = val_epoch_loss\n",
    "    #     print(f'New best model loss: {best_val_epoch_loss}')\n",
    "    #     if not os.path.exists('ncf_model'):\n",
    "    #         os.mkdir('ncf_model')\n",
    "\n",
    "    #     if os.path.exists('ncf_model/best.pth'):\n",
    "    #         os.remove('ncf_model/best.pth')\n",
    "    #         torch.save(model.state_dict(), 'ncf_model/best.pth')\n",
    "    #         print('best model is saved!')\n",
    "\n",
    "    "
   ]
  },
  {
   "cell_type": "code",
   "execution_count": 43,
   "metadata": {},
   "outputs": [
    {
     "data": {
      "text/plain": [
       "<matplotlib.legend.Legend at 0x219a100f460>"
      ]
     },
     "execution_count": 43,
     "metadata": {},
     "output_type": "execute_result"
    },
    {
     "data": {
      "image/png": "[encoded data removed]",
      "text/plain": [
       "<Figure size 432x288 with 1 Axes>"
      ]
     },
     "metadata": {
      "needs_background": "light"
     },
     "output_type": "display_data"
    }
   ],
   "source": [
    "import matplotlib.pyplot as plt\n",
    "\n",
    "plt.plot(train_epoch_loss, label='train loss')\n",
    "\n",
    "# plt.plot(val_epoch_loss_lst, label='val loss')\n",
    "plt.legend()"
   ]
  }
 ],
 "metadata": {
  "interpreter": {
   "hash": "93865c8914045f82f1cc4174d5a9f6658a56058b431eb3568707e1e9b23cbcf9"
  },
  "kernelspec": {
   "display_name": "Python 3.9.7 ('bc')",
   "language": "python",
   "name": "python3"
  },
  "language_info": {
   "codemirror_mode": {
    "name": "ipython",
    "version": 3
   },
   "file_extension": ".py",
   "mimetype": "text/x-python",
   "name": "python",
   "nbconvert_exporter": "python",
   "pygments_lexer": "ipython3",
   "version": "3.9.7"
  },
  "orig_nbformat": 4
 },
 "nbformat": 4,
 "nbformat_minor": 2
}
