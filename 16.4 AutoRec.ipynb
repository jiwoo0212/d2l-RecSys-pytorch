{
  "cells": [
    {
      "cell_type": "code",
      "execution_count": 73,
      "metadata": {
        "id": "tf6P3PxUx69g"
      },
      "outputs": [],
      "source": [
        "import os\n",
        "import pandas as pd\n",
        "import numpy as np\n",
        "\n",
        "import zipfile\n",
        "from urllib import request\n",
        "\n",
        "def download_ml100k():\n",
        "    # download\n",
        "    url = \"http://files.grouplens.org/datasets/movielens/ml-100k.zip\"\n",
        "    savename = \"ml-100k.zip\"\n",
        "    request.urlretrieve(url, savename)\n",
        "    print('Complete!')\n",
        "    # unzip\n",
        "    file_name = os.path.join('./', savename)\n",
        "    file_zip = zipfile.ZipFile(file_name)\n",
        "    file_zip.extractall('./')\n",
        "    file_zip.close()\n",
        "\n",
        "def read_data_ml100k():\n",
        "    if not os.path.isfile(os.path.join('./ml-100k/', 'u.data')):\n",
        "        print('Download ...')\n",
        "        download_ml100k()\n",
        "    names = ['user_id', 'item_id', 'rating', 'timestamp']\n",
        "    data = pd.read_csv(os.path.join('./ml-100k/', 'u.data'), '\\t', names=names,\n",
        "                       engine='python')\n",
        "    num_users = data.user_id.unique().shape[0]\n",
        "    num_items = data.item_id.unique().shape[0]\n",
        "    return data, num_users, num_items"
      ]
    },
    {
      "cell_type": "code",
      "execution_count": 74,
      "metadata": {
        "id": "x4Mx_4d6x69i"
      },
      "outputs": [],
      "source": [
        "def load_data_ml100k(data, num_users, num_items, feedback='explicit'):\n",
        "    users, items, scores = [], [], []\n",
        "    inter = np.zeros((num_items, num_users)) if feedback == 'explicit' else {}\n",
        "    for line in data.itertuples():\n",
        "        user_index, item_index = int(line[1] - 1), int(line[2] - 1)\n",
        "        score = int(line[3]) if feedback == 'explicit' else 1\n",
        "        users.append(user_index)\n",
        "        items.append(item_index)\n",
        "        scores.append(score)\n",
        "        if feedback == 'implicit':\n",
        "            inter.setdefault(user_index, []).append(item_index)\n",
        "        else:\n",
        "            inter[item_index, user_index] = score\n",
        "    return users, items, scores, inter"
      ]
    },
    {
      "cell_type": "code",
      "execution_count": 75,
      "metadata": {
        "id": "zzE0ypLax69i"
      },
      "outputs": [],
      "source": [
        "def split_data_ml100k(data, num_users, num_items,\n",
        "                      split_mode='random', test_ratio=0.1):\n",
        "    \"\"\"Split the dataset in random mode or seq-aware mode.\"\"\"\n",
        "    if split_mode == 'seq-aware':\n",
        "        train_items, test_items, train_list = {}, {}, []\n",
        "        for line in data.itertuples():\n",
        "            u, i, rating, time = line[1], line[2], line[3], line[4]\n",
        "            train_items.setdefault(u, []).append((u, i, rating, time))\n",
        "            if u not in test_items or test_items[u][-1] < time:\n",
        "                test_items[u] = (i, rating, time)\n",
        "        for u in range(1, num_users + 1):\n",
        "            train_list.extend(sorted(train_items[u], key=lambda k: k[3]))\n",
        "        test_data = [(key, *value) for key, value in test_items.items()]\n",
        "        train_data = [item for item in train_list if item not in test_data]\n",
        "        train_data = pd.DataFrame(train_data)\n",
        "        test_data = pd.DataFrame(test_data)\n",
        "    else:\n",
        "        mask = [True if x == 1 else False for x in np.random.uniform(\n",
        "            0, 1, (len(data))) < 1 - test_ratio]\n",
        "        neg_mask = [not x for x in mask]\n",
        "        train_data, test_data = data[mask], data[neg_mask]\n",
        "    return train_data, test_data"
      ]
    },
    {
      "cell_type": "code",
      "execution_count": 76,
      "metadata": {
        "id": "b2x3DeeQx69j"
      },
      "outputs": [],
      "source": [
        "from torch import nn\n",
        "class AutoRec(nn.Module):\n",
        "    def __init__(self, num_hidden, num_users, dropout=0.05):\n",
        "        super(AutoRec, self).__init__()\n",
        "        self.encoder = nn.Sequential(\n",
        "            nn.Linear(num_users, num_hidden, bias = True),\n",
        "            nn.Sigmoid(),\n",
        "            # nn.ReLU(True),\n",
        "            nn.Dropout(dropout)\n",
        "        )\n",
        "        self.decoder = nn.Sequential(\n",
        "            nn.Linear(num_hidden, num_users, bias=True),\n",
        "            # nn.ReLU(True),\n",
        "        )\n",
        "        self.type = type\n",
        "\n",
        "    def forward(self, input, type='train'):\n",
        "        x = self.encoder(input)\n",
        "        pred = self.decoder(x)\n",
        "        if type == 'train':  # Mask the gradient during training\n",
        "            return pred * torch.sign(input)\n",
        "        else:\n",
        "            return pred"
      ]
    },
    {
      "cell_type": "code",
      "execution_count": 77,
      "metadata": {
        "colab": {
          "base_uri": "https://localhost:8080/"
        },
        "id": "WJgjNNJRx69j",
        "outputId": "489b1acc-f958-4168-b433-8e638dfd3ad4"
      },
      "outputs": [
        {
          "output_type": "stream",
          "name": "stderr",
          "text": [
            "/usr/local/lib/python3.7/dist-packages/ipykernel_launcher.py:1: FutureWarning: In a future version of pandas all arguments of read_csv except for the argument 'filepath_or_buffer' will be keyword-only\n",
            "  \"\"\"Entry point for launching an IPython kernel.\n"
          ]
        },
        {
          "output_type": "stream",
          "name": "stdout",
          "text": [
            "number of users: 943, number of items: 1682\n",
            "matrix sparsity: 0.936953\n",
            "   user_id  item_id  rating  timestamp\n",
            "0      196      242       3  881250949\n",
            "1      186      302       3  891717742\n",
            "2       22      377       1  878887116\n",
            "3      244       51       2  880606923\n",
            "4      166      346       1  886397596\n"
          ]
        }
      ],
      "source": [
        "data, num_users, num_items = read_data_ml100k()\n",
        "sparsity = 1 - len(data) / (num_users * num_items)\n",
        "print(f'number of users: {num_users}, number of items: {num_items}')\n",
        "print(f'matrix sparsity: {sparsity:f}')\n",
        "print(data.head(5))"
      ]
    },
    {
      "cell_type": "code",
      "execution_count": 78,
      "metadata": {
        "colab": {
          "base_uri": "https://localhost:8080/"
        },
        "id": "afLJbyi_x69k",
        "outputId": "b053d406-3f46-462e-dcbf-c9dbe8d2d8aa"
      },
      "outputs": [
        {
          "output_type": "stream",
          "name": "stderr",
          "text": [
            "/usr/local/lib/python3.7/dist-packages/ipykernel_launcher.py:6: FutureWarning: In a future version of pandas all arguments of read_csv except for the argument 'filepath_or_buffer' will be keyword-only\n",
            "  \n"
          ]
        }
      ],
      "source": [
        "import torch\n",
        "from torch.utils.data import DataLoader\n",
        "\n",
        "device = torch.device(\"cuda\" if torch.cuda.is_available() else \"cpu\")\n",
        "# Load the MovieLens 100K dataset\n",
        "df, num_users, num_items = read_data_ml100k()\n",
        "train_data, test_data = split_data_ml100k(df, num_users, num_items)\n",
        "_, _, _, train_inter_mat = load_data_ml100k(train_data, num_users,\n",
        "                                                num_items)\n",
        "_, _, _, test_inter_mat = load_data_ml100k(test_data, num_users,\n",
        "                                               num_items)\n",
        "train_iter = DataLoader(train_inter_mat, shuffle=True, batch_size=256)\n",
        "test_iter = DataLoader(test_inter_mat, shuffle=True,batch_size=256)"
      ]
    },
    {
      "cell_type": "code",
      "execution_count": 79,
      "metadata": {
        "colab": {
          "base_uri": "https://localhost:8080/"
        },
        "id": "S0UYhMfUx69k",
        "outputId": "f752b456-3192-46d7-c3bd-9decc35f08e7"
      },
      "outputs": [
        {
          "output_type": "execute_result",
          "data": {
            "text/plain": [
              "torch.Size([256, 943])"
            ]
          },
          "metadata": {},
          "execution_count": 79
        }
      ],
      "source": [
        "next(iter(train_iter)).shape"
      ]
    },
    {
      "cell_type": "code",
      "execution_count": 80,
      "metadata": {
        "id": "0FmshuxLx69k"
      },
      "outputs": [],
      "source": [
        "# Model initialization, training, and evaluation\n",
        "\n",
        "# param \n",
        "lr, num_epoch, weight_decay, num_hidden = 0.002, 100, 1e-5, 500\n",
        "\n",
        "net = AutoRec(num_hidden, num_users).to(device)\n",
        "loss_func = nn.MSELoss()\n",
        "optimizer = torch.optim.Adam(net.parameters(), lr = lr, weight_decay=weight_decay)"
      ]
    },
    {
      "cell_type": "code",
      "execution_count": 81,
      "metadata": {
        "id": "7Tn50a6ux69l"
      },
      "outputs": [],
      "source": [
        "def evaluator(net, iter_matrix, device):\n",
        "    loss = 0\n",
        "    for i, values in enumerate(test_iter):\n",
        "        x = values.to(device).float()\n",
        "        output = net(x) #, type='test')\n",
        "        loss += loss_func(output,x).cpu().detach().numpy()\n",
        "    return loss/(i+1)"
      ]
    },
    {
      "cell_type": "code",
      "execution_count": 82,
      "metadata": {
        "colab": {
          "base_uri": "https://localhost:8080/"
        },
        "id": "S7jbfPPBx69l",
        "outputId": "9a6e1b65-ff00-485a-8d18-d13a548adff7"
      },
      "outputs": [
        {
          "output_type": "stream",
          "name": "stderr",
          "text": [
            "100%|██████████| 100/100 [00:28<00:00,  3.51it/s]\n"
          ]
        }
      ],
      "source": [
        "from tqdm import tqdm\n",
        "train_arr, test_arr = [], []\n",
        "for epoch in tqdm(range(num_epoch)):\n",
        "    train_loss = 0\n",
        "    test_loss = 0\n",
        "    for i, x in enumerate(train_iter):\n",
        "        x = x.to(device).float()\n",
        "        # ===================forward=====================\n",
        "        output = net.forward(x)\n",
        "        loss = loss_func(output,x)\n",
        "         # ===================backward====================\n",
        "        optimizer.zero_grad()\n",
        "        loss.backward()\n",
        "        optimizer.step()\n",
        "         # =================loss calculate==================\n",
        "        train_loss += loss.cpu().detach().numpy()\n",
        "    train_arr.append(train_loss/(i+1))\n",
        "    test_arr.append(evaluator(net, test_iter, device))\n",
        "\n"
      ]
    },
    {
      "cell_type": "code",
      "execution_count": 83,
      "metadata": {
        "id": "oD7EJvgNx69m",
        "colab": {
          "base_uri": "https://localhost:8080/",
          "height": 265
        },
        "outputId": "34f38f74-8ddf-4d6a-f259-acbb30aca449"
      },
      "outputs": [
        {
          "output_type": "display_data",
          "data": {
            "image/png": "[encoded data removed]",
            "text/plain": [
              "<Figure size 432x288 with 1 Axes>"
            ]
          },
          "metadata": {
            "needs_background": "light"
          }
        }
      ],
      "source": [
        "import matplotlib.pyplot as plt\n",
        "%matplotlib inline\n",
        "\n",
        "fig = plt.figure()\n",
        "ax = fig.add_subplot()\n",
        "ax.plot(train_arr)\n",
        "ax.plot(test_arr)\n",
        "plt.show()"
      ]
    },
    {
      "cell_type": "code",
      "execution_count": 84,
      "metadata": {
        "id": "Fgh70ye0x69m"
      },
      "outputs": [],
      "source": [
        ""
      ]
    }
  ],
  "metadata": {
    "colab": {
      "name": "autorec_pytorch.ipynb",
      "provenance": []
    },
    "interpreter": {
      "hash": "31f2aee4e71d21fbe5cf8b01ff0e069b9275f58929596ceb00d14d90e3e16cd6"
    },
    "kernelspec": {
      "display_name": "Python 3.8.9 64-bit",
      "language": "python",
      "name": "python3"
    },
    "language_info": {
      "codemirror_mode": {
        "name": "ipython",
        "version": 3
      },
      "file_extension": ".py",
      "mimetype": "text/x-python",
      "name": "python",
      "nbconvert_exporter": "python",
      "pygments_lexer": "ipython3",
      "version": "3.7.12"
    },
    "orig_nbformat": 4
  },
  "nbformat": 4,
  "nbformat_minor": 0
}