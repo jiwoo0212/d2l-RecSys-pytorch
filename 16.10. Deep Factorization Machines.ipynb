{
 "cells": [
  {
   "cell_type": "code",
   "execution_count": 2,
   "metadata": {},
   "outputs": [],
   "source": [
    "import os\n",
    "import hashlib\n",
    "import requests\n",
    "import zipfile, tarfile\n",
    "import numpy as np\n",
    "from collections import defaultdict\n",
    "\n",
    "import torch\n",
    "from torch import nn\n",
    "from torch.utils.data import Dataset, DataLoader\n",
    "\n",
    "def download():\n",
    "    url, sha1_hash = ('http://d2l-data.s3-accelerate.amazonaws.com/ctr.zip',\n",
    "                        'e18327c48c8e8e5c23da714dd614e390d369843f')\n",
    "    cache_dir=os.path.join('..', 'data')\n",
    "    os.makedirs(cache_dir, exist_ok=True)\n",
    "    fname = os.path.join(cache_dir, url.split('/')[-1])\n",
    "    if os.path.exists(fname):\n",
    "        sha1 = hashlib.sha1()\n",
    "        with open(fname, 'rb') as f:\n",
    "            while True:\n",
    "                data = f.read(1048576)\n",
    "                if not data:\n",
    "                    break\n",
    "                sha1.update(data)\n",
    "        if sha1.hexdigest() == sha1_hash:\n",
    "            return fname  # Hit cache\n",
    "    print(f'Downloading {fname} from {url}...')\n",
    "    r = requests.get(url, stream=True, verify=True)\n",
    "    with open(fname, 'wb') as f:\n",
    "        f.write(r.content)\n",
    "    return fname\n",
    "\n",
    "def download_extract(folder=None):\n",
    "    fname = download()\n",
    "    base_dir = os.path.dirname(fname)\n",
    "    data_dir, ext = os.path.splitext(fname)\n",
    "    if ext == '.zip':\n",
    "        fp = zipfile.ZipFile(fname, 'r')\n",
    "    elif ext in ('.tar', '.gz'):\n",
    "        fp = tarfile.open(fname, 'r')\n",
    "    else:\n",
    "        assert False, 'Only zip/tar files can be extracted.'\n",
    "    fp.extractall(base_dir)\n",
    "    return os.path.join(base_dir, folder) if folder else data_dir\n"
   ]
  },
  {
   "cell_type": "code",
   "execution_count": 21,
   "metadata": {},
   "outputs": [],
   "source": [
    "class CTRDataset(Dataset):\n",
    "    def __init__(self, data_path, feat_mapper=None, defaults=None,\n",
    "                 min_threshold=4, num_feat=34):\n",
    "        self.NUM_FEATS, self.count, self.data = num_feat, 0, {}\n",
    "        feat_cnts = defaultdict(lambda: defaultdict(int))\n",
    "        self.feat_mapper, self.defaults = feat_mapper, defaults\n",
    "        self.field_dims = np.zeros(self.NUM_FEATS, dtype=np.int64)\n",
    "        with open(data_path) as f:\n",
    "            for line in f:\n",
    "                instance = {}\n",
    "                values = line.rstrip('\\n').split('\\t')\n",
    "                if len(values) != self.NUM_FEATS + 1:\n",
    "                    continue\n",
    "                label = np.float32([0, 0])\n",
    "                label[int(values[0])] = 1\n",
    "                instance['y'] = [np.float32(values[0])]\n",
    "                for i in range(1, self.NUM_FEATS + 1):\n",
    "                    feat_cnts[i][values[i]] += 1\n",
    "                    instance.setdefault('x', []).append(values[i])\n",
    "                self.data[self.count] = instance\n",
    "                self.count = self.count + 1\n",
    "        if self.feat_mapper is None and self.defaults is None:\n",
    "            feat_mapper = {i: {feat for feat, c in cnt.items() if c >=\n",
    "                               min_threshold} for i, cnt in feat_cnts.items()}\n",
    "            self.feat_mapper = {i: {feat_v: idx for idx, feat_v in enumerate(feat_values)}\n",
    "                                for i, feat_values in feat_mapper.items()}\n",
    "            self.defaults = {i: len(feat_values) for i, feat_values in feat_mapper.items()}\n",
    "        for i, fm in self.feat_mapper.items():\n",
    "            self.field_dims[i - 1] = len(fm) + 1\n",
    "        self.offsets = np.array((0, *np.asarray(np.cumsum(self.field_dims))\n",
    "                                 [:-1]))\n",
    "\n",
    "    def __len__(self):\n",
    "        return self.count\n",
    "\n",
    "    def __getitem__(self, idx):\n",
    "        feat = np.array([self.feat_mapper[i + 1].get(v, self.defaults[i + 1])\n",
    "                         for i, v in enumerate(self.data[idx]['x'])])\n",
    "        return feat + self.offsets, self.data[idx]['y']"
   ]
  },
  {
   "cell_type": "code",
   "execution_count": 28,
   "metadata": {},
   "outputs": [],
   "source": [
    "class DeepFM(nn.Module):\n",
    "    def __init__(self, field_dims, num_factors, mlp_dims, drop_rate=0.1):\n",
    "        super(DeepFM, self).__init__()\n",
    "        num_inputs = int(sum(field_dims))\n",
    "        self.embedding = nn.Embedding(num_inputs, num_factors)\n",
    "        self.fc = nn.Embedding(num_inputs, 1)\n",
    "        self.linear_layer = nn.Linear(1, 1)\n",
    "        input_dim = self.embed_output_dim = len(field_dims) * num_factors\n",
    "        self.mlp = []\n",
    "        for dim in mlp_dims:\n",
    "            self.mlp.append(nn.Linear(input_dim, dim))\n",
    "            self.mlp.append(nn.ReLU())\n",
    "            self.mlp.append(nn.Dropout(p=drop_rate))\n",
    "            input_dim = dim\n",
    "        self.mlp.append(nn.Linear(input_dim, 1))\n",
    "        self.mlp = nn.Sequential(*self.mlp)\n",
    "\n",
    "    def forward(self, x):\n",
    "        embed_x = self.embedding(x)\n",
    "        square_of_sum = torch.sum(embed_x, axis=1) ** 2\n",
    "        sum_of_square = torch.sum(embed_x ** 2, axis=1)\n",
    "        inputs = embed_x.view(-1, self.embed_output_dim)\n",
    "        x = self.linear_layer(self.fc(x).sum(1)) \\\n",
    "            + 0.5 * (square_of_sum - sum_of_square).sum(1, keepdims=True) \\\n",
    "            + self.mlp(inputs)\n",
    "        x = torch.sigmoid(x)\n",
    "        return x"
   ]
  },
  {
   "cell_type": "code",
   "execution_count": 29,
   "metadata": {},
   "outputs": [],
   "source": [
    "batch_size = 2048\n",
    "data_dir = download_extract()\n",
    "train_data = CTRDataset(os.path.join(data_dir, 'train.csv'))\n",
    "test_data = CTRDataset(os.path.join(data_dir, 'test.csv'),\n",
    "                           feat_mapper=train_data.feat_mapper,\n",
    "                           defaults=train_data.defaults)\n",
    "train_iter = DataLoader(train_data, shuffle=True, batch_size = batch_size)\n",
    "test_iter = DataLoader(test_data, shuffle=False, batch_size=batch_size)"
   ]
  },
  {
   "cell_type": "code",
   "execution_count": 30,
   "metadata": {},
   "outputs": [],
   "source": [
    "device = torch.device('cuda' if torch.cuda.is_available() else 'cpu')\n",
    "net = DeepFM(train_data.field_dims, num_factors=20, mlp_dims=[30, 20, 10])\n",
    "net.to(device)\n",
    "lr, num_epochs, wd = 0.002, 50, 1e-5\n",
    "loss_func = torch.nn.BCELoss()\n",
    "optimizer = torch.optim.Adam(net.parameters(), lr = lr, weight_decay=wd)"
   ]
  },
  {
   "cell_type": "code",
   "execution_count": 31,
   "metadata": {},
   "outputs": [
    {
     "name": "stderr",
     "output_type": "stream",
     "text": [
      "  0%|          | 0/50 [00:00<?, ?it/s]"
     ]
    },
    {
     "name": "stdout",
     "output_type": "stream",
     "text": [
      "0 epoch 0th train iter loss: 40.83259582519531\n"
     ]
    },
    {
     "name": "stderr",
     "output_type": "stream",
     "text": [
      "  2%|▏         | 1/50 [00:00<00:45,  1.08it/s]"
     ]
    },
    {
     "name": "stdout",
     "output_type": "stream",
     "text": [
      "0 epoch ALL LOSS :  40.031334400177\n",
      "New best model loss: 37.40003204345703\n",
      "best model is saved!\n",
      "1 epoch 0th train iter loss: 38.229217529296875\n"
     ]
    },
    {
     "name": "stderr",
     "output_type": "stream",
     "text": [
      "  4%|▍         | 2/50 [00:01<00:35,  1.36it/s]"
     ]
    },
    {
     "name": "stdout",
     "output_type": "stream",
     "text": [
      "1 epoch ALL LOSS :  36.09484815597534\n",
      "New best model loss: 33.06837463378906\n",
      "best model is saved!\n",
      "2 epoch 0th train iter loss: 32.89509582519531\n"
     ]
    },
    {
     "name": "stderr",
     "output_type": "stream",
     "text": [
      "  6%|▌         | 3/50 [00:02<00:35,  1.31it/s]"
     ]
    },
    {
     "name": "stdout",
     "output_type": "stream",
     "text": [
      "2 epoch ALL LOSS :  32.45088267326355\n",
      "New best model loss: 29.503297805786133\n",
      "best model is saved!\n",
      "3 epoch 0th train iter loss: 31.717641830444336\n"
     ]
    },
    {
     "name": "stderr",
     "output_type": "stream",
     "text": [
      "  8%|▊         | 4/50 [00:02<00:31,  1.48it/s]"
     ]
    },
    {
     "name": "stdout",
     "output_type": "stream",
     "text": [
      "3 epoch ALL LOSS :  30.99166440963745\n",
      "4 epoch 0th train iter loss: 31.31369400024414\n"
     ]
    },
    {
     "name": "stderr",
     "output_type": "stream",
     "text": [
      " 10%|█         | 5/50 [00:03<00:28,  1.57it/s]"
     ]
    },
    {
     "name": "stdout",
     "output_type": "stream",
     "text": [
      "4 epoch ALL LOSS :  34.05781269073486\n",
      "5 epoch 0th train iter loss: 35.988304138183594\n"
     ]
    },
    {
     "name": "stderr",
     "output_type": "stream",
     "text": [
      " 12%|█▏        | 6/50 [00:03<00:26,  1.67it/s]"
     ]
    },
    {
     "name": "stdout",
     "output_type": "stream",
     "text": [
      "5 epoch ALL LOSS :  37.72221565246582\n",
      "6 epoch 0th train iter loss: 38.51770782470703\n"
     ]
    },
    {
     "name": "stderr",
     "output_type": "stream",
     "text": [
      " 14%|█▍        | 7/50 [00:04<00:24,  1.77it/s]"
     ]
    },
    {
     "name": "stdout",
     "output_type": "stream",
     "text": [
      "6 epoch ALL LOSS :  38.75284385681152\n",
      "7 epoch 0th train iter loss: 36.82433319091797\n"
     ]
    },
    {
     "name": "stderr",
     "output_type": "stream",
     "text": [
      " 16%|█▌        | 8/50 [00:04<00:22,  1.85it/s]"
     ]
    },
    {
     "name": "stdout",
     "output_type": "stream",
     "text": [
      "7 epoch ALL LOSS :  36.74136734008789\n",
      "8 epoch 0th train iter loss: 35.136802673339844\n"
     ]
    },
    {
     "name": "stderr",
     "output_type": "stream",
     "text": [
      " 18%|█▊        | 9/50 [00:05<00:22,  1.80it/s]"
     ]
    },
    {
     "name": "stdout",
     "output_type": "stream",
     "text": [
      "8 epoch ALL LOSS :  34.43434715270996\n",
      "9 epoch 0th train iter loss: 35.7198486328125\n"
     ]
    },
    {
     "name": "stderr",
     "output_type": "stream",
     "text": [
      " 20%|██        | 10/50 [00:06<00:22,  1.81it/s]"
     ]
    },
    {
     "name": "stdout",
     "output_type": "stream",
     "text": [
      "9 epoch ALL LOSS :  32.82834029197693\n",
      "10 epoch 0th train iter loss: 32.91357421875\n"
     ]
    },
    {
     "name": "stderr",
     "output_type": "stream",
     "text": [
      " 22%|██▏       | 11/50 [00:06<00:20,  1.87it/s]"
     ]
    },
    {
     "name": "stdout",
     "output_type": "stream",
     "text": [
      "10 epoch ALL LOSS :  31.846435546875\n",
      "11 epoch 0th train iter loss: 30.269643783569336\n"
     ]
    },
    {
     "name": "stderr",
     "output_type": "stream",
     "text": [
      " 24%|██▍       | 12/50 [00:07<00:21,  1.81it/s]"
     ]
    },
    {
     "name": "stdout",
     "output_type": "stream",
     "text": [
      "11 epoch ALL LOSS :  30.03439211845398\n",
      "12 epoch 0th train iter loss: 29.70044708251953\n"
     ]
    },
    {
     "name": "stderr",
     "output_type": "stream",
     "text": [
      " 26%|██▌       | 13/50 [00:07<00:20,  1.80it/s]"
     ]
    },
    {
     "name": "stdout",
     "output_type": "stream",
     "text": [
      "12 epoch ALL LOSS :  28.50477433204651\n",
      "New best model loss: 28.232916831970215\n",
      "best model is saved!\n",
      "13 epoch 0th train iter loss: 26.937068939208984\n"
     ]
    },
    {
     "name": "stderr",
     "output_type": "stream",
     "text": [
      " 28%|██▊       | 14/50 [00:08<00:21,  1.67it/s]"
     ]
    },
    {
     "name": "stdout",
     "output_type": "stream",
     "text": [
      "13 epoch ALL LOSS :  26.69394016265869\n",
      "New best model loss: 25.056361198425293\n",
      "best model is saved!\n",
      "14 epoch 0th train iter loss: 25.450416564941406\n"
     ]
    },
    {
     "name": "stderr",
     "output_type": "stream",
     "text": [
      " 30%|███       | 15/50 [00:08<00:20,  1.70it/s]"
     ]
    },
    {
     "name": "stdout",
     "output_type": "stream",
     "text": [
      "14 epoch ALL LOSS :  23.474169492721558\n",
      "New best model loss: 23.320996284484863\n",
      "best model is saved!\n",
      "15 epoch 0th train iter loss: 22.106666564941406\n"
     ]
    },
    {
     "name": "stderr",
     "output_type": "stream",
     "text": [
      " 32%|███▏      | 16/50 [00:09<00:19,  1.73it/s]"
     ]
    },
    {
     "name": "stdout",
     "output_type": "stream",
     "text": [
      "15 epoch ALL LOSS :  22.384140491485596\n",
      "New best model loss: 19.79927921295166\n",
      "best model is saved!\n",
      "16 epoch 0th train iter loss: 21.229816436767578\n"
     ]
    },
    {
     "name": "stderr",
     "output_type": "stream",
     "text": [
      " 34%|███▍      | 17/50 [00:10<00:18,  1.76it/s]"
     ]
    },
    {
     "name": "stdout",
     "output_type": "stream",
     "text": [
      "16 epoch ALL LOSS :  19.710220098495483\n",
      "New best model loss: 19.351819038391113\n",
      "best model is saved!\n",
      "17 epoch 0th train iter loss: 18.807693481445312\n"
     ]
    },
    {
     "name": "stderr",
     "output_type": "stream",
     "text": [
      " 36%|███▌      | 18/50 [00:10<00:19,  1.67it/s]"
     ]
    },
    {
     "name": "stdout",
     "output_type": "stream",
     "text": [
      "17 epoch ALL LOSS :  18.256134748458862\n",
      "New best model loss: 16.128771781921387\n",
      "best model is saved!\n",
      "18 epoch 0th train iter loss: 15.58908462524414\n"
     ]
    },
    {
     "name": "stderr",
     "output_type": "stream",
     "text": [
      " 38%|███▊      | 19/50 [00:11<00:17,  1.73it/s]"
     ]
    },
    {
     "name": "stdout",
     "output_type": "stream",
     "text": [
      "18 epoch ALL LOSS :  16.601072549819946\n",
      "New best model loss: 15.14638090133667\n",
      "best model is saved!\n",
      "19 epoch 0th train iter loss: 13.480133056640625\n"
     ]
    },
    {
     "name": "stderr",
     "output_type": "stream",
     "text": [
      " 40%|████      | 20/50 [00:11<00:16,  1.78it/s]"
     ]
    },
    {
     "name": "stdout",
     "output_type": "stream",
     "text": [
      "19 epoch ALL LOSS :  14.567777633666992\n",
      "New best model loss: 12.681089401245117\n",
      "best model is saved!\n",
      "20 epoch 0th train iter loss: 13.210480690002441\n"
     ]
    },
    {
     "name": "stderr",
     "output_type": "stream",
     "text": [
      " 42%|████▏     | 21/50 [00:12<00:16,  1.78it/s]"
     ]
    },
    {
     "name": "stdout",
     "output_type": "stream",
     "text": [
      "20 epoch ALL LOSS :  13.100658059120178\n",
      "New best model loss: 11.594634056091309\n",
      "best model is saved!\n",
      "21 epoch 0th train iter loss: 12.215960502624512\n"
     ]
    },
    {
     "name": "stderr",
     "output_type": "stream",
     "text": [
      " 44%|████▍     | 22/50 [00:13<00:16,  1.66it/s]"
     ]
    },
    {
     "name": "stdout",
     "output_type": "stream",
     "text": [
      "21 epoch ALL LOSS :  11.555198550224304\n",
      "New best model loss: 11.09849739074707\n",
      "best model is saved!\n",
      "22 epoch 0th train iter loss: 11.805994033813477\n"
     ]
    },
    {
     "name": "stderr",
     "output_type": "stream",
     "text": [
      " 46%|████▌     | 23/50 [00:13<00:15,  1.70it/s]"
     ]
    },
    {
     "name": "stdout",
     "output_type": "stream",
     "text": [
      "22 epoch ALL LOSS :  11.061305046081543\n",
      "New best model loss: 10.237969875335693\n",
      "best model is saved!\n",
      "23 epoch 0th train iter loss: 10.423738479614258\n"
     ]
    },
    {
     "name": "stderr",
     "output_type": "stream",
     "text": [
      " 48%|████▊     | 24/50 [00:14<00:14,  1.74it/s]"
     ]
    },
    {
     "name": "stdout",
     "output_type": "stream",
     "text": [
      "23 epoch ALL LOSS :  10.026164531707764\n",
      "New best model loss: 9.371363162994385\n",
      "best model is saved!\n",
      "24 epoch 0th train iter loss: 10.10979175567627\n"
     ]
    },
    {
     "name": "stderr",
     "output_type": "stream",
     "text": [
      " 50%|█████     | 25/50 [00:14<00:13,  1.87it/s]"
     ]
    },
    {
     "name": "stdout",
     "output_type": "stream",
     "text": [
      "24 epoch ALL LOSS :  9.226050615310669\n",
      "New best model loss: 9.045873641967773\n",
      "best model is saved!\n",
      "25 epoch 0th train iter loss: 7.712798118591309\n"
     ]
    },
    {
     "name": "stderr",
     "output_type": "stream",
     "text": [
      " 52%|█████▏    | 26/50 [00:15<00:12,  1.94it/s]"
     ]
    },
    {
     "name": "stdout",
     "output_type": "stream",
     "text": [
      "25 epoch ALL LOSS :  8.42124879360199\n",
      "New best model loss: 8.261923789978027\n",
      "best model is saved!\n",
      "26 epoch 0th train iter loss: 7.6324052810668945\n"
     ]
    },
    {
     "name": "stderr",
     "output_type": "stream",
     "text": [
      " 54%|█████▍    | 27/50 [00:15<00:12,  1.84it/s]"
     ]
    },
    {
     "name": "stdout",
     "output_type": "stream",
     "text": [
      "26 epoch ALL LOSS :  7.652760207653046\n",
      "27 epoch 0th train iter loss: 7.205610752105713\n"
     ]
    },
    {
     "name": "stderr",
     "output_type": "stream",
     "text": [
      " 56%|█████▌    | 28/50 [00:16<00:11,  1.90it/s]"
     ]
    },
    {
     "name": "stdout",
     "output_type": "stream",
     "text": [
      "27 epoch ALL LOSS :  7.144689738750458\n",
      "28 epoch 0th train iter loss: 6.655155658721924\n"
     ]
    },
    {
     "name": "stderr",
     "output_type": "stream",
     "text": [
      " 58%|█████▊    | 29/50 [00:16<00:10,  1.96it/s]"
     ]
    },
    {
     "name": "stdout",
     "output_type": "stream",
     "text": [
      "28 epoch ALL LOSS :  6.849704384803772\n",
      "29 epoch 0th train iter loss: 7.3394775390625\n"
     ]
    },
    {
     "name": "stderr",
     "output_type": "stream",
     "text": [
      " 60%|██████    | 30/50 [00:17<00:09,  2.01it/s]"
     ]
    },
    {
     "name": "stdout",
     "output_type": "stream",
     "text": [
      "29 epoch ALL LOSS :  6.24709951877594\n",
      "New best model loss: 7.813644647598267\n",
      "best model is saved!\n",
      "30 epoch 0th train iter loss: 6.009182453155518\n"
     ]
    },
    {
     "name": "stderr",
     "output_type": "stream",
     "text": [
      " 62%|██████▏   | 31/50 [00:17<00:10,  1.88it/s]"
     ]
    },
    {
     "name": "stdout",
     "output_type": "stream",
     "text": [
      "30 epoch ALL LOSS :  5.83645886182785\n",
      "New best model loss: 7.55126953125\n",
      "best model is saved!\n",
      "31 epoch 0th train iter loss: 6.9739837646484375\n"
     ]
    },
    {
     "name": "stderr",
     "output_type": "stream",
     "text": [
      " 64%|██████▍   | 32/50 [00:18<00:09,  1.89it/s]"
     ]
    },
    {
     "name": "stdout",
     "output_type": "stream",
     "text": [
      "31 epoch ALL LOSS :  5.587188184261322\n",
      "New best model loss: 6.834076881408691\n",
      "best model is saved!\n",
      "32 epoch 0th train iter loss: 5.503795623779297\n"
     ]
    },
    {
     "name": "stderr",
     "output_type": "stream",
     "text": [
      " 66%|██████▌   | 33/50 [00:18<00:08,  1.97it/s]"
     ]
    },
    {
     "name": "stdout",
     "output_type": "stream",
     "text": [
      "32 epoch ALL LOSS :  5.187675416469574\n",
      "New best model loss: 6.111038684844971\n",
      "best model is saved!\n",
      "33 epoch 0th train iter loss: 4.670981407165527\n"
     ]
    },
    {
     "name": "stderr",
     "output_type": "stream",
     "text": [
      " 68%|██████▊   | 34/50 [00:19<00:07,  2.02it/s]"
     ]
    },
    {
     "name": "stdout",
     "output_type": "stream",
     "text": [
      "33 epoch ALL LOSS :  4.895910620689392\n",
      "34 epoch 0th train iter loss: 4.564958095550537\n"
     ]
    },
    {
     "name": "stderr",
     "output_type": "stream",
     "text": [
      " 70%|███████   | 35/50 [00:19<00:07,  1.95it/s]"
     ]
    },
    {
     "name": "stdout",
     "output_type": "stream",
     "text": [
      "34 epoch ALL LOSS :  4.728210389614105\n",
      "New best model loss: 5.595307111740112\n",
      "best model is saved!\n",
      "35 epoch 0th train iter loss: 4.243418216705322\n"
     ]
    },
    {
     "name": "stderr",
     "output_type": "stream",
     "text": [
      " 72%|███████▏  | 36/50 [00:20<00:07,  1.94it/s]"
     ]
    },
    {
     "name": "stdout",
     "output_type": "stream",
     "text": [
      "35 epoch ALL LOSS :  4.502475470304489\n",
      "New best model loss: 5.371298313140869\n",
      "best model is saved!\n",
      "36 epoch 0th train iter loss: 4.4398040771484375\n"
     ]
    },
    {
     "name": "stderr",
     "output_type": "stream",
     "text": [
      " 74%|███████▍  | 37/50 [00:20<00:06,  1.95it/s]"
     ]
    },
    {
     "name": "stdout",
     "output_type": "stream",
     "text": [
      "36 epoch ALL LOSS :  4.398535847663879\n",
      "37 epoch 0th train iter loss: 4.112563133239746\n"
     ]
    },
    {
     "name": "stderr",
     "output_type": "stream",
     "text": [
      " 76%|███████▌  | 38/50 [00:21<00:06,  1.97it/s]"
     ]
    },
    {
     "name": "stdout",
     "output_type": "stream",
     "text": [
      "37 epoch ALL LOSS :  4.220586329698563\n",
      "38 epoch 0th train iter loss: 4.250271797180176\n"
     ]
    },
    {
     "name": "stderr",
     "output_type": "stream",
     "text": [
      " 78%|███████▊  | 39/50 [00:21<00:05,  1.96it/s]"
     ]
    },
    {
     "name": "stdout",
     "output_type": "stream",
     "text": [
      "38 epoch ALL LOSS :  3.9359026551246643\n",
      "New best model loss: 4.684749603271484\n",
      "best model is saved!\n",
      "39 epoch 0th train iter loss: 3.990074396133423\n"
     ]
    },
    {
     "name": "stderr",
     "output_type": "stream",
     "text": [
      " 80%|████████  | 40/50 [00:22<00:05,  1.91it/s]"
     ]
    },
    {
     "name": "stdout",
     "output_type": "stream",
     "text": [
      "39 epoch ALL LOSS :  3.824028432369232\n",
      "40 epoch 0th train iter loss: 3.681398868560791\n"
     ]
    },
    {
     "name": "stderr",
     "output_type": "stream",
     "text": [
      " 82%|████████▏ | 41/50 [00:22<00:04,  2.01it/s]"
     ]
    },
    {
     "name": "stdout",
     "output_type": "stream",
     "text": [
      "40 epoch ALL LOSS :  3.946272850036621\n",
      "41 epoch 0th train iter loss: 4.489659309387207\n"
     ]
    },
    {
     "name": "stderr",
     "output_type": "stream",
     "text": [
      " 84%|████████▍ | 42/50 [00:23<00:03,  2.08it/s]"
     ]
    },
    {
     "name": "stdout",
     "output_type": "stream",
     "text": [
      "41 epoch ALL LOSS :  3.8355216681957245\n",
      "42 epoch 0th train iter loss: 3.7009475231170654\n"
     ]
    },
    {
     "name": "stderr",
     "output_type": "stream",
     "text": [
      " 86%|████████▌ | 43/50 [00:23<00:03,  2.08it/s]"
     ]
    },
    {
     "name": "stdout",
     "output_type": "stream",
     "text": [
      "42 epoch ALL LOSS :  3.783873200416565\n",
      "New best model loss: 4.453169345855713\n",
      "best model is saved!\n",
      "43 epoch 0th train iter loss: 3.554664373397827\n"
     ]
    },
    {
     "name": "stderr",
     "output_type": "stream",
     "text": [
      " 88%|████████▊ | 44/50 [00:24<00:03,  1.97it/s]"
     ]
    },
    {
     "name": "stdout",
     "output_type": "stream",
     "text": [
      "43 epoch ALL LOSS :  3.5202051997184753\n",
      "44 epoch 0th train iter loss: 3.1310746669769287\n"
     ]
    },
    {
     "name": "stderr",
     "output_type": "stream",
     "text": [
      " 90%|█████████ | 45/50 [00:24<00:02,  1.98it/s]"
     ]
    },
    {
     "name": "stdout",
     "output_type": "stream",
     "text": [
      "44 epoch ALL LOSS :  3.5817212760448456\n",
      "45 epoch 0th train iter loss: 3.3841068744659424\n"
     ]
    },
    {
     "name": "stderr",
     "output_type": "stream",
     "text": [
      " 92%|█████████▏| 46/50 [00:25<00:02,  1.99it/s]"
     ]
    },
    {
     "name": "stdout",
     "output_type": "stream",
     "text": [
      "45 epoch ALL LOSS :  3.507617324590683\n",
      "New best model loss: 4.374750375747681\n",
      "best model is saved!\n",
      "46 epoch 0th train iter loss: 3.2274460792541504\n"
     ]
    },
    {
     "name": "stderr",
     "output_type": "stream",
     "text": [
      " 94%|█████████▍| 47/50 [00:25<00:01,  2.02it/s]"
     ]
    },
    {
     "name": "stdout",
     "output_type": "stream",
     "text": [
      "46 epoch ALL LOSS :  3.528108537197113\n",
      "47 epoch 0th train iter loss: 3.469398021697998\n"
     ]
    },
    {
     "name": "stderr",
     "output_type": "stream",
     "text": [
      " 96%|█████████▌| 48/50 [00:26<00:01,  1.99it/s]"
     ]
    },
    {
     "name": "stdout",
     "output_type": "stream",
     "text": [
      "47 epoch ALL LOSS :  3.4954930245876312\n",
      "New best model loss: 4.252176523208618\n",
      "best model is saved!\n",
      "48 epoch 0th train iter loss: 3.6684913635253906\n"
     ]
    },
    {
     "name": "stderr",
     "output_type": "stream",
     "text": [
      " 98%|█████████▊| 49/50 [00:26<00:00,  2.07it/s]"
     ]
    },
    {
     "name": "stdout",
     "output_type": "stream",
     "text": [
      "48 epoch ALL LOSS :  3.3767002522945404\n",
      "49 epoch 0th train iter loss: 3.9946653842926025\n"
     ]
    },
    {
     "name": "stderr",
     "output_type": "stream",
     "text": [
      "100%|██████████| 50/50 [00:27<00:00,  1.84it/s]"
     ]
    },
    {
     "name": "stdout",
     "output_type": "stream",
     "text": [
      "49 epoch ALL LOSS :  3.437002122402191\n"
     ]
    },
    {
     "name": "stderr",
     "output_type": "stream",
     "text": [
      "\n"
     ]
    }
   ],
   "source": [
    "from tqdm import tqdm\n",
    "import glob\n",
    "\n",
    "train_epoch_loss = []\n",
    "val_epoch_loss_lst = []\n",
    "best_val_epoch_loss = int(1e9)\n",
    "for epoch in tqdm(range(num_epochs)):\n",
    "  train_iter_loss = []\n",
    "  for i, values in enumerate(train_iter):\n",
    "    train_data = values[0].long().to(device)\n",
    "    labels = values[1][0].long().to(device).unsqueeze(1) \n",
    "    preds = net(train_data) #.squeeze()\n",
    "    loss = loss_func(preds.to(torch.float32), labels.to(torch.float32))\n",
    "    optimizer.zero_grad()\n",
    "    loss.backward()\n",
    "    optimizer.step()\n",
    "    train_iter_loss.append(loss.detach().item())\n",
    "    if i%50 == 0:\n",
    "      print(f'{epoch} epoch {i}th train iter loss: {loss.detach().item()}')  \n",
    "  train_epoch_loss.append(np.mean(train_iter_loss))\n",
    "  print(f'{epoch} epoch ALL LOSS : ', np.mean(train_iter_loss))\n",
    "  \n",
    "  with torch.no_grad():\n",
    "    net.eval()\n",
    "    val_epoch_loss = 0\n",
    "    for i, values in enumerate(test_iter):\n",
    "      test_data = values[0].long().to(device)\n",
    "      labels = values[1][0].long().to(device).unsqueeze(1) \n",
    "      preds = net(test_data)\n",
    "      loss = loss_func(preds.to(torch.float32), labels.to(torch.float32))\n",
    "      val_epoch_loss += loss.detach().item()\n",
    "  val_epoch_loss /= len(test_iter)\n",
    "  val_epoch_loss_lst.append(val_epoch_loss)\n",
    "\n",
    "  if val_epoch_loss < best_val_epoch_loss:\n",
    "    best_val_epoch_loss = val_epoch_loss\n",
    "    print(f'New best model loss: {best_val_epoch_loss}')\n",
    "    if not os.path.exists('model'):\n",
    "      os.mkdir('model')\n",
    "\n",
    "    if os.path.exists('model/best.pth'):\n",
    "      os.remove('model/best.pth')\n",
    "    torch.save(net.state_dict(), 'model/best.pth')\n",
    "    print('best model is saved!')\n",
    "    \n",
    "  "
   ]
  },
  {
   "cell_type": "code",
   "execution_count": 32,
   "metadata": {},
   "outputs": [
    {
     "data": {
      "text/plain": [
       "<matplotlib.legend.Legend at 0x1df754f7e80>"
      ]
     },
     "execution_count": 32,
     "metadata": {},
     "output_type": "execute_result"
    },
    {
     "data": {
      "image/png": "[encoded data removed]",
      "text/plain": [
       "<Figure size 432x288 with 1 Axes>"
      ]
     },
     "metadata": {
      "needs_background": "light"
     },
     "output_type": "display_data"
    }
   ],
   "source": [
    "import matplotlib.pyplot as plt\n",
    "\n",
    "plt.plot(train_epoch_loss, label='train loss')\n",
    "plt.plot(val_epoch_loss_lst, label='val loss')\n",
    "plt.legend()"
   ]
  }
 ],
 "metadata": {
  "interpreter": {
   "hash": "93865c8914045f82f1cc4174d5a9f6658a56058b431eb3568707e1e9b23cbcf9"
  },
  "kernelspec": {
   "display_name": "Python 3.9.7 ('bc')",
   "language": "python",
   "name": "python3"
  },
  "language_info": {
   "codemirror_mode": {
    "name": "ipython",
    "version": 3
   },
   "file_extension": ".py",
   "mimetype": "text/x-python",
   "name": "python",
   "nbconvert_exporter": "python",
   "pygments_lexer": "ipython3",
   "version": "3.9.7"
  },
  "orig_nbformat": 4
 },
 "nbformat": 4,
 "nbformat_minor": 2
}
