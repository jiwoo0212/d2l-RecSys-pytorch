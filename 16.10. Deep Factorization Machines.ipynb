{
 "cells": [
  {
   "cell_type": "code",
   "execution_count": 66,
   "metadata": {},
   "outputs": [],
   "source": [
    "import os\n",
    "import hashlib\n",
    "import requests\n",
    "import zipfile, tarfile\n",
    "import numpy as np\n",
    "from collections import defaultdict\n",
    "\n",
    "import torch\n",
    "from torch import nn\n",
    "from torch.utils.data import Dataset, DataLoader\n",
    "\n",
    "def download():\n",
    "    url, sha1_hash = ('http://d2l-data.s3-accelerate.amazonaws.com/ctr.zip',\n",
    "                        'e18327c48c8e8e5c23da714dd614e390d369843f')\n",
    "    cache_dir=os.path.join('..', 'data')\n",
    "    os.makedirs(cache_dir, exist_ok=True)\n",
    "    fname = os.path.join(cache_dir, url.split('/')[-1])\n",
    "    if os.path.exists(fname):\n",
    "        sha1 = hashlib.sha1()\n",
    "        with open(fname, 'rb') as f:\n",
    "            while True:\n",
    "                data = f.read(1048576)\n",
    "                if not data:\n",
    "                    break\n",
    "                sha1.update(data)\n",
    "        if sha1.hexdigest() == sha1_hash:\n",
    "            return fname  # Hit cache\n",
    "    print(f'Downloading {fname} from {url}...')\n",
    "    r = requests.get(url, stream=True, verify=True)\n",
    "    with open(fname, 'wb') as f:\n",
    "        f.write(r.content)\n",
    "    return fname\n",
    "\n",
    "def download_extract(folder=None):\n",
    "    fname = download()\n",
    "    base_dir = os.path.dirname(fname)\n",
    "    data_dir, ext = os.path.splitext(fname)\n",
    "    if ext == '.zip':\n",
    "        fp = zipfile.ZipFile(fname, 'r')\n",
    "    elif ext in ('.tar', '.gz'):\n",
    "        fp = tarfile.open(fname, 'r')\n",
    "    else:\n",
    "        assert False, 'Only zip/tar files can be extracted.'\n",
    "    fp.extractall(base_dir)\n",
    "    return os.path.join(base_dir, folder) if folder else data_dir\n"
   ]
  },
  {
   "cell_type": "code",
   "execution_count": 67,
   "metadata": {},
   "outputs": [],
   "source": [
    "class CTRDataset(Dataset):\n",
    "    '''\n",
    "    return features(34개), target(0 or 1)\n",
    "    '''\n",
    "    def __init__(self, data_path, feat_mapper=None, defaults=None,\n",
    "                 min_threshold=4, num_feat=34):\n",
    "        self.NUM_FEATS, self.count, self.data = num_feat, 0, {}\n",
    "        feat_cnts = defaultdict(lambda: defaultdict(int))\n",
    "        self.feat_mapper, self.defaults = feat_mapper, defaults\n",
    "        self.field_dims = np.zeros(self.NUM_FEATS, dtype=np.int64)\n",
    "        with open(data_path) as f:\n",
    "            for line in f:\n",
    "                instance = {}\n",
    "                values = line.rstrip('\\n').split('\\t')\n",
    "                if len(values) != self.NUM_FEATS + 1:\n",
    "                    continue\n",
    "                label = np.float32([0, 0])\n",
    "                label[int(values[0])] = 1\n",
    "                instance['y'] = [np.float32(values[0])]\n",
    "                for i in range(1, self.NUM_FEATS + 1):\n",
    "                    feat_cnts[i][values[i]] += 1\n",
    "                    instance.setdefault('x', []).append(values[i])\n",
    "                self.data[self.count] = instance\n",
    "                self.count = self.count + 1\n",
    "        if self.feat_mapper is None and self.defaults is None:\n",
    "            feat_mapper = {i: {feat for feat, c in cnt.items() if c >=\n",
    "                               min_threshold} for i, cnt in feat_cnts.items()}\n",
    "            self.feat_mapper = {i: {feat_v: idx for idx, feat_v in enumerate(feat_values)}\n",
    "                                for i, feat_values in feat_mapper.items()}\n",
    "            self.defaults = {i: len(feat_values) for i, feat_values in feat_mapper.items()}\n",
    "        for i, fm in self.feat_mapper.items():\n",
    "            self.field_dims[i - 1] = len(fm) + 1\n",
    "        self.offsets = np.array((0, *np.asarray(np.cumsum(self.field_dims))\n",
    "                                 [:-1]))\n",
    "\n",
    "    def __len__(self):\n",
    "        return self.count\n",
    "\n",
    "    def __getitem__(self, idx):\n",
    "        feat = np.array([self.feat_mapper[i + 1].get(v, self.defaults[i + 1])\n",
    "                         for i, v in enumerate(self.data[idx]['x'])])\n",
    "        return feat + self.offsets, self.data[idx]['y']"
   ]
  },
  {
   "cell_type": "code",
   "execution_count": 68,
   "metadata": {},
   "outputs": [],
   "source": [
    "class DeepFM(nn.Module):\n",
    "    '''\n",
    "    input: features\n",
    "    output : 0~1사이의 실수\n",
    "    '''\n",
    "    def __init__(self, field_dims, num_factors, mlp_dims, drop_rate=0.1):\n",
    "        super(DeepFM, self).__init__()\n",
    "        self.num_inputs = int(sum(field_dims))\n",
    "        self.embedding = nn.Embedding(self.num_inputs, num_factors)\n",
    "        self.fc = nn.Embedding(self.num_inputs, 1)\n",
    "        self.linear_layer = nn.Linear(1, 1)\n",
    "        input_dim = self.embed_output_dim = len(field_dims) * num_factors\n",
    "        self.mlp = []\n",
    "        for dim in mlp_dims:\n",
    "            self.mlp.append(nn.Linear(input_dim, dim))\n",
    "            self.mlp.append(nn.ReLU())\n",
    "            self.mlp.append(nn.Dropout(p=drop_rate))\n",
    "            input_dim = dim\n",
    "        self.mlp.append(nn.Linear(input_dim, 1))\n",
    "        self.mlp = nn.Sequential(*self.mlp)\n",
    "\n",
    "    def forward(self, x):\n",
    "        # x : (batch_size, feature개수)\n",
    "        embed_x = self.embedding(x) # embed_x : (batch_size, feature개수, num_factors)\n",
    "        square_of_sum = torch.sum(embed_x, axis=1) ** 2 # (batch_size, num_factors)\n",
    "        sum_of_square = torch.sum(embed_x ** 2, axis=1) # (batch_size, num_factors)\n",
    "        inputs = embed_x.view(-1, self.embed_output_dim) # (batch_size, feature개수*num_factors)\n",
    "        # fc(x) : (batch_size, feature개수, 1)\n",
    "        x = self.linear_layer(self.fc(x).sum(1)) \\\n",
    "            + 0.5 * (square_of_sum - sum_of_square).sum(1, keepdims=True) \\\n",
    "            + self.mlp(inputs)\n",
    "        x = torch.sigmoid(x)\n",
    "        return x"
   ]
  },
  {
   "cell_type": "code",
   "execution_count": 69,
   "metadata": {},
   "outputs": [],
   "source": [
    "batch_size = 2048\n",
    "data_dir = download_extract()\n",
    "train_data = CTRDataset(os.path.join(data_dir, 'train.csv'))\n",
    "test_data = CTRDataset(os.path.join(data_dir, 'test.csv'),\n",
    "                           feat_mapper=train_data.feat_mapper,\n",
    "                           defaults=train_data.defaults)\n",
    "train_iter = DataLoader(train_data, shuffle=True, batch_size = batch_size)\n",
    "test_iter = DataLoader(test_data, shuffle=False, batch_size=batch_size)"
   ]
  },
  {
   "cell_type": "code",
   "execution_count": 70,
   "metadata": {},
   "outputs": [],
   "source": [
    "device = torch.device('cuda' if torch.cuda.is_available() else 'cpu')\n",
    "net = DeepFM(train_data.field_dims, num_factors=20, mlp_dims=[30, 20, 10])\n",
    "net.to(device)\n",
    "lr, num_epochs, wd = 0.002, 50, 1e-5\n",
    "loss_func = torch.nn.BCELoss()\n",
    "optimizer = torch.optim.Adam(net.parameters(), lr = lr, weight_decay=wd)"
   ]
  },
  {
   "cell_type": "code",
   "execution_count": 71,
   "metadata": {},
   "outputs": [
    {
     "name": "stderr",
     "output_type": "stream",
     "text": [
      "  0%|          | 0/50 [00:00<?, ?it/s]"
     ]
    },
    {
     "name": "stdout",
     "output_type": "stream",
     "text": [
      "0 epoch 0th train iter loss: 36.178558349609375\n"
     ]
    },
    {
     "name": "stderr",
     "output_type": "stream",
     "text": [
      "  2%|▏         | 1/50 [00:00<00:27,  1.78it/s]"
     ]
    },
    {
     "name": "stdout",
     "output_type": "stream",
     "text": [
      "0 epoch ALL LOSS :  33.179922103881836\n",
      "New best model loss: 31.098617553710938\n",
      "best model is saved!\n",
      "1 epoch 0th train iter loss: 30.685134887695312\n"
     ]
    },
    {
     "name": "stderr",
     "output_type": "stream",
     "text": [
      "  4%|▍         | 2/50 [00:01<00:30,  1.58it/s]"
     ]
    },
    {
     "name": "stdout",
     "output_type": "stream",
     "text": [
      "1 epoch ALL LOSS :  29.566009521484375\n",
      "New best model loss: 28.942891120910645\n",
      "best model is saved!\n",
      "2 epoch 0th train iter loss: 27.866302490234375\n"
     ]
    },
    {
     "name": "stderr",
     "output_type": "stream",
     "text": [
      "  6%|▌         | 3/50 [00:01<00:26,  1.76it/s]"
     ]
    },
    {
     "name": "stdout",
     "output_type": "stream",
     "text": [
      "2 epoch ALL LOSS :  28.035428762435913\n",
      "3 epoch 0th train iter loss: 30.201126098632812\n"
     ]
    },
    {
     "name": "stderr",
     "output_type": "stream",
     "text": [
      "  8%|▊         | 4/50 [00:02<00:23,  1.94it/s]"
     ]
    },
    {
     "name": "stdout",
     "output_type": "stream",
     "text": [
      "3 epoch ALL LOSS :  30.86069941520691\n",
      "4 epoch 0th train iter loss: 33.5452995300293\n"
     ]
    },
    {
     "name": "stderr",
     "output_type": "stream",
     "text": [
      " 10%|█         | 5/50 [00:02<00:22,  2.02it/s]"
     ]
    },
    {
     "name": "stdout",
     "output_type": "stream",
     "text": [
      "4 epoch ALL LOSS :  34.63288736343384\n",
      "5 epoch 0th train iter loss: 35.245506286621094\n"
     ]
    },
    {
     "name": "stderr",
     "output_type": "stream",
     "text": [
      " 12%|█▏        | 6/50 [00:03<00:23,  1.87it/s]"
     ]
    },
    {
     "name": "stdout",
     "output_type": "stream",
     "text": [
      "5 epoch ALL LOSS :  34.36894130706787\n",
      "6 epoch 0th train iter loss: 33.14396667480469\n"
     ]
    },
    {
     "name": "stderr",
     "output_type": "stream",
     "text": [
      " 14%|█▍        | 7/50 [00:03<00:23,  1.86it/s]"
     ]
    },
    {
     "name": "stdout",
     "output_type": "stream",
     "text": [
      "6 epoch ALL LOSS :  30.78792929649353\n",
      "7 epoch 0th train iter loss: 30.035152435302734\n"
     ]
    },
    {
     "name": "stderr",
     "output_type": "stream",
     "text": [
      " 16%|█▌        | 8/50 [00:04<00:21,  1.96it/s]"
     ]
    },
    {
     "name": "stdout",
     "output_type": "stream",
     "text": [
      "7 epoch ALL LOSS :  28.13148546218872\n",
      "New best model loss: 28.29836654663086\n",
      "best model is saved!\n",
      "8 epoch 0th train iter loss: 26.906681060791016\n"
     ]
    },
    {
     "name": "stderr",
     "output_type": "stream",
     "text": [
      " 18%|█▊        | 9/50 [00:04<00:20,  2.04it/s]"
     ]
    },
    {
     "name": "stdout",
     "output_type": "stream",
     "text": [
      "8 epoch ALL LOSS :  26.774973392486572\n",
      "New best model loss: 27.582341194152832\n",
      "best model is saved!\n",
      "9 epoch 0th train iter loss: 27.063289642333984\n"
     ]
    },
    {
     "name": "stderr",
     "output_type": "stream",
     "text": [
      " 20%|██        | 10/50 [00:05<00:20,  1.97it/s]"
     ]
    },
    {
     "name": "stdout",
     "output_type": "stream",
     "text": [
      "9 epoch ALL LOSS :  25.628714323043823\n",
      "New best model loss: 25.56212329864502\n",
      "best model is saved!\n",
      "10 epoch 0th train iter loss: 25.920005798339844\n"
     ]
    },
    {
     "name": "stderr",
     "output_type": "stream",
     "text": [
      " 22%|██▏       | 11/50 [00:05<00:19,  2.03it/s]"
     ]
    },
    {
     "name": "stdout",
     "output_type": "stream",
     "text": [
      "10 epoch ALL LOSS :  24.19714665412903\n",
      "New best model loss: 24.168317794799805\n",
      "best model is saved!\n",
      "11 epoch 0th train iter loss: 23.309066772460938\n"
     ]
    },
    {
     "name": "stderr",
     "output_type": "stream",
     "text": [
      " 24%|██▍       | 12/50 [00:06<00:18,  2.01it/s]"
     ]
    },
    {
     "name": "stdout",
     "output_type": "stream",
     "text": [
      "11 epoch ALL LOSS :  22.473506689071655\n",
      "New best model loss: 22.69062614440918\n",
      "best model is saved!\n",
      "12 epoch 0th train iter loss: 21.257728576660156\n"
     ]
    },
    {
     "name": "stderr",
     "output_type": "stream",
     "text": [
      " 26%|██▌       | 13/50 [00:06<00:18,  2.03it/s]"
     ]
    },
    {
     "name": "stdout",
     "output_type": "stream",
     "text": [
      "12 epoch ALL LOSS :  20.828601598739624\n",
      "New best model loss: 21.165526390075684\n",
      "best model is saved!\n",
      "13 epoch 0th train iter loss: 22.14474105834961\n"
     ]
    },
    {
     "name": "stderr",
     "output_type": "stream",
     "text": [
      " 28%|██▊       | 14/50 [00:07<00:17,  2.01it/s]"
     ]
    },
    {
     "name": "stdout",
     "output_type": "stream",
     "text": [
      "13 epoch ALL LOSS :  19.959519624710083\n",
      "New best model loss: 18.9201078414917\n",
      "best model is saved!\n",
      "14 epoch 0th train iter loss: 18.499483108520508\n"
     ]
    },
    {
     "name": "stderr",
     "output_type": "stream",
     "text": [
      " 30%|███       | 15/50 [00:07<00:16,  2.09it/s]"
     ]
    },
    {
     "name": "stdout",
     "output_type": "stream",
     "text": [
      "14 epoch ALL LOSS :  17.692288160324097\n",
      "New best model loss: 18.567873001098633\n",
      "best model is saved!\n",
      "15 epoch 0th train iter loss: 16.759979248046875\n"
     ]
    },
    {
     "name": "stderr",
     "output_type": "stream",
     "text": [
      " 32%|███▏      | 16/50 [00:08<00:15,  2.15it/s]"
     ]
    },
    {
     "name": "stdout",
     "output_type": "stream",
     "text": [
      "15 epoch ALL LOSS :  16.53711247444153\n",
      "New best model loss: 15.354359149932861\n",
      "best model is saved!\n",
      "16 epoch 0th train iter loss: 14.014077186584473\n"
     ]
    },
    {
     "name": "stderr",
     "output_type": "stream",
     "text": [
      " 34%|███▍      | 17/50 [00:08<00:16,  2.06it/s]"
     ]
    },
    {
     "name": "stdout",
     "output_type": "stream",
     "text": [
      "16 epoch ALL LOSS :  14.603336334228516\n",
      "New best model loss: 14.739954471588135\n",
      "best model is saved!\n",
      "17 epoch 0th train iter loss: 13.832149505615234\n"
     ]
    },
    {
     "name": "stderr",
     "output_type": "stream",
     "text": [
      " 36%|███▌      | 18/50 [00:09<00:16,  1.94it/s]"
     ]
    },
    {
     "name": "stdout",
     "output_type": "stream",
     "text": [
      "17 epoch ALL LOSS :  12.755188703536987\n",
      "New best model loss: 13.501718044281006\n",
      "best model is saved!\n",
      "18 epoch 0th train iter loss: 12.471742630004883\n"
     ]
    },
    {
     "name": "stderr",
     "output_type": "stream",
     "text": [
      " 38%|███▊      | 19/50 [00:09<00:15,  1.95it/s]"
     ]
    },
    {
     "name": "stdout",
     "output_type": "stream",
     "text": [
      "18 epoch ALL LOSS :  11.218371272087097\n",
      "New best model loss: 11.678932666778564\n",
      "best model is saved!\n",
      "19 epoch 0th train iter loss: 11.583291053771973\n"
     ]
    },
    {
     "name": "stderr",
     "output_type": "stream",
     "text": [
      " 40%|████      | 20/50 [00:10<00:15,  2.00it/s]"
     ]
    },
    {
     "name": "stdout",
     "output_type": "stream",
     "text": [
      "19 epoch ALL LOSS :  10.059635400772095\n",
      "New best model loss: 9.834943771362305\n",
      "best model is saved!\n",
      "20 epoch 0th train iter loss: 9.517034530639648\n"
     ]
    },
    {
     "name": "stderr",
     "output_type": "stream",
     "text": [
      " 42%|████▏     | 21/50 [00:10<00:14,  2.06it/s]"
     ]
    },
    {
     "name": "stdout",
     "output_type": "stream",
     "text": [
      "20 epoch ALL LOSS :  8.712059617042542\n",
      "New best model loss: 8.75645637512207\n",
      "best model is saved!\n",
      "21 epoch 0th train iter loss: 9.52261734008789\n"
     ]
    },
    {
     "name": "stderr",
     "output_type": "stream",
     "text": [
      " 44%|████▍     | 22/50 [00:11<00:13,  2.01it/s]"
     ]
    },
    {
     "name": "stdout",
     "output_type": "stream",
     "text": [
      "21 epoch ALL LOSS :  8.039449870586395\n",
      "New best model loss: 7.998049736022949\n",
      "best model is saved!\n",
      "22 epoch 0th train iter loss: 8.02458381652832\n"
     ]
    },
    {
     "name": "stderr",
     "output_type": "stream",
     "text": [
      " 46%|████▌     | 23/50 [00:11<00:13,  2.06it/s]"
     ]
    },
    {
     "name": "stdout",
     "output_type": "stream",
     "text": [
      "22 epoch ALL LOSS :  7.406175673007965\n",
      "New best model loss: 7.456748962402344\n",
      "best model is saved!\n",
      "23 epoch 0th train iter loss: 6.549163818359375\n"
     ]
    },
    {
     "name": "stderr",
     "output_type": "stream",
     "text": [
      " 48%|████▊     | 24/50 [00:12<00:12,  2.04it/s]"
     ]
    },
    {
     "name": "stdout",
     "output_type": "stream",
     "text": [
      "23 epoch ALL LOSS :  6.965938150882721\n",
      "24 epoch 0th train iter loss: 5.865653038024902\n"
     ]
    },
    {
     "name": "stderr",
     "output_type": "stream",
     "text": [
      " 50%|█████     | 25/50 [00:12<00:11,  2.12it/s]"
     ]
    },
    {
     "name": "stdout",
     "output_type": "stream",
     "text": [
      "24 epoch ALL LOSS :  6.572366416454315\n",
      "25 epoch 0th train iter loss: 6.4071364402771\n"
     ]
    },
    {
     "name": "stderr",
     "output_type": "stream",
     "text": [
      " 52%|█████▏    | 26/50 [00:13<00:12,  1.98it/s]"
     ]
    },
    {
     "name": "stdout",
     "output_type": "stream",
     "text": [
      "25 epoch ALL LOSS :  6.329586386680603\n",
      "New best model loss: 7.337900876998901\n",
      "best model is saved!\n",
      "26 epoch 0th train iter loss: 5.996511936187744\n"
     ]
    },
    {
     "name": "stderr",
     "output_type": "stream",
     "text": [
      " 54%|█████▍    | 27/50 [00:13<00:11,  2.06it/s]"
     ]
    },
    {
     "name": "stdout",
     "output_type": "stream",
     "text": [
      "26 epoch ALL LOSS :  6.0260873436927795\n",
      "New best model loss: 7.273409605026245\n",
      "best model is saved!\n",
      "27 epoch 0th train iter loss: 5.564242362976074\n"
     ]
    },
    {
     "name": "stderr",
     "output_type": "stream",
     "text": [
      " 56%|█████▌    | 28/50 [00:13<00:10,  2.12it/s]"
     ]
    },
    {
     "name": "stdout",
     "output_type": "stream",
     "text": [
      "27 epoch ALL LOSS :  5.7509108781814575\n",
      "New best model loss: 6.033326864242554\n",
      "best model is saved!\n",
      "28 epoch 0th train iter loss: 5.329197883605957\n"
     ]
    },
    {
     "name": "stderr",
     "output_type": "stream",
     "text": [
      " 58%|█████▊    | 29/50 [00:14<00:09,  2.10it/s]"
     ]
    },
    {
     "name": "stdout",
     "output_type": "stream",
     "text": [
      "28 epoch ALL LOSS :  5.558054506778717\n",
      "29 epoch 0th train iter loss: 5.998775482177734\n"
     ]
    },
    {
     "name": "stderr",
     "output_type": "stream",
     "text": [
      " 60%|██████    | 30/50 [00:15<00:10,  1.94it/s]"
     ]
    },
    {
     "name": "stdout",
     "output_type": "stream",
     "text": [
      "29 epoch ALL LOSS :  5.590436041355133\n",
      "30 epoch 0th train iter loss: 5.654323577880859\n"
     ]
    },
    {
     "name": "stderr",
     "output_type": "stream",
     "text": [
      " 62%|██████▏   | 31/50 [00:15<00:09,  1.98it/s]"
     ]
    },
    {
     "name": "stdout",
     "output_type": "stream",
     "text": [
      "30 epoch ALL LOSS :  5.271428167819977\n",
      "31 epoch 0th train iter loss: 5.347706317901611\n"
     ]
    },
    {
     "name": "stderr",
     "output_type": "stream",
     "text": [
      " 64%|██████▍   | 32/50 [00:16<00:08,  2.04it/s]"
     ]
    },
    {
     "name": "stdout",
     "output_type": "stream",
     "text": [
      "31 epoch ALL LOSS :  5.159383326768875\n",
      "New best model loss: 5.632858037948608\n",
      "best model is saved!\n",
      "32 epoch 0th train iter loss: 4.760558605194092\n"
     ]
    },
    {
     "name": "stderr",
     "output_type": "stream",
     "text": [
      " 66%|██████▌   | 33/50 [00:16<00:08,  2.11it/s]"
     ]
    },
    {
     "name": "stdout",
     "output_type": "stream",
     "text": [
      "32 epoch ALL LOSS :  5.041462302207947\n",
      "33 epoch 0th train iter loss: 5.8557868003845215\n"
     ]
    },
    {
     "name": "stderr",
     "output_type": "stream",
     "text": [
      " 68%|██████▊   | 34/50 [00:17<00:08,  1.97it/s]"
     ]
    },
    {
     "name": "stdout",
     "output_type": "stream",
     "text": [
      "33 epoch ALL LOSS :  4.89450216293335\n",
      "New best model loss: 5.507040977478027\n",
      "best model is saved!\n",
      "34 epoch 0th train iter loss: 4.7032341957092285\n"
     ]
    },
    {
     "name": "stderr",
     "output_type": "stream",
     "text": [
      " 70%|███████   | 35/50 [00:17<00:07,  2.02it/s]"
     ]
    },
    {
     "name": "stdout",
     "output_type": "stream",
     "text": [
      "34 epoch ALL LOSS :  4.862931489944458\n",
      "New best model loss: 5.232589960098267\n",
      "best model is saved!\n",
      "35 epoch 0th train iter loss: 4.526340007781982\n"
     ]
    },
    {
     "name": "stderr",
     "output_type": "stream",
     "text": [
      " 72%|███████▏  | 36/50 [00:17<00:06,  2.12it/s]"
     ]
    },
    {
     "name": "stdout",
     "output_type": "stream",
     "text": [
      "35 epoch ALL LOSS :  4.705888599157333\n",
      "36 epoch 0th train iter loss: 3.9754576683044434\n"
     ]
    },
    {
     "name": "stderr",
     "output_type": "stream",
     "text": [
      " 74%|███████▍  | 37/50 [00:18<00:06,  2.14it/s]"
     ]
    },
    {
     "name": "stdout",
     "output_type": "stream",
     "text": [
      "36 epoch ALL LOSS :  4.802409112453461\n",
      "37 epoch 0th train iter loss: 5.205889701843262\n"
     ]
    },
    {
     "name": "stderr",
     "output_type": "stream",
     "text": [
      " 76%|███████▌  | 38/50 [00:18<00:05,  2.05it/s]"
     ]
    },
    {
     "name": "stdout",
     "output_type": "stream",
     "text": [
      "37 epoch ALL LOSS :  4.8168588280677795\n",
      "38 epoch 0th train iter loss: 4.598916530609131\n"
     ]
    },
    {
     "name": "stderr",
     "output_type": "stream",
     "text": [
      " 78%|███████▊  | 39/50 [00:19<00:05,  1.99it/s]"
     ]
    },
    {
     "name": "stdout",
     "output_type": "stream",
     "text": [
      "38 epoch ALL LOSS :  4.725350111722946\n",
      "39 epoch 0th train iter loss: 4.142823696136475\n"
     ]
    },
    {
     "name": "stderr",
     "output_type": "stream",
     "text": [
      " 80%|████████  | 40/50 [00:19<00:04,  2.01it/s]"
     ]
    },
    {
     "name": "stdout",
     "output_type": "stream",
     "text": [
      "39 epoch ALL LOSS :  4.692889988422394\n",
      "40 epoch 0th train iter loss: 4.67658805847168\n"
     ]
    },
    {
     "name": "stderr",
     "output_type": "stream",
     "text": [
      " 82%|████████▏ | 41/50 [00:20<00:04,  2.07it/s]"
     ]
    },
    {
     "name": "stdout",
     "output_type": "stream",
     "text": [
      "40 epoch ALL LOSS :  4.576003074645996\n",
      "41 epoch 0th train iter loss: 4.589204788208008\n"
     ]
    },
    {
     "name": "stderr",
     "output_type": "stream",
     "text": [
      " 84%|████████▍ | 42/50 [00:20<00:03,  2.02it/s]"
     ]
    },
    {
     "name": "stdout",
     "output_type": "stream",
     "text": [
      "41 epoch ALL LOSS :  4.579861879348755\n",
      "42 epoch 0th train iter loss: 4.671661853790283\n"
     ]
    },
    {
     "name": "stderr",
     "output_type": "stream",
     "text": [
      " 86%|████████▌ | 43/50 [00:21<00:03,  2.07it/s]"
     ]
    },
    {
     "name": "stdout",
     "output_type": "stream",
     "text": [
      "42 epoch ALL LOSS :  4.590117573738098\n",
      "43 epoch 0th train iter loss: 4.568737983703613\n"
     ]
    },
    {
     "name": "stderr",
     "output_type": "stream",
     "text": [
      " 88%|████████▊ | 44/50 [00:21<00:02,  2.05it/s]"
     ]
    },
    {
     "name": "stdout",
     "output_type": "stream",
     "text": [
      "43 epoch ALL LOSS :  4.497128903865814\n",
      "New best model loss: 5.177521467208862\n",
      "best model is saved!\n",
      "44 epoch 0th train iter loss: 3.92897891998291\n"
     ]
    },
    {
     "name": "stderr",
     "output_type": "stream",
     "text": [
      " 90%|█████████ | 45/50 [00:22<00:02,  1.93it/s]"
     ]
    },
    {
     "name": "stdout",
     "output_type": "stream",
     "text": [
      "44 epoch ALL LOSS :  4.492255091667175\n",
      "45 epoch 0th train iter loss: 4.317757606506348\n"
     ]
    },
    {
     "name": "stderr",
     "output_type": "stream",
     "text": [
      " 92%|█████████▏| 46/50 [00:22<00:02,  1.92it/s]"
     ]
    },
    {
     "name": "stdout",
     "output_type": "stream",
     "text": [
      "45 epoch ALL LOSS :  4.4998942613601685\n",
      "46 epoch 0th train iter loss: 4.42375373840332\n"
     ]
    },
    {
     "name": "stderr",
     "output_type": "stream",
     "text": [
      " 94%|█████████▍| 47/50 [00:23<00:01,  1.89it/s]"
     ]
    },
    {
     "name": "stdout",
     "output_type": "stream",
     "text": [
      "46 epoch ALL LOSS :  4.520755290985107\n",
      "47 epoch 0th train iter loss: 4.530608177185059\n"
     ]
    },
    {
     "name": "stderr",
     "output_type": "stream",
     "text": [
      " 96%|█████████▌| 48/50 [00:23<00:01,  1.96it/s]"
     ]
    },
    {
     "name": "stdout",
     "output_type": "stream",
     "text": [
      "47 epoch ALL LOSS :  4.478893339633942\n",
      "48 epoch 0th train iter loss: 4.601321220397949\n"
     ]
    },
    {
     "name": "stderr",
     "output_type": "stream",
     "text": [
      " 98%|█████████▊| 49/50 [00:24<00:00,  1.92it/s]"
     ]
    },
    {
     "name": "stdout",
     "output_type": "stream",
     "text": [
      "48 epoch ALL LOSS :  4.523911476135254\n",
      "49 epoch 0th train iter loss: 4.005146026611328\n"
     ]
    },
    {
     "name": "stderr",
     "output_type": "stream",
     "text": [
      "100%|██████████| 50/50 [00:24<00:00,  2.00it/s]"
     ]
    },
    {
     "name": "stdout",
     "output_type": "stream",
     "text": [
      "49 epoch ALL LOSS :  4.352090626955032\n"
     ]
    },
    {
     "name": "stderr",
     "output_type": "stream",
     "text": [
      "\n"
     ]
    }
   ],
   "source": [
    "from tqdm import tqdm\n",
    "import glob\n",
    "\n",
    "train_epoch_loss = []\n",
    "val_epoch_loss_lst = []\n",
    "best_val_epoch_loss = int(1e9)\n",
    "for epoch in tqdm(range(num_epochs)):\n",
    "  train_iter_loss = []\n",
    "  for i, values in enumerate(train_iter):\n",
    "    train_data = values[0].long().to(device)\n",
    "    labels = values[1][0].long().to(device).unsqueeze(1) \n",
    "    preds = net(train_data) #.squeeze()\n",
    "    loss = loss_func(preds.to(torch.float32), labels.to(torch.float32))\n",
    "    optimizer.zero_grad()\n",
    "    loss.backward()\n",
    "    optimizer.step()\n",
    "    train_iter_loss.append(loss.detach().item())\n",
    "    if i%50 == 0:\n",
    "      print(f'{epoch} epoch {i}th train iter loss: {loss.detach().item()}')  \n",
    "  train_epoch_loss.append(np.mean(train_iter_loss))\n",
    "  print(f'{epoch} epoch ALL LOSS : ', np.mean(train_iter_loss))\n",
    "  \n",
    "  with torch.no_grad():\n",
    "    net.eval()\n",
    "    val_epoch_loss = 0\n",
    "    for i, values in enumerate(test_iter):\n",
    "      test_data = values[0].long().to(device)\n",
    "      labels = values[1][0].long().to(device).unsqueeze(1) \n",
    "      preds = net(test_data)\n",
    "      loss = loss_func(preds.to(torch.float32), labels.to(torch.float32))\n",
    "      val_epoch_loss += loss.detach().item()\n",
    "  val_epoch_loss /= len(test_iter)\n",
    "  val_epoch_loss_lst.append(val_epoch_loss)\n",
    "\n",
    "  if val_epoch_loss < best_val_epoch_loss:\n",
    "    best_val_epoch_loss = val_epoch_loss\n",
    "    print(f'New best model loss: {best_val_epoch_loss}')\n",
    "    if not os.path.exists('model'):\n",
    "      os.mkdir('model')\n",
    "\n",
    "    if os.path.exists('model/best.pth'):\n",
    "      os.remove('model/best.pth')\n",
    "    torch.save(net.state_dict(), 'model/best.pth')\n",
    "    print('best model is saved!')\n",
    "    \n",
    "  "
   ]
  },
  {
   "cell_type": "code",
   "execution_count": 72,
   "metadata": {},
   "outputs": [
    {
     "data": {
      "text/plain": [
       "<matplotlib.legend.Legend at 0x29839526280>"
      ]
     },
     "execution_count": 72,
     "metadata": {},
     "output_type": "execute_result"
    },
    {
     "data": {
      "image/png": "[encoded data removed]",
      "text/plain": [
       "<Figure size 432x288 with 1 Axes>"
      ]
     },
     "metadata": {
      "needs_background": "light"
     },
     "output_type": "display_data"
    }
   ],
   "source": [
    "import matplotlib.pyplot as plt\n",
    "\n",
    "plt.plot(train_epoch_loss, label='train loss')\n",
    "plt.plot(val_epoch_loss_lst, label='val loss')\n",
    "plt.legend()"
   ]
  }
 ],
 "metadata": {
  "interpreter": {
   "hash": "93865c8914045f82f1cc4174d5a9f6658a56058b431eb3568707e1e9b23cbcf9"
  },
  "kernelspec": {
   "display_name": "Python 3.9.7 ('bc')",
   "language": "python",
   "name": "python3"
  },
  "language_info": {
   "codemirror_mode": {
    "name": "ipython",
    "version": 3
   },
   "file_extension": ".py",
   "mimetype": "text/x-python",
   "name": "python",
   "nbconvert_exporter": "python",
   "pygments_lexer": "ipython3",
   "version": "3.9.7"
  },
  "orig_nbformat": 4
 },
 "nbformat": 4,
 "nbformat_minor": 2
}
