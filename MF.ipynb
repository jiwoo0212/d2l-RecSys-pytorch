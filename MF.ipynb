{
 "cells": [
  {
   "cell_type": "code",
   "execution_count": 1,
   "metadata": {},
   "outputs": [],
   "source": [
    "import os\n",
    "import pandas as pd\n",
    "import numpy as np\n",
    "\n",
    "import zipfile\n",
    "from urllib import request\n",
    "\n",
    "from torch.utils.data import Dataset, DataLoader\n",
    "import torch\n",
    "from torch import nn\n",
    "from torchvision import transforms"
   ]
  },
  {
   "cell_type": "code",
   "execution_count": 2,
   "metadata": {},
   "outputs": [],
   "source": [
    "def download_ml100k():\n",
    "    # download\n",
    "    url = \"http://files.grouplens.org/datasets/movielens/ml-100k.zip\"\n",
    "    savename = \"ml-100k.zip\"\n",
    "    request.urlretrieve(url, savename)\n",
    "    print('Complete!')\n",
    "    # unzip\n",
    "    file_name = os.path.join('./', savename)\n",
    "    file_zip = zipfile.ZipFile(file_name)\n",
    "    file_zip.extractall('./')\n",
    "    file_zip.close()\n",
    "\n",
    "def read_data_ml100k():\n",
    "    if not os.path.isfile(os.path.join('./ml-100k/', 'u.data')):\n",
    "        print('Download ...')\n",
    "        download_ml100k()\n",
    "    names = ['user_id', 'item_id', 'rating', 'timestamp']\n",
    "    data = pd.read_csv(os.path.join('./ml-100k/', 'u.data'), '\\t', names=names,\n",
    "                       engine='python')\n",
    "    num_users = data.user_id.unique().shape[0]\n",
    "    num_items = data.item_id.unique().shape[0]\n",
    "    return data, num_users, num_items"
   ]
  },
  {
   "cell_type": "code",
   "execution_count": 3,
   "metadata": {},
   "outputs": [],
   "source": [
    "def load_data_ml100k(data, num_users, num_items, feedback='explicit'):\n",
    "    users, items, scores = [], [], []\n",
    "    inter = np.zeros((num_items, num_users)) if feedback == 'explicit' else {}\n",
    "    for line in data.itertuples():\n",
    "        user_index, item_index = int(line[1] - 1), int(line[2] - 1)\n",
    "        score = int(line[3]) if feedback == 'explicit' else 1\n",
    "        users.append(user_index)\n",
    "        items.append(item_index)\n",
    "        scores.append(score)\n",
    "        if feedback == 'implicit':\n",
    "            inter.setdefault(user_index, []).append(item_index)\n",
    "        else:\n",
    "            inter[item_index, user_index] = score\n",
    "    return users, items, scores, inter"
   ]
  },
  {
   "cell_type": "code",
   "execution_count": 4,
   "metadata": {},
   "outputs": [],
   "source": [
    "def split_data_ml100k(data, num_users, num_items,\n",
    "                      split_mode='random', test_ratio=0.1):\n",
    "    \"\"\"Split the dataset in random mode or seq-aware mode.\"\"\"\n",
    "    if split_mode == 'seq-aware':\n",
    "        train_items, test_items, train_list = {}, {}, []\n",
    "        for line in data.itertuples():\n",
    "            u, i, rating, time = line[1], line[2], line[3], line[4]\n",
    "            train_items.setdefault(u, []).append((u, i, rating, time))\n",
    "            if u not in test_items or test_items[u][-1] < time:\n",
    "                test_items[u] = (i, rating, time)\n",
    "        for u in range(1, num_users + 1):\n",
    "            train_list.extend(sorted(train_items[u], key=lambda k: k[3]))\n",
    "        test_data = [(key, *value) for key, value in test_items.items()]\n",
    "        train_data = [item for item in train_list if item not in test_data]\n",
    "        train_data = pd.DataFrame(train_data)\n",
    "        test_data = pd.DataFrame(test_data)\n",
    "    else:\n",
    "        mask = [True if x == 1 else False for x in np.random.uniform(\n",
    "            0, 1, (len(data))) < 1 - test_ratio]\n",
    "        neg_mask = [not x for x in mask]\n",
    "        train_data, test_data = data[mask], data[neg_mask]\n",
    "    return train_data, test_data"
   ]
  },
  {
   "cell_type": "code",
   "execution_count": 5,
   "metadata": {},
   "outputs": [],
   "source": [
    "class ArrayDataset(Dataset):\n",
    "\n",
    "    def __init__(self, user, item, rating, transform=None):\n",
    "        self.user = user\n",
    "        self.item = item\n",
    "        self.rating = rating\n",
    "        self.transform = transform\n",
    "\n",
    "    def __getitem__(self, idx):\n",
    "        arr = np.column_stack((self.user, self.item, self.rating))\n",
    "        if self.transform:\n",
    "            arr = self.transform(arr)\n",
    "        return torch.Tensor(arr[idx])\n",
    "\n",
    "    def __len__(self):\n",
    "        return len(self.user)"
   ]
  },
  {
   "cell_type": "code",
   "execution_count": 6,
   "metadata": {},
   "outputs": [],
   "source": [
    "def collate_batch(batch):\n",
    "    # print('fn', type(batch), len(batch), batch[0])\n",
    "    # batch는 tensor가 batch size만큼 들어간 리스트\n",
    "    batch = torch.stack(batch)\n",
    "    return batch[:, 0], batch[:, 1], batch[:, 2]"
   ]
  },
  {
   "cell_type": "code",
   "execution_count": 7,
   "metadata": {},
   "outputs": [],
   "source": [
    "def split_and_load_ml100k(split_mode='seq-aware', feedback='explicit',\n",
    "                          test_ratio=0.1, batch_size=256):\n",
    "    data, num_users, num_items = read_data_ml100k()\n",
    "    # df load\n",
    "    train_data, test_data = split_data_ml100k(\n",
    "        data, num_users, num_items, split_mode, test_ratio)\n",
    "    # user, item, rating load\n",
    "    train_u, train_i, train_r, _ = load_data_ml100k(\n",
    "        train_data, num_users, num_items, feedback)\n",
    "    test_u, test_i, test_r, _ = load_data_ml100k(\n",
    "        test_data, num_users, num_items, feedback)\n",
    "    # u,i,r을 묶어서 해당 idx 반환\n",
    "    train_set = ArrayDataset(\n",
    "        np.array(train_u), np.array(train_i), np.array(train_r))\n",
    "    test_set = ArrayDataset(\n",
    "        np.array(test_u), np.array(test_i), np.array(test_r))\n",
    "    # u, i, r를 batch 단위의 tensor로 반환\n",
    "    train_iter = DataLoader(\n",
    "        train_set, shuffle=True,\n",
    "        batch_size=batch_size, \n",
    "        collate_fn=collate_batch\n",
    "        )\n",
    "    test_iter = DataLoader(\n",
    "        test_set, batch_size=batch_size, \n",
    "        collate_fn=collate_batch\n",
    "        )\n",
    "    return num_users, num_items, train_iter, test_iter"
   ]
  },
  {
   "cell_type": "code",
   "execution_count": 8,
   "metadata": {},
   "outputs": [],
   "source": [
    "from torch import nn\n",
    "\n",
    "class MF(nn.Module):\n",
    "    def __init__(self, num_factors, num_users, num_items, **kwargs):\n",
    "        super(MF, self).__init__(**kwargs)\n",
    "        self.P = nn.Embedding(num_users, num_factors)\n",
    "        self.Q = nn.Embedding(num_items, num_factors)\n",
    "        self.user_bias = nn.Embedding(num_users, 1)\n",
    "        self.item_bias = nn.Embedding(num_items, 1)\n",
    "\n",
    "    def forward(self, user_id, item_id):\n",
    "        P_u = self.P(user_id)\n",
    "        Q_i = self.Q(item_id)\n",
    "        b_u = self.user_bias(user_id)\n",
    "        b_i = self.item_bias(item_id)\n",
    "        outputs = (P_u * Q_i).sum(axis=1) + np.squeeze(b_u) + np.squeeze(b_i)\n",
    "        return outputs.flatten()"
   ]
  },
  {
   "cell_type": "code",
   "execution_count": 9,
   "metadata": {},
   "outputs": [],
   "source": [
    "class RMSELoss(torch.nn.Module):\n",
    "    def __init__(self):\n",
    "        super(RMSELoss, self).__init__()\n",
    "\n",
    "    def forward(self, x, y):\n",
    "        criterion = nn.MSELoss()\n",
    "        eps = 1e-6\n",
    "        loss = torch.sqrt(criterion(x, y) + eps)\n",
    "        return loss"
   ]
  },
  {
   "cell_type": "code",
   "execution_count": 10,
   "metadata": {},
   "outputs": [
    {
     "name": "stderr",
     "output_type": "stream",
     "text": [
      "C:\\Users\\jiwoo\\AppData\\Local\\Temp\\ipykernel_32564\\1723117690.py:3: FutureWarning: In a future version of pandas all arguments of read_csv except for the argument 'filepath_or_buffer' will be keyword-only.\n",
      "  data, num_users, num_items = read_data_ml100k()\n"
     ]
    }
   ],
   "source": [
    "num_users, num_items, train_iter, test_iter = split_and_load_ml100k(\n",
    "    test_ratio=0.1, batch_size=512)\n"
   ]
  },
  {
   "cell_type": "code",
   "execution_count": 11,
   "metadata": {},
   "outputs": [
    {
     "data": {
      "text/plain": [
       "MF(\n",
       "  (P): Embedding(943, 30)\n",
       "  (Q): Embedding(1682, 30)\n",
       "  (user_bias): Embedding(943, 1)\n",
       "  (item_bias): Embedding(1682, 1)\n",
       ")"
      ]
     },
     "execution_count": 11,
     "metadata": {},
     "output_type": "execute_result"
    }
   ],
   "source": [
    "model = MF(30, num_users, num_items)\n",
    "device = torch.device('cuda' if torch.cuda.is_available() else 'cpu')\n",
    "model.to(device)"
   ]
  },
  {
   "cell_type": "code",
   "execution_count": 12,
   "metadata": {},
   "outputs": [],
   "source": [
    "lr, num_epochs, wd = 0.002, 50, 1e-5\n",
    "\n",
    "loss_func = RMSELoss()\n",
    "optimizer = torch.optim.Adam(model.parameters(), lr = lr, weight_decay=wd)"
   ]
  },
  {
   "cell_type": "code",
   "execution_count": 13,
   "metadata": {},
   "outputs": [
    {
     "name": "stderr",
     "output_type": "stream",
     "text": [
      "  0%|          | 0/50 [00:00<?, ?it/s]"
     ]
    },
    {
     "name": "stdout",
     "output_type": "stream",
     "text": [
      "0 epoch 0th train iter loss: 6.724614143371582\n",
      "0 epoch 50th train iter loss: 6.575613975524902\n",
      "0 epoch 100th train iter loss: 6.398324966430664\n",
      "0 epoch 150th train iter loss: 6.321621417999268\n"
     ]
    },
    {
     "name": "stderr",
     "output_type": "stream",
     "text": [
      "  2%|▏         | 1/50 [01:06<54:04, 66.22s/it]"
     ]
    },
    {
     "name": "stdout",
     "output_type": "stream",
     "text": [
      "0 epoch ALL LOSS :  6.4759623635675485\n",
      "New best model loss: 6.09443998336792\n",
      "best model is saved!\n",
      "1 epoch 0th train iter loss: 5.93121862411499\n",
      "1 epoch 50th train iter loss: 6.13629674911499\n",
      "1 epoch 100th train iter loss: 5.834310054779053\n",
      "1 epoch 150th train iter loss: 5.753340721130371\n"
     ]
    },
    {
     "name": "stderr",
     "output_type": "stream",
     "text": [
      "  4%|▍         | 2/50 [02:05<49:50, 62.30s/it]"
     ]
    },
    {
     "name": "stdout",
     "output_type": "stream",
     "text": [
      "1 epoch ALL LOSS :  5.778293022175425\n",
      "New best model loss: 5.631260871887207\n",
      "best model is saved!\n",
      "2 epoch 0th train iter loss: 5.2310614585876465\n",
      "2 epoch 50th train iter loss: 5.306921005249023\n",
      "2 epoch 100th train iter loss: 5.387821674346924\n",
      "2 epoch 150th train iter loss: 4.8017683029174805\n"
     ]
    },
    {
     "name": "stderr",
     "output_type": "stream",
     "text": [
      "  6%|▌         | 3/50 [03:06<48:17, 61.66s/it]"
     ]
    },
    {
     "name": "stdout",
     "output_type": "stream",
     "text": [
      "2 epoch ALL LOSS :  5.144985073620511\n",
      "New best model loss: 5.201018333435059\n",
      "best model is saved!\n",
      "3 epoch 0th train iter loss: 4.804595947265625\n",
      "3 epoch 50th train iter loss: 4.7749505043029785\n",
      "3 epoch 100th train iter loss: 4.501147747039795\n",
      "3 epoch 150th train iter loss: 4.581225395202637\n"
     ]
    },
    {
     "name": "stderr",
     "output_type": "stream",
     "text": [
      "  8%|▊         | 4/50 [04:05<46:18, 60.41s/it]"
     ]
    },
    {
     "name": "stdout",
     "output_type": "stream",
     "text": [
      "3 epoch ALL LOSS :  4.566077121754282\n",
      "New best model loss: 4.806483745574951\n",
      "best model is saved!\n",
      "4 epoch 0th train iter loss: 4.370638370513916\n",
      "4 epoch 50th train iter loss: 4.14817476272583\n",
      "4 epoch 100th train iter loss: 4.046624660491943\n",
      "4 epoch 150th train iter loss: 3.8190343379974365\n"
     ]
    },
    {
     "name": "stderr",
     "output_type": "stream",
     "text": [
      " 10%|█         | 5/50 [05:02<44:34, 59.43s/it]"
     ]
    },
    {
     "name": "stdout",
     "output_type": "stream",
     "text": [
      "4 epoch ALL LOSS :  4.0407752130449435\n",
      "New best model loss: 4.4406538009643555\n",
      "best model is saved!\n",
      "5 epoch 0th train iter loss: 3.7147114276885986\n",
      "5 epoch 50th train iter loss: 3.5322206020355225\n",
      "5 epoch 100th train iter loss: 3.5207626819610596\n",
      "5 epoch 150th train iter loss: 3.5813543796539307\n"
     ]
    },
    {
     "name": "stderr",
     "output_type": "stream",
     "text": [
      " 12%|█▏        | 6/50 [06:00<43:14, 58.97s/it]"
     ]
    },
    {
     "name": "stdout",
     "output_type": "stream",
     "text": [
      "5 epoch ALL LOSS :  3.5607219959042737\n",
      "New best model loss: 4.105810880661011\n",
      "best model is saved!\n",
      "6 epoch 0th train iter loss: 3.175086498260498\n",
      "6 epoch 50th train iter loss: 3.257669448852539\n",
      "6 epoch 100th train iter loss: 3.1622731685638428\n",
      "6 epoch 150th train iter loss: 3.069887638092041\n"
     ]
    },
    {
     "name": "stderr",
     "output_type": "stream",
     "text": [
      " 14%|█▍        | 7/50 [06:58<41:52, 58.42s/it]"
     ]
    },
    {
     "name": "stdout",
     "output_type": "stream",
     "text": [
      "6 epoch ALL LOSS :  3.1287055740651395\n",
      "New best model loss: 3.7973544597625732\n",
      "best model is saved!\n",
      "7 epoch 0th train iter loss: 2.8347339630126953\n",
      "7 epoch 50th train iter loss: 2.926205635070801\n",
      "7 epoch 100th train iter loss: 2.7281014919281006\n",
      "7 epoch 150th train iter loss: 2.730452060699463\n"
     ]
    },
    {
     "name": "stderr",
     "output_type": "stream",
     "text": [
      " 16%|█▌        | 8/50 [07:56<40:45, 58.22s/it]"
     ]
    },
    {
     "name": "stdout",
     "output_type": "stream",
     "text": [
      "7 epoch ALL LOSS :  2.7422547217496893\n",
      "New best model loss: 3.5171594619750977\n",
      "best model is saved!\n",
      "8 epoch 0th train iter loss: 2.6433908939361572\n",
      "8 epoch 50th train iter loss: 2.329751491546631\n",
      "8 epoch 100th train iter loss: 2.428790330886841\n",
      "8 epoch 150th train iter loss: 2.471569061279297\n"
     ]
    },
    {
     "name": "stderr",
     "output_type": "stream",
     "text": [
      " 18%|█▊        | 9/50 [08:46<38:12, 55.92s/it]"
     ]
    },
    {
     "name": "stdout",
     "output_type": "stream",
     "text": [
      "8 epoch ALL LOSS :  2.400682845066503\n",
      "New best model loss: 3.2646350860595703\n",
      "best model is saved!\n",
      "9 epoch 0th train iter loss: 2.3468949794769287\n",
      "9 epoch 50th train iter loss: 2.202745199203491\n",
      "9 epoch 100th train iter loss: 2.1910617351531982\n",
      "9 epoch 150th train iter loss: 2.140113592147827\n"
     ]
    },
    {
     "name": "stderr",
     "output_type": "stream",
     "text": [
      " 20%|██        | 10/50 [09:32<35:10, 52.75s/it]"
     ]
    },
    {
     "name": "stdout",
     "output_type": "stream",
     "text": [
      "9 epoch ALL LOSS :  2.105957721926502\n",
      "New best model loss: 3.0398024320602417\n",
      "best model is saved!\n",
      "10 epoch 0th train iter loss: 1.96831214427948\n",
      "10 epoch 50th train iter loss: 1.9531030654907227\n",
      "10 epoch 100th train iter loss: 1.8480359315872192\n",
      "10 epoch 150th train iter loss: 1.8421456813812256\n"
     ]
    },
    {
     "name": "stderr",
     "output_type": "stream",
     "text": [
      " 22%|██▏       | 11/50 [10:18<32:57, 50.71s/it]"
     ]
    },
    {
     "name": "stdout",
     "output_type": "stream",
     "text": [
      "10 epoch ALL LOSS :  1.8546104320545787\n",
      "New best model loss: 2.843958258628845\n",
      "best model is saved!\n",
      "11 epoch 0th train iter loss: 1.7181956768035889\n",
      "11 epoch 50th train iter loss: 1.6331193447113037\n",
      "11 epoch 100th train iter loss: 1.645355224609375\n",
      "11 epoch 150th train iter loss: 1.6014100313186646\n"
     ]
    },
    {
     "name": "stderr",
     "output_type": "stream",
     "text": [
      " 24%|██▍       | 12/50 [11:04<31:09, 49.20s/it]"
     ]
    },
    {
     "name": "stdout",
     "output_type": "stream",
     "text": [
      "11 epoch ALL LOSS :  1.6453042472760702\n",
      "New best model loss: 2.671209931373596\n",
      "best model is saved!\n",
      "12 epoch 0th train iter loss: 1.5012619495391846\n",
      "12 epoch 50th train iter loss: 1.5185611248016357\n",
      "12 epoch 100th train iter loss: 1.4279882907867432\n",
      "12 epoch 150th train iter loss: 1.5627323389053345\n"
     ]
    },
    {
     "name": "stderr",
     "output_type": "stream",
     "text": [
      " 26%|██▌       | 13/50 [11:50<29:42, 48.16s/it]"
     ]
    },
    {
     "name": "stdout",
     "output_type": "stream",
     "text": [
      "12 epoch ALL LOSS :  1.47296129919819\n",
      "New best model loss: 2.5216702222824097\n",
      "best model is saved!\n",
      "13 epoch 0th train iter loss: 1.358162760734558\n",
      "13 epoch 50th train iter loss: 1.2669755220413208\n",
      "13 epoch 100th train iter loss: 1.3217434883117676\n",
      "13 epoch 150th train iter loss: 1.277565360069275\n"
     ]
    },
    {
     "name": "stderr",
     "output_type": "stream",
     "text": [
      " 28%|██▊       | 14/50 [12:36<28:29, 47.47s/it]"
     ]
    },
    {
     "name": "stdout",
     "output_type": "stream",
     "text": [
      "13 epoch ALL LOSS :  1.3338663713219239\n",
      "New best model loss: 2.395346999168396\n",
      "best model is saved!\n",
      "14 epoch 0th train iter loss: 1.273161768913269\n",
      "14 epoch 50th train iter loss: 1.166719675064087\n",
      "14 epoch 100th train iter loss: 1.2221766710281372\n",
      "14 epoch 150th train iter loss: 1.292030930519104\n"
     ]
    },
    {
     "name": "stderr",
     "output_type": "stream",
     "text": [
      " 30%|███       | 15/50 [13:21<27:23, 46.96s/it]"
     ]
    },
    {
     "name": "stdout",
     "output_type": "stream",
     "text": [
      "14 epoch ALL LOSS :  1.2214300890558774\n",
      "New best model loss: 2.2859179973602295\n",
      "best model is saved!\n",
      "15 epoch 0th train iter loss: 1.1753231287002563\n",
      "15 epoch 50th train iter loss: 1.0648599863052368\n",
      "15 epoch 100th train iter loss: 1.1364368200302124\n",
      "15 epoch 150th train iter loss: 1.1124370098114014\n"
     ]
    },
    {
     "name": "stderr",
     "output_type": "stream",
     "text": [
      " 32%|███▏      | 16/50 [14:07<26:23, 46.56s/it]"
     ]
    },
    {
     "name": "stdout",
     "output_type": "stream",
     "text": [
      "15 epoch ALL LOSS :  1.1316337861965613\n",
      "New best model loss: 2.195237159729004\n",
      "best model is saved!\n",
      "16 epoch 0th train iter loss: 1.0583091974258423\n",
      "16 epoch 50th train iter loss: 1.1070594787597656\n",
      "16 epoch 100th train iter loss: 1.090624451637268\n",
      "16 epoch 150th train iter loss: 1.0450598001480103\n"
     ]
    },
    {
     "name": "stderr",
     "output_type": "stream",
     "text": [
      " 34%|███▍      | 17/50 [14:52<25:25, 46.23s/it]"
     ]
    },
    {
     "name": "stdout",
     "output_type": "stream",
     "text": [
      "16 epoch ALL LOSS :  1.0590972040117401\n",
      "New best model loss: 2.1151498556137085\n",
      "best model is saved!\n",
      "17 epoch 0th train iter loss: 1.022923469543457\n",
      "17 epoch 50th train iter loss: 0.9845761656761169\n",
      "17 epoch 100th train iter loss: 0.9652628898620605\n",
      "17 epoch 150th train iter loss: 1.0085334777832031\n"
     ]
    },
    {
     "name": "stderr",
     "output_type": "stream",
     "text": [
      " 36%|███▌      | 18/50 [15:39<24:44, 46.38s/it]"
     ]
    },
    {
     "name": "stdout",
     "output_type": "stream",
     "text": [
      "17 epoch ALL LOSS :  1.0014024017397891\n",
      "New best model loss: 2.047707200050354\n",
      "best model is saved!\n",
      "18 epoch 0th train iter loss: 0.8904234766960144\n",
      "18 epoch 50th train iter loss: 0.9726393222808838\n",
      "18 epoch 100th train iter loss: 1.0106794834136963\n",
      "18 epoch 150th train iter loss: 0.9407221674919128\n"
     ]
    },
    {
     "name": "stderr",
     "output_type": "stream",
     "text": [
      " 38%|███▊      | 19/50 [16:25<23:51, 46.17s/it]"
     ]
    },
    {
     "name": "stdout",
     "output_type": "stream",
     "text": [
      "18 epoch ALL LOSS :  0.9543289834076596\n",
      "New best model loss: 1.9892476797103882\n",
      "best model is saved!\n",
      "19 epoch 0th train iter loss: 0.9483957886695862\n",
      "19 epoch 50th train iter loss: 0.9891787171363831\n",
      "19 epoch 100th train iter loss: 0.9553749561309814\n",
      "19 epoch 150th train iter loss: 0.9297745823860168\n"
     ]
    },
    {
     "name": "stderr",
     "output_type": "stream",
     "text": [
      " 40%|████      | 20/50 [17:10<22:59, 45.98s/it]"
     ]
    },
    {
     "name": "stdout",
     "output_type": "stream",
     "text": [
      "19 epoch ALL LOSS :  0.9166273502344938\n",
      "New best model loss: 1.9391127228736877\n",
      "best model is saved!\n",
      "20 epoch 0th train iter loss: 0.8811852931976318\n",
      "20 epoch 50th train iter loss: 0.8671367168426514\n",
      "20 epoch 100th train iter loss: 0.8970017433166504\n",
      "20 epoch 150th train iter loss: 0.883415699005127\n"
     ]
    },
    {
     "name": "stderr",
     "output_type": "stream",
     "text": [
      " 42%|████▏     | 21/50 [17:56<22:10, 45.88s/it]"
     ]
    },
    {
     "name": "stdout",
     "output_type": "stream",
     "text": [
      "20 epoch ALL LOSS :  0.8851652928848857\n",
      "New best model loss: 1.8967068791389465\n",
      "best model is saved!\n",
      "21 epoch 0th train iter loss: 0.8664023876190186\n",
      "21 epoch 50th train iter loss: 0.8384082317352295\n",
      "21 epoch 100th train iter loss: 0.8760558366775513\n",
      "21 epoch 150th train iter loss: 0.8502606749534607\n"
     ]
    },
    {
     "name": "stderr",
     "output_type": "stream",
     "text": [
      " 44%|████▍     | 22/50 [210:41:50<1768:17:15, 227351.28s/it]"
     ]
    },
    {
     "name": "stdout",
     "output_type": "stream",
     "text": [
      "21 epoch ALL LOSS :  0.85868137460394\n",
      "New best model loss: 1.8586407899856567\n",
      "best model is saved!\n",
      "22 epoch 0th train iter loss: 0.8228317499160767\n",
      "22 epoch 50th train iter loss: 0.8244432806968689\n"
     ]
    }
   ],
   "source": [
    "from tqdm import tqdm\n",
    "import glob\n",
    "\n",
    "train_epoch_loss = []\n",
    "val_epoch_loss_lst = []\n",
    "best_val_epoch_loss = int(1e9)\n",
    "for epoch in tqdm(range(num_epochs)):\n",
    "  train_iter_loss = []\n",
    "  for i, values in enumerate(train_iter):\n",
    "    train_user = values[0].long().to(device)\n",
    "    train_item = values[1].long().to(device)\n",
    "    labels = values[2].to(device)\n",
    "    preds = model(train_user, train_item)\n",
    "    loss = loss_func(preds, labels)\n",
    "    optimizer.zero_grad()\n",
    "    loss.backward()\n",
    "    optimizer.step()\n",
    "    train_iter_loss.append(loss.detach().item())\n",
    "    if i%50 == 0:\n",
    "      print(f'{epoch} epoch {i}th train iter loss: {loss.detach().item()}')  \n",
    "  train_epoch_loss.append(np.mean(train_iter_loss))\n",
    "  print(f'{epoch} epoch ALL LOSS : ', np.mean(train_iter_loss))\n",
    "  \n",
    "  with torch.no_grad():\n",
    "    model.eval()\n",
    "    val_epoch_loss = 0\n",
    "    for i, values in enumerate(test_iter):\n",
    "      test_user = values[0].long().to(device)\n",
    "      test_item = values[1].long().to(device)\n",
    "      labels = values[2].to(device)\n",
    "      preds = model(test_user, test_item)\n",
    "      loss = loss_func(preds, labels)\n",
    "      val_epoch_loss += loss.detach().item()\n",
    "  val_epoch_loss /= len(test_iter)\n",
    "  val_epoch_loss_lst.append(val_epoch_loss)\n",
    "\n",
    "  if val_epoch_loss < best_val_epoch_loss:\n",
    "    best_val_epoch_loss = val_epoch_loss\n",
    "    print(f'New best model loss: {best_val_epoch_loss}')\n",
    "    if not os.path.exists('model'):\n",
    "      os.mkdir('model')\n",
    "\n",
    "    if os.path.exists('model/best.pth'):\n",
    "      os.remove('model/best.pth')\n",
    "    torch.save(model.state_dict(), 'model/best.pth')\n",
    "    print('best model is saved!')\n",
    "    "
   ]
  },
  {
   "cell_type": "code",
   "execution_count": null,
   "metadata": {},
   "outputs": [
    {
     "data": {
      "text/plain": [
       "<matplotlib.legend.Legend at 0x18710c84b20>"
      ]
     },
     "execution_count": 37,
     "metadata": {},
     "output_type": "execute_result"
    },
    {
     "data": {
      "image/png": "[encoded data removed]",
      "text/plain": [
       "<Figure size 432x288 with 1 Axes>"
      ]
     },
     "metadata": {
      "needs_background": "light"
     },
     "output_type": "display_data"
    }
   ],
   "source": [
    "import matplotlib.pyplot as plt\n",
    "\n",
    "plt.plot(val_epoch_loss_lst, label='train loss')\n",
    "\n",
    "plt.plot(train_epoch_loss, label='val loss')\n",
    "plt.legend()"
   ]
  },
  {
   "cell_type": "code",
   "execution_count": null,
   "metadata": {},
   "outputs": [
    {
     "data": {
      "text/plain": [
       "tensor([2.4434], device='cuda:0', grad_fn=<AddBackward0>)"
      ]
     },
     "execution_count": 35,
     "metadata": {},
     "output_type": "execute_result"
    }
   ],
   "source": [
    "scores = model(torch.tensor([20]).to(device), torch.tensor([20]).to(device))\n",
    "scores"
   ]
  },
  {
   "cell_type": "code",
   "execution_count": null,
   "metadata": {},
   "outputs": [],
   "source": []
  }
 ],
 "metadata": {
  "interpreter": {
   "hash": "93865c8914045f82f1cc4174d5a9f6658a56058b431eb3568707e1e9b23cbcf9"
  },
  "kernelspec": {
   "display_name": "Python 3.9.7 ('bc')",
   "language": "python",
   "name": "python3"
  },
  "language_info": {
   "codemirror_mode": {
    "name": "ipython",
    "version": 3
   },
   "file_extension": ".py",
   "mimetype": "text/x-python",
   "name": "python",
   "nbconvert_exporter": "python",
   "pygments_lexer": "ipython3",
   "version": "3.9.7"
  },
  "orig_nbformat": 4
 },
 "nbformat": 4,
 "nbformat_minor": 2
}
