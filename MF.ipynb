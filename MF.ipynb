{
 "cells": [
  {
   "cell_type": "code",
   "execution_count": 109,
   "metadata": {},
   "outputs": [],
   "source": [
    "import os\n",
    "import pandas as pd\n",
    "import numpy as np\n",
    "\n",
    "import zipfile\n",
    "from urllib import request\n",
    "\n",
    "from torch.utils.data import Dataset, DataLoader\n",
    "import torch\n",
    "from torch import nn\n",
    "from torchvision import transforms"
   ]
  },
  {
   "cell_type": "code",
   "execution_count": 110,
   "metadata": {},
   "outputs": [],
   "source": [
    "def download_ml100k():\n",
    "    # download\n",
    "    url = \"http://files.grouplens.org/datasets/movielens/ml-100k.zip\"\n",
    "    savename = \"ml-100k.zip\"\n",
    "    request.urlretrieve(url, savename)\n",
    "    print('Complete!')\n",
    "    # unzip\n",
    "    file_name = os.path.join('./', savename)\n",
    "    file_zip = zipfile.ZipFile(file_name)\n",
    "    file_zip.extractall('./')\n",
    "    file_zip.close()\n",
    "\n",
    "def read_data_ml100k():\n",
    "    if not os.path.isfile(os.path.join('./ml-100k/', 'u.data')):\n",
    "        print('Download ...')\n",
    "        download_ml100k()\n",
    "    names = ['user_id', 'item_id', 'rating', 'timestamp']\n",
    "    data = pd.read_csv(os.path.join('./ml-100k/', 'u.data'), '\\t', names=names,\n",
    "                       engine='python')\n",
    "    num_users = data.user_id.unique().shape[0]\n",
    "    num_items = data.item_id.unique().shape[0]\n",
    "    return data, num_users, num_items"
   ]
  },
  {
   "cell_type": "code",
   "execution_count": 111,
   "metadata": {},
   "outputs": [],
   "source": [
    "def load_data_ml100k(data, num_users, num_items, feedback='explicit'):\n",
    "    users, items, scores = [], [], []\n",
    "    inter = np.zeros((num_items, num_users)) if feedback == 'explicit' else {}\n",
    "    for line in data.itertuples():\n",
    "        user_index, item_index = int(line[1] - 1), int(line[2] - 1)\n",
    "        score = int(line[3]) if feedback == 'explicit' else 1\n",
    "        users.append(user_index)\n",
    "        items.append(item_index)\n",
    "        scores.append(score)\n",
    "        if feedback == 'implicit':\n",
    "            inter.setdefault(user_index, []).append(item_index)\n",
    "        else:\n",
    "            inter[item_index, user_index] = score\n",
    "    return users, items, scores, inter"
   ]
  },
  {
   "cell_type": "code",
   "execution_count": 112,
   "metadata": {},
   "outputs": [],
   "source": [
    "def split_data_ml100k(data, num_users, num_items,\n",
    "                      split_mode='random', test_ratio=0.1):\n",
    "    \"\"\"Split the dataset in random mode or seq-aware mode.\"\"\"\n",
    "    if split_mode == 'seq-aware':\n",
    "        train_items, test_items, train_list = {}, {}, []\n",
    "        for line in data.itertuples():\n",
    "            u, i, rating, time = line[1], line[2], line[3], line[4]\n",
    "            train_items.setdefault(u, []).append((u, i, rating, time))\n",
    "            if u not in test_items or test_items[u][-1] < time:\n",
    "                test_items[u] = (i, rating, time)\n",
    "        for u in range(1, num_users + 1):\n",
    "            train_list.extend(sorted(train_items[u], key=lambda k: k[3]))\n",
    "        test_data = [(key, *value) for key, value in test_items.items()]\n",
    "        train_data = [item for item in train_list if item not in test_data]\n",
    "        train_data = pd.DataFrame(train_data)\n",
    "        test_data = pd.DataFrame(test_data)\n",
    "    else:\n",
    "        mask = [True if x == 1 else False for x in np.random.uniform(\n",
    "            0, 1, (len(data))) < 1 - test_ratio]\n",
    "        neg_mask = [not x for x in mask]\n",
    "        train_data, test_data = data[mask], data[neg_mask]\n",
    "    return train_data, test_data"
   ]
  },
  {
   "cell_type": "code",
   "execution_count": 113,
   "metadata": {},
   "outputs": [],
   "source": [
    "class ArrayDataset(Dataset):\n",
    "\n",
    "    def __init__(self, user, item, rating, transform=None):\n",
    "        self.user = user\n",
    "        self.item = item\n",
    "        self.rating = rating\n",
    "        self.transform = transform\n",
    "\n",
    "    def __getitem__(self, idx):\n",
    "        arr = np.column_stack((self.user, self.item, self.rating))\n",
    "        if self.transform:\n",
    "            arr = self.transform(arr)\n",
    "        return torch.Tensor(arr[idx])\n",
    "\n",
    "    def __len__(self):\n",
    "        return len(self.user)"
   ]
  },
  {
   "cell_type": "code",
   "execution_count": 156,
   "metadata": {},
   "outputs": [],
   "source": [
    "def collate_batch(batch):\n",
    "    # print('fn', type(batch), len(batch), batch[0])\n",
    "    # batch는 tensor가 batch size만큼 들어간 리스트\n",
    "    batch = torch.stack(batch)\n",
    "    return batch[:, 0], batch[:, 1], batch[:, 2]"
   ]
  },
  {
   "cell_type": "code",
   "execution_count": 157,
   "metadata": {},
   "outputs": [],
   "source": [
    "def split_and_load_ml100k(split_mode='seq-aware', feedback='explicit',\n",
    "                          test_ratio=0.1, batch_size=256):\n",
    "    data, num_users, num_items = read_data_ml100k()\n",
    "    # df load\n",
    "    train_data, test_data = split_data_ml100k(\n",
    "        data, num_users, num_items, split_mode, test_ratio)\n",
    "    # user, item, rating load\n",
    "    train_u, train_i, train_r, _ = load_data_ml100k(\n",
    "        train_data, num_users, num_items, feedback)\n",
    "    test_u, test_i, test_r, _ = load_data_ml100k(\n",
    "        test_data, num_users, num_items, feedback)\n",
    "    # u,i,r을 묶어서 해당 idx 반환\n",
    "    train_set = ArrayDataset(\n",
    "        np.array(train_u), np.array(train_i), np.array(train_r))\n",
    "    test_set = ArrayDataset(\n",
    "        np.array(test_u), np.array(test_i), np.array(test_r))\n",
    "    # u, i, r를 batch 단위의 tensor로 반환\n",
    "    train_iter = DataLoader(\n",
    "        train_set, shuffle=True,\n",
    "        batch_size=batch_size, \n",
    "        collate_fn=collate_batch\n",
    "        )\n",
    "    test_iter = DataLoader(\n",
    "        test_set, batch_size=batch_size, \n",
    "        collate_fn=collate_batch\n",
    "        )\n",
    "    return num_users, num_items, train_iter, test_iter"
   ]
  },
  {
   "cell_type": "code",
   "execution_count": 158,
   "metadata": {},
   "outputs": [],
   "source": [
    "from torch import nn\n",
    "\n",
    "class MF(nn.Module):\n",
    "    def __init__(self, num_factors, num_users, num_items, **kwargs):\n",
    "        super(MF, self).__init__(**kwargs)\n",
    "        self.P = nn.Embedding(num_users, num_factors)\n",
    "        self.Q = nn.Embedding(num_items, num_factors)\n",
    "        self.user_bias = nn.Embedding(num_users, 1)\n",
    "        self.item_bias = nn.Embedding(num_items, 1)\n",
    "\n",
    "    def forward(self, user_id, item_id):\n",
    "        P_u = self.P(user_id)\n",
    "        Q_i = self.Q(item_id)\n",
    "        b_u = self.user_bias(user_id)\n",
    "        b_i = self.item_bias(item_id)\n",
    "        outputs = (P_u * Q_i).sum(axis=1) + np.squeeze(b_u) + np.squeeze(b_i)\n",
    "        return outputs.flatten()"
   ]
  },
  {
   "cell_type": "code",
   "execution_count": 159,
   "metadata": {},
   "outputs": [],
   "source": [
    "class RMSELoss(torch.nn.Module):\n",
    "    def __init__(self):\n",
    "        super(RMSELoss, self).__init__()\n",
    "\n",
    "    def forward(self, x, y):\n",
    "        criterion = nn.MSELoss()\n",
    "        eps = 1e-6\n",
    "        loss = torch.sqrt(criterion(x, y) + eps)\n",
    "        return loss"
   ]
  },
  {
   "cell_type": "code",
   "execution_count": 160,
   "metadata": {},
   "outputs": [
    {
     "name": "stderr",
     "output_type": "stream",
     "text": [
      "C:\\Users\\jiwoo\\AppData\\Local\\Temp\\ipykernel_17852\\3859620364.py:3: FutureWarning: In a future version of pandas all arguments of read_csv except for the argument 'filepath_or_buffer' will be keyword-only.\n",
      "  data, num_users, num_items = read_data_ml100k()\n"
     ]
    }
   ],
   "source": [
    "num_users, num_items, train_iter, test_iter = split_and_load_ml100k(\n",
    "    test_ratio=0.1, batch_size=512)\n"
   ]
  },
  {
   "cell_type": "code",
   "execution_count": 161,
   "metadata": {},
   "outputs": [],
   "source": [
    "batch = next(iter(train_iter))"
   ]
  },
  {
   "cell_type": "code",
   "execution_count": 170,
   "metadata": {},
   "outputs": [
    {
     "data": {
      "text/plain": [
       "MF(\n",
       "  (P): Embedding(943, 30)\n",
       "  (Q): Embedding(1682, 30)\n",
       "  (user_bias): Embedding(943, 1)\n",
       "  (item_bias): Embedding(1682, 1)\n",
       ")"
      ]
     },
     "execution_count": 170,
     "metadata": {},
     "output_type": "execute_result"
    }
   ],
   "source": [
    "model = MF(30, num_users, num_items)\n",
    "device = torch.device('cuda' if torch.cuda.is_available() else 'cpu')\n",
    "model.to(device)\n"
   ]
  },
  {
   "cell_type": "code",
   "execution_count": 179,
   "metadata": {},
   "outputs": [],
   "source": [
    "lr, num_epochs, wd = 0.002, 20, 1e-5\n",
    "\n",
    "loss_func = RMSELoss()\n",
    "optimizer = torch.optim.Adam(model.parameters(), lr = lr)"
   ]
  },
  {
   "cell_type": "code",
   "execution_count": 181,
   "metadata": {},
   "outputs": [
    {
     "name": "stderr",
     "output_type": "stream",
     "text": [
      "100%|██████████| 20/20 [18:30<00:00, 55.55s/it]\n"
     ]
    }
   ],
   "source": [
    "from tqdm import tqdm\n",
    "import glob\n",
    "\n",
    "train_loss = []\n",
    "best_val_epoch_loss = int(1e9)\n",
    "for epoch in tqdm(range(num_epochs)):\n",
    "  loss_arr = []\n",
    "  for i, values in enumerate(train_iter):\n",
    "    train_user = values[0].long().to(device)\n",
    "    train_item = values[1].long().to(device)\n",
    "    labels = values[2].to(device)\n",
    "    preds = model(train_user, train_item)\n",
    "    loss = loss_func(preds, labels)\n",
    "    optimizer.zero_grad()\n",
    "    loss.backward()\n",
    "    optimizer.step()\n",
    "    loss_arr.append(loss.detach().item())\n",
    "    if i%10 == 0:\n",
    "      train_loss.append(np.mean(loss_arr))   \n",
    "  with torch.no_grad():\n",
    "    model.eval()\n",
    "    val_epoch_loss = 0\n",
    "    for i, values in enumerate(test_iter):\n",
    "      test_user = values[0].long().to(device)\n",
    "      test_item = values[1].long().to(device)\n",
    "      labels = values[2].to(device)\n",
    "      preds = model(test_user, test_item)\n",
    "      loss = loss_func(preds, labels)\n",
    "      val_epoch_loss += loss.detach().item()\n",
    "  val_epoch_loss /= len(test_iter)\n",
    "  if val_epoch_loss < best_val_epoch_loss:\n",
    "    best_val_epoch_loss = val_epoch_loss\n",
    "    print(f'New best model loss: {best_val_epoch_loss}')\n",
    "    if not os.path.exists('model'):\n",
    "      os.mkdir('model')\n",
    "\n",
    "    if os.path.exists('model/best.pth'):\n",
    "      os.remove('model/best.pth')\n",
    "    torch.save(model.state_dict(), 'model/best.pth')\n",
    "    print('best model is saved!')\n",
    "    "
   ]
  },
  {
   "cell_type": "markdown",
   "metadata": {},
   "source": [
    "validation 재는거 추가\n",
    "loss print 추가 \n"
   ]
  }
 ],
 "metadata": {
  "interpreter": {
   "hash": "93865c8914045f82f1cc4174d5a9f6658a56058b431eb3568707e1e9b23cbcf9"
  },
  "kernelspec": {
   "display_name": "Python 3.9.7 ('bc')",
   "language": "python",
   "name": "python3"
  },
  "language_info": {
   "codemirror_mode": {
    "name": "ipython",
    "version": 3
   },
   "file_extension": ".py",
   "mimetype": "text/x-python",
   "name": "python",
   "nbconvert_exporter": "python",
   "pygments_lexer": "ipython3",
   "version": "3.9.7"
  },
  "orig_nbformat": 4
 },
 "nbformat": 4,
 "nbformat_minor": 2
}
