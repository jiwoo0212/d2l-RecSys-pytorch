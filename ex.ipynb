{
 "cells": [
  {
   "cell_type": "code",
   "execution_count": 1,
   "metadata": {},
   "outputs": [
    {
     "ename": "NameError",
     "evalue": "name 'd2l' is not defined",
     "output_type": "error",
     "traceback": [
      "\u001b[1;31m---------------------------------------------------------------------------\u001b[0m",
      "\u001b[1;31mNameError\u001b[0m                                 Traceback (most recent call last)",
      "\u001b[1;32mc:\\Users\\jiwoo\\WORK\\GITHUB\\d2l-RecSys-pytorch\\ex.ipynb Cell 1'\u001b[0m in \u001b[0;36m<module>\u001b[1;34m\u001b[0m\n\u001b[1;32m----> <a href='vscode-notebook-cell:/c%3A/Users/jiwoo/WORK/GITHUB/d2l-RecSys-pytorch/ex.ipynb#ch0000000?line=0'>1</a>\u001b[0m \u001b[39mfrom\u001b[39;00m \u001b[39mtrain\u001b[39;00m \u001b[39mimport\u001b[39;00m \u001b[39m*\u001b[39m\n\u001b[0;32m      <a href='vscode-notebook-cell:/c%3A/Users/jiwoo/WORK/GITHUB/d2l-RecSys-pytorch/ex.ipynb#ch0000000?line=1'>2</a>\u001b[0m \u001b[39mfrom\u001b[39;00m \u001b[39mloss\u001b[39;00m \u001b[39mimport\u001b[39;00m \u001b[39m*\u001b[39m\n\u001b[0;32m      <a href='vscode-notebook-cell:/c%3A/Users/jiwoo/WORK/GITHUB/d2l-RecSys-pytorch/ex.ipynb#ch0000000?line=2'>3</a>\u001b[0m \u001b[39mfrom\u001b[39;00m \u001b[39mdataset\u001b[39;00m \u001b[39mimport\u001b[39;00m \u001b[39m*\u001b[39m\n",
      "File \u001b[1;32mc:\\Users\\jiwoo\\WORK\\GITHUB\\d2l-RecSys-pytorch\\train.py:25\u001b[0m, in \u001b[0;36m<module>\u001b[1;34m\u001b[0m\n\u001b[0;32m     <a href='file:///c%3A/Users/jiwoo/WORK/GITHUB/d2l-RecSys-pytorch/train.py?line=20'>21</a>\u001b[0m         rmse_list\u001b[39m.\u001b[39mappend(rmse\u001b[39m.\u001b[39mget()[\u001b[39m1\u001b[39m])\n\u001b[0;32m     <a href='file:///c%3A/Users/jiwoo/WORK/GITHUB/d2l-RecSys-pytorch/train.py?line=21'>22</a>\u001b[0m     \u001b[39mreturn\u001b[39;00m \u001b[39mfloat\u001b[39m(np\u001b[39m.\u001b[39mmean(np\u001b[39m.\u001b[39marray(rmse_list)))\n\u001b[0;32m     <a href='file:///c%3A/Users/jiwoo/WORK/GITHUB/d2l-RecSys-pytorch/train.py?line=23'>24</a>\u001b[0m \u001b[39mdef\u001b[39;00m \u001b[39mtrain_recsys_rating\u001b[39m(net, train_iter, test_iter, loss, trainer, num_epochs,\n\u001b[1;32m---> <a href='file:///c%3A/Users/jiwoo/WORK/GITHUB/d2l-RecSys-pytorch/train.py?line=24'>25</a>\u001b[0m                         devices\u001b[39m=\u001b[39md2l\u001b[39m.\u001b[39mtry_all_gpus(), evaluator\u001b[39m=\u001b[39m\u001b[39mNone\u001b[39;00m,\n\u001b[0;32m     <a href='file:///c%3A/Users/jiwoo/WORK/GITHUB/d2l-RecSys-pytorch/train.py?line=25'>26</a>\u001b[0m                         \u001b[39m*\u001b[39m\u001b[39m*\u001b[39mkwargs):\n\u001b[0;32m     <a href='file:///c%3A/Users/jiwoo/WORK/GITHUB/d2l-RecSys-pytorch/train.py?line=26'>27</a>\u001b[0m     timer \u001b[39m=\u001b[39m d2l\u001b[39m.\u001b[39mTimer()\n\u001b[0;32m     <a href='file:///c%3A/Users/jiwoo/WORK/GITHUB/d2l-RecSys-pytorch/train.py?line=27'>28</a>\u001b[0m     animator \u001b[39m=\u001b[39m d2l\u001b[39m.\u001b[39mAnimator(xlabel\u001b[39m=\u001b[39m\u001b[39m'\u001b[39m\u001b[39mepoch\u001b[39m\u001b[39m'\u001b[39m, xlim\u001b[39m=\u001b[39m[\u001b[39m1\u001b[39m, num_epochs], ylim\u001b[39m=\u001b[39m[\u001b[39m0\u001b[39m, \u001b[39m2\u001b[39m],\n\u001b[0;32m     <a href='file:///c%3A/Users/jiwoo/WORK/GITHUB/d2l-RecSys-pytorch/train.py?line=28'>29</a>\u001b[0m                             legend\u001b[39m=\u001b[39m[\u001b[39m'\u001b[39m\u001b[39mtrain loss\u001b[39m\u001b[39m'\u001b[39m, \u001b[39m'\u001b[39m\u001b[39mtest RMSE\u001b[39m\u001b[39m'\u001b[39m])\n",
      "\u001b[1;31mNameError\u001b[0m: name 'd2l' is not defined"
     ]
    }
   ],
   "source": [
    "from train import *\n",
    "from loss import *"
   ]
  },
  {
   "cell_type": "code",
   "execution_count": 2,
   "metadata": {},
   "outputs": [],
   "source": [
    "from dataset import *"
   ]
  },
  {
   "cell_type": "code",
   "execution_count": 3,
   "metadata": {},
   "outputs": [
    {
     "name": "stderr",
     "output_type": "stream",
     "text": [
      "c:\\Users\\jiwoo\\WORK\\GITHUB\\d2l-RecSys-pytorch\\dataset.py:100: FutureWarning: In a future version of pandas all arguments of read_csv except for the argument 'filepath_or_buffer' will be keyword-only.\n",
      "  data, num_users, num_items = read_data_ml100k()\n"
     ]
    }
   ],
   "source": [
    "num_users, num_items, train_iter, test_iter = split_and_load_ml100k()"
   ]
  },
  {
   "cell_type": "code",
   "execution_count": 6,
   "metadata": {},
   "outputs": [
    {
     "data": {
      "text/plain": [
       "(943, 1682)"
      ]
     },
     "execution_count": 6,
     "metadata": {},
     "output_type": "execute_result"
    }
   ],
   "source": [
    "num_users, num_items"
   ]
  },
  {
   "cell_type": "code",
   "execution_count": 9,
   "metadata": {},
   "outputs": [],
   "source": [
    "batch = next(iter(train_iter))"
   ]
  },
  {
   "cell_type": "code",
   "execution_count": 10,
   "metadata": {},
   "outputs": [
    {
     "data": {
      "text/plain": [
       "3"
      ]
     },
     "execution_count": 10,
     "metadata": {},
     "output_type": "execute_result"
    }
   ],
   "source": [
    "len(batch)"
   ]
  },
  {
   "cell_type": "code",
   "execution_count": 11,
   "metadata": {},
   "outputs": [
    {
     "data": {
      "text/plain": [
       "256"
      ]
     },
     "execution_count": 11,
     "metadata": {},
     "output_type": "execute_result"
    }
   ],
   "source": [
    "len(batch[0])"
   ]
  },
  {
   "cell_type": "code",
   "execution_count": null,
   "metadata": {},
   "outputs": [],
   "source": []
  }
 ],
 "metadata": {
  "interpreter": {
   "hash": "93865c8914045f82f1cc4174d5a9f6658a56058b431eb3568707e1e9b23cbcf9"
  },
  "kernelspec": {
   "display_name": "Python 3.9.7 ('bc')",
   "language": "python",
   "name": "python3"
  },
  "language_info": {
   "codemirror_mode": {
    "name": "ipython",
    "version": 3
   },
   "file_extension": ".py",
   "mimetype": "text/x-python",
   "name": "python",
   "nbconvert_exporter": "python",
   "pygments_lexer": "ipython3",
   "version": "3.9.7"
  },
  "orig_nbformat": 4
 },
 "nbformat": 4,
 "nbformat_minor": 2
}
